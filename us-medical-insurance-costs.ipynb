{
 "cells": [
  {
   "cell_type": "markdown",
   "metadata": {},
   "source": [
    "# U.S. Medical Insurance Costs"
   ]
  },
  {
   "cell_type": "markdown",
   "metadata": {},
   "source": [
    "In this project, we will work with US medical insurance data that is stored in CSV file as **insurance.csv**. We will apply Python fundamentals and use Pandas to extract the patients' data. After that, we will analyze the data with Pandas, Numpy, SciPy and Statsmodels, and present them in a visually appealing figures with Matplotlib and Seaborn.\n",
    "\n",
    "## Purpose\n",
    "The <span style= 'color:goldenrod'> **main purpose** </span> of this project is to have a better understanding of how different factors in patient medical records contibute to their final insurance cost, and whether one factor is associated with another. I will be using a hint to statitics, hypothesis testing and visualization to confirm such associations.\n",
    "\n",
    "The project is divided into four sections:\n",
    "* <span style= 'color:steelblue'> Inspecting the Data with Pandas: </span>\n",
    "\n",
    "to have an outlook about the file we are about to work with, check for missing data.\n",
    "* <span style= 'color:steelblue'> Extracting Data for Analysis: </span>\n",
    "\n",
    "reading the csv file, storing the patients data in lists to use later on, fixing data types.\n",
    "* <span style= 'color:steelblue'> Data Analysis: </span>\n",
    "\n",
    "constructing a class to work with patients data, inspecting how each factor is related to insurance cost, how one factor is related to another and checking for associations using visualization and statistics.\n",
    "* <span style= 'color:steelblue'> Conclusions </span>"
   ]
  },
  {
   "cell_type": "code",
   "execution_count": 896,
   "metadata": {},
   "outputs": [],
   "source": [
    "# importing libraries\n",
    "import pandas as pd\n",
    "import csv\n",
    "import numpy as np\n",
    "import seaborn as sns\n",
    "import matplotlib.pyplot as plt\n",
    "import scipy.stats as stat\n",
    "from statsmodels.stats.multicomp import pairwise_tukeyhsd\n"
   ]
  },
  {
   "cell_type": "code",
   "execution_count": 897,
   "metadata": {},
   "outputs": [
    {
     "data": {
      "text/html": [
       "\n",
       "<style>\n",
       ".output_png {\n",
       "    display: table-cell;\n",
       "    text-align: center;\n",
       "    vertical-align: middle;\n",
       "}\n",
       "</style>\n"
      ],
      "text/plain": [
       "<IPython.core.display.HTML object>"
      ]
     },
     "execution_count": 897,
     "metadata": {},
     "output_type": "execute_result"
    }
   ],
   "source": [
    "from IPython.core.display import HTML\n",
    "HTML(\"\"\"\n",
    "<style>\n",
    ".output_png {\n",
    "    display: table-cell;\n",
    "    text-align: center;\n",
    "    vertical-align: middle;\n",
    "}\n",
    "</style>\n",
    "\"\"\")"
   ]
  },
  {
   "cell_type": "markdown",
   "metadata": {},
   "source": [
    "## Inspecting the Data with Pandas"
   ]
  },
  {
   "cell_type": "markdown",
   "metadata": {},
   "source": [
    "First, I will be reading **insurance.csv** using Pandas library and inspecting the first 5 rows to have an idea about the data we are working with."
   ]
  },
  {
   "cell_type": "code",
   "execution_count": 898,
   "metadata": {},
   "outputs": [
    {
     "data": {
      "text/html": [
       "<div>\n",
       "<style scoped>\n",
       "    .dataframe tbody tr th:only-of-type {\n",
       "        vertical-align: middle;\n",
       "    }\n",
       "\n",
       "    .dataframe tbody tr th {\n",
       "        vertical-align: top;\n",
       "    }\n",
       "\n",
       "    .dataframe thead th {\n",
       "        text-align: right;\n",
       "    }\n",
       "</style>\n",
       "<table border=\"1\" class=\"dataframe\">\n",
       "  <thead>\n",
       "    <tr style=\"text-align: right;\">\n",
       "      <th></th>\n",
       "      <th>age</th>\n",
       "      <th>sex</th>\n",
       "      <th>bmi</th>\n",
       "      <th>children</th>\n",
       "      <th>smoker</th>\n",
       "      <th>region</th>\n",
       "      <th>charges</th>\n",
       "    </tr>\n",
       "  </thead>\n",
       "  <tbody>\n",
       "    <tr>\n",
       "      <th>0</th>\n",
       "      <td>19</td>\n",
       "      <td>female</td>\n",
       "      <td>27.900</td>\n",
       "      <td>0</td>\n",
       "      <td>yes</td>\n",
       "      <td>southwest</td>\n",
       "      <td>16884.92400</td>\n",
       "    </tr>\n",
       "    <tr>\n",
       "      <th>1</th>\n",
       "      <td>18</td>\n",
       "      <td>male</td>\n",
       "      <td>33.770</td>\n",
       "      <td>1</td>\n",
       "      <td>no</td>\n",
       "      <td>southeast</td>\n",
       "      <td>1725.55230</td>\n",
       "    </tr>\n",
       "    <tr>\n",
       "      <th>2</th>\n",
       "      <td>28</td>\n",
       "      <td>male</td>\n",
       "      <td>33.000</td>\n",
       "      <td>3</td>\n",
       "      <td>no</td>\n",
       "      <td>southeast</td>\n",
       "      <td>4449.46200</td>\n",
       "    </tr>\n",
       "    <tr>\n",
       "      <th>3</th>\n",
       "      <td>33</td>\n",
       "      <td>male</td>\n",
       "      <td>22.705</td>\n",
       "      <td>0</td>\n",
       "      <td>no</td>\n",
       "      <td>northwest</td>\n",
       "      <td>21984.47061</td>\n",
       "    </tr>\n",
       "    <tr>\n",
       "      <th>4</th>\n",
       "      <td>32</td>\n",
       "      <td>male</td>\n",
       "      <td>28.880</td>\n",
       "      <td>0</td>\n",
       "      <td>no</td>\n",
       "      <td>northwest</td>\n",
       "      <td>3866.85520</td>\n",
       "    </tr>\n",
       "  </tbody>\n",
       "</table>\n",
       "</div>"
      ],
      "text/plain": [
       "   age     sex     bmi  children smoker     region      charges\n",
       "0   19  female  27.900         0    yes  southwest  16884.92400\n",
       "1   18    male  33.770         1     no  southeast   1725.55230\n",
       "2   28    male  33.000         3     no  southeast   4449.46200\n",
       "3   33    male  22.705         0     no  northwest  21984.47061\n",
       "4   32    male  28.880         0     no  northwest   3866.85520"
      ]
     },
     "execution_count": 898,
     "metadata": {},
     "output_type": "execute_result"
    }
   ],
   "source": [
    "# reading csv file into a dataframe with Pandas and inspecting the first five rows \n",
    "insurance = pd.read_csv('insurance.csv')\n",
    "insurance.head()"
   ]
  },
  {
   "cell_type": "code",
   "execution_count": 899,
   "metadata": {},
   "outputs": [
    {
     "data": {
      "text/html": [
       "<div>\n",
       "<style scoped>\n",
       "    .dataframe tbody tr th:only-of-type {\n",
       "        vertical-align: middle;\n",
       "    }\n",
       "\n",
       "    .dataframe tbody tr th {\n",
       "        vertical-align: top;\n",
       "    }\n",
       "\n",
       "    .dataframe thead th {\n",
       "        text-align: right;\n",
       "    }\n",
       "</style>\n",
       "<table border=\"1\" class=\"dataframe\">\n",
       "  <thead>\n",
       "    <tr style=\"text-align: right;\">\n",
       "      <th></th>\n",
       "      <th>age</th>\n",
       "      <th>sex</th>\n",
       "      <th>bmi</th>\n",
       "      <th>children</th>\n",
       "      <th>smoker</th>\n",
       "      <th>region</th>\n",
       "      <th>charges</th>\n",
       "    </tr>\n",
       "  </thead>\n",
       "  <tbody>\n",
       "    <tr>\n",
       "      <th>count</th>\n",
       "      <td>1338.000000</td>\n",
       "      <td>1338</td>\n",
       "      <td>1338.000000</td>\n",
       "      <td>1338.000000</td>\n",
       "      <td>1338</td>\n",
       "      <td>1338</td>\n",
       "      <td>1338.000000</td>\n",
       "    </tr>\n",
       "    <tr>\n",
       "      <th>unique</th>\n",
       "      <td>NaN</td>\n",
       "      <td>2</td>\n",
       "      <td>NaN</td>\n",
       "      <td>NaN</td>\n",
       "      <td>2</td>\n",
       "      <td>4</td>\n",
       "      <td>NaN</td>\n",
       "    </tr>\n",
       "    <tr>\n",
       "      <th>top</th>\n",
       "      <td>NaN</td>\n",
       "      <td>male</td>\n",
       "      <td>NaN</td>\n",
       "      <td>NaN</td>\n",
       "      <td>no</td>\n",
       "      <td>southeast</td>\n",
       "      <td>NaN</td>\n",
       "    </tr>\n",
       "    <tr>\n",
       "      <th>freq</th>\n",
       "      <td>NaN</td>\n",
       "      <td>676</td>\n",
       "      <td>NaN</td>\n",
       "      <td>NaN</td>\n",
       "      <td>1064</td>\n",
       "      <td>364</td>\n",
       "      <td>NaN</td>\n",
       "    </tr>\n",
       "    <tr>\n",
       "      <th>mean</th>\n",
       "      <td>39.207025</td>\n",
       "      <td>NaN</td>\n",
       "      <td>30.663397</td>\n",
       "      <td>1.094918</td>\n",
       "      <td>NaN</td>\n",
       "      <td>NaN</td>\n",
       "      <td>13270.422265</td>\n",
       "    </tr>\n",
       "    <tr>\n",
       "      <th>std</th>\n",
       "      <td>14.049960</td>\n",
       "      <td>NaN</td>\n",
       "      <td>6.098187</td>\n",
       "      <td>1.205493</td>\n",
       "      <td>NaN</td>\n",
       "      <td>NaN</td>\n",
       "      <td>12110.011237</td>\n",
       "    </tr>\n",
       "    <tr>\n",
       "      <th>min</th>\n",
       "      <td>18.000000</td>\n",
       "      <td>NaN</td>\n",
       "      <td>15.960000</td>\n",
       "      <td>0.000000</td>\n",
       "      <td>NaN</td>\n",
       "      <td>NaN</td>\n",
       "      <td>1121.873900</td>\n",
       "    </tr>\n",
       "    <tr>\n",
       "      <th>25%</th>\n",
       "      <td>27.000000</td>\n",
       "      <td>NaN</td>\n",
       "      <td>26.296250</td>\n",
       "      <td>0.000000</td>\n",
       "      <td>NaN</td>\n",
       "      <td>NaN</td>\n",
       "      <td>4740.287150</td>\n",
       "    </tr>\n",
       "    <tr>\n",
       "      <th>50%</th>\n",
       "      <td>39.000000</td>\n",
       "      <td>NaN</td>\n",
       "      <td>30.400000</td>\n",
       "      <td>1.000000</td>\n",
       "      <td>NaN</td>\n",
       "      <td>NaN</td>\n",
       "      <td>9382.033000</td>\n",
       "    </tr>\n",
       "    <tr>\n",
       "      <th>75%</th>\n",
       "      <td>51.000000</td>\n",
       "      <td>NaN</td>\n",
       "      <td>34.693750</td>\n",
       "      <td>2.000000</td>\n",
       "      <td>NaN</td>\n",
       "      <td>NaN</td>\n",
       "      <td>16639.912515</td>\n",
       "    </tr>\n",
       "    <tr>\n",
       "      <th>max</th>\n",
       "      <td>64.000000</td>\n",
       "      <td>NaN</td>\n",
       "      <td>53.130000</td>\n",
       "      <td>5.000000</td>\n",
       "      <td>NaN</td>\n",
       "      <td>NaN</td>\n",
       "      <td>63770.428010</td>\n",
       "    </tr>\n",
       "  </tbody>\n",
       "</table>\n",
       "</div>"
      ],
      "text/plain": [
       "                age   sex          bmi     children smoker     region  \\\n",
       "count   1338.000000  1338  1338.000000  1338.000000   1338       1338   \n",
       "unique          NaN     2          NaN          NaN      2          4   \n",
       "top             NaN  male          NaN          NaN     no  southeast   \n",
       "freq            NaN   676          NaN          NaN   1064        364   \n",
       "mean      39.207025   NaN    30.663397     1.094918    NaN        NaN   \n",
       "std       14.049960   NaN     6.098187     1.205493    NaN        NaN   \n",
       "min       18.000000   NaN    15.960000     0.000000    NaN        NaN   \n",
       "25%       27.000000   NaN    26.296250     0.000000    NaN        NaN   \n",
       "50%       39.000000   NaN    30.400000     1.000000    NaN        NaN   \n",
       "75%       51.000000   NaN    34.693750     2.000000    NaN        NaN   \n",
       "max       64.000000   NaN    53.130000     5.000000    NaN        NaN   \n",
       "\n",
       "             charges  \n",
       "count    1338.000000  \n",
       "unique           NaN  \n",
       "top              NaN  \n",
       "freq             NaN  \n",
       "mean    13270.422265  \n",
       "std     12110.011237  \n",
       "min      1121.873900  \n",
       "25%      4740.287150  \n",
       "50%      9382.033000  \n",
       "75%     16639.912515  \n",
       "max     63770.428010  "
      ]
     },
     "execution_count": 899,
     "metadata": {},
     "output_type": "execute_result"
    }
   ],
   "source": [
    "# gets descriptive statistics about the data\n",
    "insurance.describe(include= 'all')"
   ]
  },
  {
   "cell_type": "code",
   "execution_count": 900,
   "metadata": {
    "scrolled": true
   },
   "outputs": [
    {
     "data": {
      "text/plain": [
       "Index(['age', 'sex', 'bmi', 'children', 'smoker', 'region', 'charges'], dtype='object')"
      ]
     },
     "execution_count": 900,
     "metadata": {},
     "output_type": "execute_result"
    }
   ],
   "source": [
    "# checking column names\n",
    "insurance.columns"
   ]
  },
  {
   "cell_type": "code",
   "execution_count": 901,
   "metadata": {
    "scrolled": false
   },
   "outputs": [
    {
     "data": {
      "text/plain": [
       "age         False\n",
       "sex         False\n",
       "bmi         False\n",
       "children    False\n",
       "smoker      False\n",
       "region      False\n",
       "charges     False\n",
       "dtype: bool"
      ]
     },
     "execution_count": 901,
     "metadata": {},
     "output_type": "execute_result"
    }
   ],
   "source": [
    "# checking for missing values\n",
    "insurance.isnull().any()"
   ]
  },
  {
   "cell_type": "code",
   "execution_count": 902,
   "metadata": {
    "scrolled": true
   },
   "outputs": [
    {
     "data": {
      "text/plain": [
       "age           int64\n",
       "sex          object\n",
       "bmi         float64\n",
       "children      int64\n",
       "smoker       object\n",
       "region       object\n",
       "charges     float64\n",
       "dtype: object"
      ]
     },
     "execution_count": 902,
     "metadata": {},
     "output_type": "execute_result"
    }
   ],
   "source": [
    "# checking data types of each column\n",
    "insurance.dtypes"
   ]
  },
  {
   "cell_type": "markdown",
   "metadata": {},
   "source": [
    "We note that:\n",
    "- total number of patients in the **insurance.csv** is 1338 patients\n",
    "- there are seven columns: `age`, `sex`, `bmi`, `children`, `smoker`, `region` and `charges`\n",
    "- there is no missing data in any of the seven columns\n",
    "- `age`, `bmi`, `children` and `charges` are numerical/quantitve variables\n",
    "- `age` and `children` are integers, whereas `bmi` and `charges` are floats\n",
    "- `sex`, `smoker` and `region` are categorical variables\n",
    "- `sex` and `smoker` are binary categorical variables\n",
    "\n",
    "> and even more information about the data ..\n",
    "\n",
    "- `age`:\n",
    "    - avergae age of all patients is 39.2 ± 14.1 years old \n",
    "    - youngest and oldest patients are 18 and 64 years old, respectively \n",
    "    - median age of patients is 39 years old\n",
    "    - 50% of patients has an age ranging between 27 and 51 years old\n",
    "    - average and median values suggest that the data is normally distibuted\n",
    "- `sex`:\n",
    "    - there are two unqiue values, male and female\n",
    "    - males are more than females with 676 male patients out of 1338\n",
    "- `bmi`:\n",
    "    - average bmi of all patients is 30.7 ± 6.1 'obese range'\n",
    "    - lowest BMI is 15.9 and the highest BMI is 53.13\n",
    "    - median BMI is 30.4 'obese range'\n",
    "    - average and median values suggest that the data is normally distibuted\n",
    "- `children`:\n",
    "    - the number of children patient has ranges between 0 to 5 children\n",
    "    - average number of children is 1 child\n",
    "    - 50% of patients has 0 to 2 children\n",
    "- `smoker`:\n",
    "    - there are two unqiue values, no and yes\n",
    "    - most patients in the data are non-smokers with 1064 non-smokers out 1338\n",
    "-`region`:\n",
    "    - there are four unique regions\n",
    "    - most patients are from southeast with 364 out of 1338\n",
    "- `charges`:\n",
    "    - average insurance cost of all patients is \\$13,270.42 ± 12,110.01\n",
    "    - the lowest insurance cost is \\\\$1,121.87 and the highest is \\\\$63,770.43\n",
    "    - median insurance cost is \\\\$9,382.03\n",
    "    - average and median values suggest that there might be more 'low' insurance cost patients\n",
    "    - 50% of patients pay between \\\\$4,740.29 - \\$16,639.91 per year\n",
    "\n"
   ]
  },
  {
   "cell_type": "markdown",
   "metadata": {},
   "source": [
    "# Extracting Data for Analysis\n",
    "\n",
    "Using Pandas, we were able to form an idea about the data which we will be working with. So far, we know that **insurance.csv** contains the following data:\n",
    "\n",
    "* **Patient age:** integer saved as a string\n",
    "* **Patient sex:** string either male or female\n",
    "* **Patient BMI (body mass index):** float saved as a string\n",
    "* **Number of children the patient has:** integer saved as a string\n",
    "* **Smoking status of patient:** either yes for smokers or no for non-smokers\n",
    "* **Patient US geographical region:** a string\n",
    "* **Patient yearly insurance costs:** in USD, float saved as a string\n",
    "\n",
    "The columns are named as follows in the csv file: `age`, `sex`, `bmi`, `children`, `smoker`, `region` and `charges`.\n",
    "\n",
    "To work with the data, we created an empty list for each of the seven columns to store the associated data in.\n",
    "\n",
    "We need to read the csv file using the function `data_reader()` that takes 3 arugments; csv file name, column name and the corresponding empty list. For example, `ages` list will take in the data from `age` column.\n",
    "\n",
    "\n"
   ]
  },
  {
   "cell_type": "code",
   "execution_count": 903,
   "metadata": {},
   "outputs": [],
   "source": [
    "# creating empty lists for each column to store the data\n",
    "ages = []\n",
    "genders = []\n",
    "bmis = []\n",
    "num_of_children = []\n",
    "smoking_statuses = []\n",
    "regions = []\n",
    "insurance_costs = []"
   ]
  },
  {
   "cell_type": "markdown",
   "metadata": {},
   "source": [
    "The function `data_reader` reads **insurance.csv**, iterates through every row and appends column data into the corresponding empty list from above:"
   ]
  },
  {
   "cell_type": "code",
   "execution_count": 904,
   "metadata": {},
   "outputs": [],
   "source": [
    "# the function data_reader() takes three arguments;\n",
    "# file: the csv file to be read and extract data from\n",
    "# column: the column's name\n",
    "# lst: an empty list from above to store the data in\n",
    "\n",
    "def data_reader(file, column, lst):\n",
    "    with open(file) as file_csv:\n",
    "        file_data = csv.DictReader(file_csv)\n",
    "        for row in file_data:\n",
    "            lst.append(row[column])\n",
    "          \n",
    "        return lst  "
   ]
  },
  {
   "cell_type": "code",
   "execution_count": 905,
   "metadata": {
    "scrolled": false
   },
   "outputs": [
    {
     "name": "stdout",
     "output_type": "stream",
     "text": [
      "['19', '18', '28', '33', '32', '31', '46', '37', '37', '60']\n"
     ]
    }
   ],
   "source": [
    "# example: reading and storing ages of patients from insurance.csv file into ages list\n",
    "# inspecting only the first 10 patient ages' for readibility\n",
    "\n",
    "print(data_reader('insurance.csv', 'age', ages)[:10])"
   ]
  },
  {
   "cell_type": "markdown",
   "metadata": {},
   "source": [
    "Filling the rest of empty lists with data from **insurance.csv** :"
   ]
  },
  {
   "cell_type": "code",
   "execution_count": 906,
   "metadata": {},
   "outputs": [
    {
     "data": {
      "text/plain": [
       "['16884.924',\n",
       " '1725.5523',\n",
       " '4449.462',\n",
       " '21984.47061',\n",
       " '3866.8552',\n",
       " '3756.6216',\n",
       " '8240.5896',\n",
       " '7281.5056',\n",
       " '6406.4107',\n",
       " '28923.13692',\n",
       " '2721.3208',\n",
       " '27808.7251',\n",
       " '1826.843',\n",
       " '11090.7178',\n",
       " '39611.7577',\n",
       " '1837.237',\n",
       " '10797.3362',\n",
       " '2395.17155',\n",
       " '10602.385',\n",
       " '36837.467',\n",
       " '13228.84695',\n",
       " '4149.736',\n",
       " '1137.011',\n",
       " '37701.8768',\n",
       " '6203.90175',\n",
       " '14001.1338',\n",
       " '14451.83515',\n",
       " '12268.63225',\n",
       " '2775.19215',\n",
       " '38711',\n",
       " '35585.576',\n",
       " '2198.18985',\n",
       " '4687.797',\n",
       " '13770.0979',\n",
       " '51194.55914',\n",
       " '1625.43375',\n",
       " '15612.19335',\n",
       " '2302.3',\n",
       " '39774.2763',\n",
       " '48173.361',\n",
       " '3046.062',\n",
       " '4949.7587',\n",
       " '6272.4772',\n",
       " '6313.759',\n",
       " '6079.6715',\n",
       " '20630.28351',\n",
       " '3393.35635',\n",
       " '3556.9223',\n",
       " '12629.8967',\n",
       " '38709.176',\n",
       " '2211.13075',\n",
       " '3579.8287',\n",
       " '23568.272',\n",
       " '37742.5757',\n",
       " '8059.6791',\n",
       " '47496.49445',\n",
       " '13607.36875',\n",
       " '34303.1672',\n",
       " '23244.7902',\n",
       " '5989.52365',\n",
       " '8606.2174',\n",
       " '4504.6624',\n",
       " '30166.61817',\n",
       " '4133.64165',\n",
       " '14711.7438',\n",
       " '1743.214',\n",
       " '14235.072',\n",
       " '6389.37785',\n",
       " '5920.1041',\n",
       " '17663.1442',\n",
       " '16577.7795',\n",
       " '6799.458',\n",
       " '11741.726',\n",
       " '11946.6259',\n",
       " '7726.854',\n",
       " '11356.6609',\n",
       " '3947.4131',\n",
       " '1532.4697',\n",
       " '2755.02095',\n",
       " '6571.02435',\n",
       " '4441.21315',\n",
       " '7935.29115',\n",
       " '37165.1638',\n",
       " '11033.6617',\n",
       " '39836.519',\n",
       " '21098.55405',\n",
       " '43578.9394',\n",
       " '11073.176',\n",
       " '8026.6666',\n",
       " '11082.5772',\n",
       " '2026.9741',\n",
       " '10942.13205',\n",
       " '30184.9367',\n",
       " '5729.0053',\n",
       " '47291.055',\n",
       " '3766.8838',\n",
       " '12105.32',\n",
       " '10226.2842',\n",
       " '22412.6485',\n",
       " '15820.699',\n",
       " '6186.127',\n",
       " '3645.0894',\n",
       " '21344.8467',\n",
       " '30942.1918',\n",
       " '5003.853',\n",
       " '17560.37975',\n",
       " '2331.519',\n",
       " '3877.30425',\n",
       " '2867.1196',\n",
       " '47055.5321',\n",
       " '10825.2537',\n",
       " '11881.358',\n",
       " '4646.759',\n",
       " '2404.7338',\n",
       " '11488.31695',\n",
       " '30259.99556',\n",
       " '11381.3254',\n",
       " '19107.7796',\n",
       " '8601.3293',\n",
       " '6686.4313',\n",
       " '7740.337',\n",
       " '1705.6245',\n",
       " '2257.47525',\n",
       " '39556.4945',\n",
       " '10115.00885',\n",
       " '3385.39915',\n",
       " '17081.08',\n",
       " '9634.538',\n",
       " '32734.1863',\n",
       " '6082.405',\n",
       " '12815.44495',\n",
       " '13616.3586',\n",
       " '11163.568',\n",
       " '1632.56445',\n",
       " '2457.21115',\n",
       " '2155.6815',\n",
       " '1261.442',\n",
       " '2045.68525',\n",
       " '27322.73386',\n",
       " '2166.732',\n",
       " '27375.90478',\n",
       " '3490.5491',\n",
       " '18972.495',\n",
       " '18157.876',\n",
       " '20745.9891',\n",
       " '5138.2567',\n",
       " '40720.55105',\n",
       " '9877.6077',\n",
       " '10959.6947',\n",
       " '1842.519',\n",
       " '5125.2157',\n",
       " '7789.635',\n",
       " '6334.34355',\n",
       " '19964.7463',\n",
       " '7077.1894',\n",
       " '6948.7008',\n",
       " '21223.6758',\n",
       " '15518.18025',\n",
       " '36950.2567',\n",
       " '19749.38338',\n",
       " '21348.706',\n",
       " '36149.4835',\n",
       " '10450.552',\n",
       " '5152.134',\n",
       " '5028.1466',\n",
       " '10407.08585',\n",
       " '4830.63',\n",
       " '6128.79745',\n",
       " '2719.27975',\n",
       " '4827.90495',\n",
       " '13405.3903',\n",
       " '8116.68',\n",
       " '1694.7964',\n",
       " '5246.047',\n",
       " '2855.43755',\n",
       " '48824.45',\n",
       " '6455.86265',\n",
       " '10436.096',\n",
       " '8823.279',\n",
       " '8538.28845',\n",
       " '11735.87905',\n",
       " '1631.8212',\n",
       " '4005.4225',\n",
       " '7419.4779',\n",
       " '7731.4271',\n",
       " '43753.33705',\n",
       " '3981.9768',\n",
       " '5325.651',\n",
       " '6775.961',\n",
       " '4922.9159',\n",
       " '12557.6053',\n",
       " '4883.866',\n",
       " '2137.6536',\n",
       " '12044.342',\n",
       " '1137.4697',\n",
       " '1639.5631',\n",
       " '5649.715',\n",
       " '8516.829',\n",
       " '9644.2525',\n",
       " '14901.5167',\n",
       " '2130.6759',\n",
       " '8871.1517',\n",
       " '13012.20865',\n",
       " '37133.8982',\n",
       " '7147.105',\n",
       " '4337.7352',\n",
       " '11743.299',\n",
       " '20984.0936',\n",
       " '13880.949',\n",
       " '6610.1097',\n",
       " '1980.07',\n",
       " '8162.71625',\n",
       " '3537.703',\n",
       " '5002.7827',\n",
       " '8520.026',\n",
       " '7371.772',\n",
       " '10355.641',\n",
       " '2483.736',\n",
       " '3392.9768',\n",
       " '25081.76784',\n",
       " '5012.471',\n",
       " '10564.8845',\n",
       " '5253.524',\n",
       " '34779.615',\n",
       " '19515.5416',\n",
       " '11987.1682',\n",
       " '2689.4954',\n",
       " '24227.33724',\n",
       " '7358.17565',\n",
       " '9225.2564',\n",
       " '7443.64305',\n",
       " '14001.2867',\n",
       " '1727.785',\n",
       " '12333.828',\n",
       " '6710.1919',\n",
       " '19444.2658',\n",
       " '1615.7667',\n",
       " '4463.2051',\n",
       " '17352.6803',\n",
       " '7152.6714',\n",
       " '38511.6283',\n",
       " '5354.07465',\n",
       " '35160.13457',\n",
       " '7196.867',\n",
       " '29523.1656',\n",
       " '24476.47851',\n",
       " '12648.7034',\n",
       " '1986.9334',\n",
       " '1832.094',\n",
       " '4040.55825',\n",
       " '12829.4551',\n",
       " '47305.305',\n",
       " '44260.7499',\n",
       " '4260.744',\n",
       " '41097.16175',\n",
       " '13047.33235',\n",
       " '43921.1837',\n",
       " '5400.9805',\n",
       " '11520.09985',\n",
       " '33750.2918',\n",
       " '11837.16',\n",
       " '17085.2676',\n",
       " '24869.8368',\n",
       " '36219.40545',\n",
       " '20462.99766',\n",
       " '46151.1245',\n",
       " '17179.522',\n",
       " '14590.63205',\n",
       " '7441.053',\n",
       " '9282.4806',\n",
       " '1719.4363',\n",
       " '42856.838',\n",
       " '7265.7025',\n",
       " '9617.66245',\n",
       " '2523.1695',\n",
       " '9715.841',\n",
       " '2803.69785',\n",
       " '2150.469',\n",
       " '12928.7911',\n",
       " '9855.1314',\n",
       " '22331.5668',\n",
       " '48549.17835',\n",
       " '4237.12655',\n",
       " '11879.10405',\n",
       " '9625.92',\n",
       " '7742.1098',\n",
       " '9432.9253',\n",
       " '14256.1928',\n",
       " '47896.79135',\n",
       " '25992.82104',\n",
       " '3172.018',\n",
       " '20277.80751',\n",
       " '42112.2356',\n",
       " '2156.7518',\n",
       " '3906.127',\n",
       " '1704.5681',\n",
       " '16297.846',\n",
       " '21978.6769',\n",
       " '38746.3551',\n",
       " '9249.4952',\n",
       " '6746.7425',\n",
       " '24873.3849',\n",
       " '12265.5069',\n",
       " '4349.462',\n",
       " '12646.207',\n",
       " '19442.3535',\n",
       " '20177.67113',\n",
       " '4151.0287',\n",
       " '11944.59435',\n",
       " '7749.1564',\n",
       " '8444.474',\n",
       " '1737.376',\n",
       " '42124.5153',\n",
       " '8124.4084',\n",
       " '34838.873',\n",
       " '9722.7695',\n",
       " '8835.26495',\n",
       " '10435.06525',\n",
       " '7421.19455',\n",
       " '4667.60765',\n",
       " '4894.7533',\n",
       " '24671.66334',\n",
       " '35491.64',\n",
       " '11566.30055',\n",
       " '2866.091',\n",
       " '6600.20595',\n",
       " '3561.8889',\n",
       " '42760.5022',\n",
       " '47928.03',\n",
       " '9144.565',\n",
       " '48517.56315',\n",
       " '24393.6224',\n",
       " '13429.0354',\n",
       " '11658.37915',\n",
       " '19144.57652',\n",
       " '13822.803',\n",
       " '12142.5786',\n",
       " '13937.6665',\n",
       " '41919.097',\n",
       " '8232.6388',\n",
       " '18955.22017',\n",
       " '13352.0998',\n",
       " '13217.0945',\n",
       " '13981.85035',\n",
       " '10977.2063',\n",
       " '6184.2994',\n",
       " '4889.9995',\n",
       " '8334.45755',\n",
       " '5478.0368',\n",
       " '1635.73365',\n",
       " '11830.6072',\n",
       " '8932.084',\n",
       " '3554.203',\n",
       " '12404.8791',\n",
       " '14133.03775',\n",
       " '24603.04837',\n",
       " '8944.1151',\n",
       " '9620.3307',\n",
       " '1837.2819',\n",
       " '1607.5101',\n",
       " '10043.249',\n",
       " '4751.07',\n",
       " '13844.506',\n",
       " '2597.779',\n",
       " '3180.5101',\n",
       " '9778.3472',\n",
       " '13430.265',\n",
       " '8017.06115',\n",
       " '8116.26885',\n",
       " '3481.868',\n",
       " '13415.0381',\n",
       " '12029.2867',\n",
       " '7639.41745',\n",
       " '36085.219',\n",
       " '1391.5287',\n",
       " '18033.9679',\n",
       " '21659.9301',\n",
       " '38126.2465',\n",
       " '16455.70785',\n",
       " '27000.98473',\n",
       " '15006.57945',\n",
       " '42303.69215',\n",
       " '20781.48892',\n",
       " '5846.9176',\n",
       " '8302.53565',\n",
       " '1261.859',\n",
       " '11856.4115',\n",
       " '30284.64294',\n",
       " '3176.8159',\n",
       " '4618.0799',\n",
       " '10736.87075',\n",
       " '2138.0707',\n",
       " '8964.06055',\n",
       " '9290.1395',\n",
       " '9411.005',\n",
       " '7526.70645',\n",
       " '8522.003',\n",
       " '16586.49771',\n",
       " '14988.432',\n",
       " '1631.6683',\n",
       " '9264.797',\n",
       " '8083.9198',\n",
       " '14692.66935',\n",
       " '10269.46',\n",
       " '3260.199',\n",
       " '11396.9002',\n",
       " '4185.0979',\n",
       " '8539.671',\n",
       " '6652.5288',\n",
       " '4074.4537',\n",
       " '1621.3402',\n",
       " '19594.80965',\n",
       " '14455.64405',\n",
       " '5080.096',\n",
       " '2134.9015',\n",
       " '7345.7266',\n",
       " '9140.951',\n",
       " '18608.262',\n",
       " '14418.2804',\n",
       " '28950.4692',\n",
       " '46889.2612',\n",
       " '46599.1084',\n",
       " '39125.33225',\n",
       " '2727.3951',\n",
       " '8968.33',\n",
       " '9788.8659',\n",
       " '6555.07035',\n",
       " '7323.734819',\n",
       " '3167.45585',\n",
       " '18804.7524',\n",
       " '23082.95533',\n",
       " '4906.40965',\n",
       " '5969.723',\n",
       " '12638.195',\n",
       " '4243.59005',\n",
       " '13919.8229',\n",
       " '2254.7967',\n",
       " '5926.846',\n",
       " '12592.5345',\n",
       " '2897.3235',\n",
       " '4738.2682',\n",
       " '37079.372',\n",
       " '1149.3959',\n",
       " '28287.89766',\n",
       " '26109.32905',\n",
       " '7345.084',\n",
       " '12730.9996',\n",
       " '11454.0215',\n",
       " '5910.944',\n",
       " '4762.329',\n",
       " '7512.267',\n",
       " '4032.2407',\n",
       " '1969.614',\n",
       " '1769.53165',\n",
       " '4686.3887',\n",
       " '21797.0004',\n",
       " '11881.9696',\n",
       " '11840.77505',\n",
       " '10601.412',\n",
       " '7682.67',\n",
       " '10381.4787',\n",
       " '22144.032',\n",
       " '15230.32405',\n",
       " '11165.41765',\n",
       " '1632.03625',\n",
       " '19521.9682',\n",
       " '13224.693',\n",
       " '12643.3778',\n",
       " '23288.9284',\n",
       " '2201.0971',\n",
       " '2497.0383',\n",
       " '2203.47185',\n",
       " '1744.465',\n",
       " '20878.78443',\n",
       " '25382.297',\n",
       " '28868.6639',\n",
       " '35147.52848',\n",
       " '2534.39375',\n",
       " '1534.3045',\n",
       " '1824.2854',\n",
       " '15555.18875',\n",
       " '9304.7019',\n",
       " '1622.1885',\n",
       " '9880.068',\n",
       " '9563.029',\n",
       " '4347.02335',\n",
       " '12475.3513',\n",
       " '1253.936',\n",
       " '48885.13561',\n",
       " '10461.9794',\n",
       " '1748.774',\n",
       " '24513.09126',\n",
       " '2196.4732',\n",
       " '12574.049',\n",
       " '17942.106',\n",
       " '1967.0227',\n",
       " '4931.647',\n",
       " '8027.968',\n",
       " '8211.1002',\n",
       " '13470.86',\n",
       " '36197.699',\n",
       " '6837.3687',\n",
       " '22218.1149',\n",
       " '32548.3405',\n",
       " '5974.3847',\n",
       " '6796.86325',\n",
       " '2643.2685',\n",
       " '3077.0955',\n",
       " '3044.2133',\n",
       " '11455.28',\n",
       " '11763.0009',\n",
       " '2498.4144',\n",
       " '9361.3268',\n",
       " '1256.299',\n",
       " '21082.16',\n",
       " '11362.755',\n",
       " '27724.28875',\n",
       " '8413.46305',\n",
       " '5240.765',\n",
       " '3857.75925',\n",
       " '25656.57526',\n",
       " '3994.1778',\n",
       " '9866.30485',\n",
       " '5397.6167',\n",
       " '38245.59327',\n",
       " '11482.63485',\n",
       " '24059.68019',\n",
       " '9861.025',\n",
       " '8342.90875',\n",
       " '1708.0014',\n",
       " '48675.5177',\n",
       " '14043.4767',\n",
       " '12925.886',\n",
       " '19214.70553',\n",
       " '13831.1152',\n",
       " '6067.12675',\n",
       " '5972.378',\n",
       " '8825.086',\n",
       " '8233.0975',\n",
       " '27346.04207',\n",
       " '6196.448',\n",
       " '3056.3881',\n",
       " '13887.204',\n",
       " '63770.42801',\n",
       " '10231.4999',\n",
       " '23807.2406',\n",
       " '3268.84665',\n",
       " '11538.421',\n",
       " '3213.62205',\n",
       " '45863.205',\n",
       " '13390.559',\n",
       " '3972.9247',\n",
       " '12957.118',\n",
       " '11187.6567',\n",
       " '17878.90068',\n",
       " '3847.674',\n",
       " '8334.5896',\n",
       " '3935.1799',\n",
       " '39983.42595',\n",
       " '1646.4297',\n",
       " '9193.8385',\n",
       " '10923.9332',\n",
       " '2494.022',\n",
       " '9058.7303',\n",
       " '2801.2588',\n",
       " '2128.43105',\n",
       " '6373.55735',\n",
       " '7256.7231',\n",
       " '11552.904',\n",
       " '45702.02235',\n",
       " '3761.292',\n",
       " '2219.4451',\n",
       " '4753.6368',\n",
       " '31620.00106',\n",
       " '13224.05705',\n",
       " '12222.8983',\n",
       " '1664.9996',\n",
       " '58571.07448',\n",
       " '9724.53',\n",
       " '3206.49135',\n",
       " '12913.9924',\n",
       " '1639.5631',\n",
       " '6356.2707',\n",
       " '17626.23951',\n",
       " '1242.816',\n",
       " '4779.6023',\n",
       " '3861.20965',\n",
       " '43943.8761',\n",
       " '13635.6379',\n",
       " '5976.8311',\n",
       " '11842.442',\n",
       " '8428.0693',\n",
       " '2566.4707',\n",
       " '15359.1045',\n",
       " '5709.1644',\n",
       " '8823.98575',\n",
       " '7640.3092',\n",
       " '5594.8455',\n",
       " '7441.501',\n",
       " '33471.97189',\n",
       " '1633.0444',\n",
       " '9174.13565',\n",
       " '11070.535',\n",
       " '16085.1275',\n",
       " '17468.9839',\n",
       " '9283.562',\n",
       " '3558.62025',\n",
       " '25678.77845',\n",
       " '4435.0942',\n",
       " '39241.442',\n",
       " '8547.6913',\n",
       " '6571.544',\n",
       " '2207.69745',\n",
       " '6753.038',\n",
       " '1880.07',\n",
       " '42969.8527',\n",
       " '11658.11505',\n",
       " '23306.547',\n",
       " '34439.8559',\n",
       " '10713.644',\n",
       " '3659.346',\n",
       " '40182.246',\n",
       " '9182.17',\n",
       " '34617.84065',\n",
       " '12129.61415',\n",
       " '3736.4647',\n",
       " '6748.5912',\n",
       " '11326.71487',\n",
       " '11365.952',\n",
       " '42983.4585',\n",
       " '10085.846',\n",
       " '1977.815',\n",
       " '3366.6697',\n",
       " '7173.35995',\n",
       " '9391.346',\n",
       " '14410.9321',\n",
       " '2709.1119',\n",
       " '24915.04626',\n",
       " '20149.3229',\n",
       " '12949.1554',\n",
       " '6666.243',\n",
       " '32787.45859',\n",
       " '13143.86485',\n",
       " '4466.6214',\n",
       " '18806.14547',\n",
       " '10141.1362',\n",
       " '6123.5688',\n",
       " '8252.2843',\n",
       " '1712.227',\n",
       " '12430.95335',\n",
       " '9800.8882',\n",
       " '10579.711',\n",
       " '8280.6227',\n",
       " '8527.532',\n",
       " '12244.531',\n",
       " '24667.419',\n",
       " '3410.324',\n",
       " '4058.71245',\n",
       " '26392.26029',\n",
       " '14394.39815',\n",
       " '6435.6237',\n",
       " '22192.43711',\n",
       " '5148.5526',\n",
       " '1136.3994',\n",
       " '27037.9141',\n",
       " '42560.4304',\n",
       " '8703.456',\n",
       " '40003.33225',\n",
       " '45710.20785',\n",
       " '6500.2359',\n",
       " '4837.5823',\n",
       " '3943.5954',\n",
       " '4399.731',\n",
       " '6185.3208',\n",
       " '46200.9851',\n",
       " '7222.78625',\n",
       " '12485.8009',\n",
       " '46130.5265',\n",
       " '12363.547',\n",
       " '10156.7832',\n",
       " '2585.269',\n",
       " '1242.26',\n",
       " '40103.89',\n",
       " '9863.4718',\n",
       " '4766.022',\n",
       " '11244.3769',\n",
       " '7729.64575',\n",
       " '5438.7491',\n",
       " '26236.57997',\n",
       " '34806.4677',\n",
       " '2104.1134',\n",
       " '8068.185',\n",
       " '2362.22905',\n",
       " '2352.96845',\n",
       " '3577.999',\n",
       " '3201.24515',\n",
       " '29186.48236',\n",
       " '40273.6455',\n",
       " '10976.24575',\n",
       " '3500.6123',\n",
       " '2020.5523',\n",
       " '9541.69555',\n",
       " '9504.3103',\n",
       " '5385.3379',\n",
       " '8930.93455',\n",
       " '5375.038',\n",
       " '44400.4064',\n",
       " '10264.4421',\n",
       " '6113.23105',\n",
       " '5469.0066',\n",
       " '1727.54',\n",
       " '10107.2206',\n",
       " '8310.83915',\n",
       " '1984.4533',\n",
       " '2457.502',\n",
       " '12146.971',\n",
       " '9566.9909',\n",
       " '13112.6048',\n",
       " '10848.1343',\n",
       " '12231.6136',\n",
       " '9875.6804',\n",
       " '11264.541',\n",
       " '12979.358',\n",
       " '1263.249',\n",
       " '10106.13425',\n",
       " '40932.4295',\n",
       " '6664.68595',\n",
       " '16657.71745',\n",
       " '2217.6012',\n",
       " '6781.3542',\n",
       " '19361.9988',\n",
       " '10065.413',\n",
       " '4234.927',\n",
       " '9447.25035',\n",
       " '14007.222',\n",
       " '9583.8933',\n",
       " '40419.0191',\n",
       " '3484.331',\n",
       " '36189.1017',\n",
       " '44585.45587',\n",
       " '8604.48365',\n",
       " '18246.4955',\n",
       " '43254.41795',\n",
       " '3757.8448',\n",
       " '8827.2099',\n",
       " '9910.35985',\n",
       " '11737.84884',\n",
       " '1627.28245',\n",
       " '8556.907',\n",
       " '3062.50825',\n",
       " '19539.243',\n",
       " '1906.35825',\n",
       " '14210.53595',\n",
       " '11833.7823',\n",
       " '17128.42608',\n",
       " '5031.26955',\n",
       " '7985.815',\n",
       " '23065.4207',\n",
       " '5428.7277',\n",
       " '36307.7983',\n",
       " '3925.7582',\n",
       " '2416.955',\n",
       " '19040.876',\n",
       " '3070.8087',\n",
       " '9095.06825',\n",
       " '11842.62375',\n",
       " '8062.764',\n",
       " '7050.642',\n",
       " '14319.031',\n",
       " '6933.24225',\n",
       " '27941.28758',\n",
       " '11150.78',\n",
       " '12797.20962',\n",
       " '17748.5062',\n",
       " '7261.741',\n",
       " '10560.4917',\n",
       " '6986.697',\n",
       " '7448.40395',\n",
       " '5934.3798',\n",
       " '9869.8102',\n",
       " '18259.216',\n",
       " '1146.7966',\n",
       " '9386.1613',\n",
       " '24520.264',\n",
       " '4350.5144',\n",
       " '6414.178',\n",
       " '12741.16745',\n",
       " '1917.3184',\n",
       " '5209.57885',\n",
       " '13457.9608',\n",
       " '5662.225',\n",
       " '1252.407',\n",
       " '2731.9122',\n",
       " '21195.818',\n",
       " '7209.4918',\n",
       " '18310.742',\n",
       " '4266.1658',\n",
       " '4719.52405',\n",
       " '11848.141',\n",
       " '17904.52705',\n",
       " '7046.7222',\n",
       " '14313.8463',\n",
       " '2103.08',\n",
       " '38792.6856',\n",
       " '1815.8759',\n",
       " '7731.85785',\n",
       " '28476.73499',\n",
       " '2136.88225',\n",
       " '1131.5066',\n",
       " '3309.7926',\n",
       " '9414.92',\n",
       " '6360.9936',\n",
       " '11013.7119',\n",
       " '4428.88785',\n",
       " '5584.3057',\n",
       " '1877.9294',\n",
       " '2842.76075',\n",
       " '3597.596',\n",
       " '23401.30575',\n",
       " '55135.40209',\n",
       " '7445.918',\n",
       " '2680.9493',\n",
       " '1621.8827',\n",
       " '8219.2039',\n",
       " '12523.6048',\n",
       " '16069.08475',\n",
       " '43813.8661',\n",
       " '20773.62775',\n",
       " '39597.4072',\n",
       " '6117.4945',\n",
       " '13393.756',\n",
       " '5266.3656',\n",
       " '4719.73655',\n",
       " '11743.9341',\n",
       " '5377.4578',\n",
       " '7160.3303',\n",
       " '4402.233',\n",
       " '11657.7189',\n",
       " '6402.29135',\n",
       " '12622.1795',\n",
       " '1526.312',\n",
       " '12323.936',\n",
       " '36021.0112',\n",
       " '27533.9129',\n",
       " '10072.05505',\n",
       " '45008.9555',\n",
       " '9872.701',\n",
       " '2438.0552',\n",
       " '2974.126',\n",
       " '10601.63225',\n",
       " '37270.1512',\n",
       " '14119.62',\n",
       " '42111.6647',\n",
       " '11729.6795',\n",
       " '24106.91255',\n",
       " '1875.344',\n",
       " '40974.1649',\n",
       " '15817.9857',\n",
       " '18218.16139',\n",
       " '10965.446',\n",
       " '46113.511',\n",
       " '7151.092',\n",
       " '12269.68865',\n",
       " '5458.04645',\n",
       " '8782.469',\n",
       " '6600.361',\n",
       " '1141.4451',\n",
       " '11576.13',\n",
       " '13129.60345',\n",
       " '4391.652',\n",
       " '8457.818',\n",
       " '3392.3652',\n",
       " '5966.8874',\n",
       " '6849.026',\n",
       " '8891.1395',\n",
       " '2690.1138',\n",
       " '26140.3603',\n",
       " '6653.7886',\n",
       " '6282.235',\n",
       " '6311.952',\n",
       " '3443.064',\n",
       " '2789.0574',\n",
       " '2585.85065',\n",
       " '46255.1125',\n",
       " '4877.98105',\n",
       " '19719.6947',\n",
       " '27218.43725',\n",
       " '5272.1758',\n",
       " '1682.597',\n",
       " '11945.1327',\n",
       " '29330.98315',\n",
       " '7243.8136',\n",
       " '10422.91665',\n",
       " '44202.6536',\n",
       " '13555.0049',\n",
       " '13063.883',\n",
       " '19798.05455',\n",
       " '2221.56445',\n",
       " '1634.5734',\n",
       " '2117.33885',\n",
       " '8688.85885',\n",
       " '48673.5588',\n",
       " '4661.28635',\n",
       " '8125.7845',\n",
       " '12644.589',\n",
       " '4564.19145',\n",
       " '4846.92015',\n",
       " '7633.7206',\n",
       " '15170.069',\n",
       " '17496.306',\n",
       " '2639.0429',\n",
       " '33732.6867',\n",
       " '14382.70905',\n",
       " '7626.993',\n",
       " '5257.50795',\n",
       " '2473.3341',\n",
       " '21774.32215',\n",
       " '35069.37452',\n",
       " '13041.921',\n",
       " '5245.2269',\n",
       " '13451.122',\n",
       " '13462.52',\n",
       " '5488.262',\n",
       " '4320.41085',\n",
       " '6250.435',\n",
       " '25333.33284',\n",
       " '2913.569',\n",
       " '12032.326',\n",
       " '13470.8044',\n",
       " '6289.7549',\n",
       " '2927.0647',\n",
       " '6238.298',\n",
       " '10096.97',\n",
       " '7348.142',\n",
       " '4673.3922',\n",
       " '12233.828',\n",
       " '32108.66282',\n",
       " '8965.79575',\n",
       " '2304.0022',\n",
       " '9487.6442',\n",
       " '1121.8739',\n",
       " '9549.5651',\n",
       " '2217.46915',\n",
       " '1628.4709',\n",
       " '12982.8747',\n",
       " '11674.13',\n",
       " '7160.094',\n",
       " '39047.285',\n",
       " '6358.77645',\n",
       " '19933.458',\n",
       " '11534.87265',\n",
       " '47462.894',\n",
       " '4527.18295',\n",
       " '38998.546',\n",
       " '20009.63365',\n",
       " '3875.7341',\n",
       " '41999.52',\n",
       " '12609.88702',\n",
       " '41034.2214',\n",
       " '28468.91901',\n",
       " '2730.10785',\n",
       " '3353.284',\n",
       " '14474.675',\n",
       " '9500.57305',\n",
       " '26467.09737',\n",
       " '4746.344',\n",
       " '23967.38305',\n",
       " '7518.02535',\n",
       " '3279.86855',\n",
       " '8596.8278',\n",
       " '10702.6424',\n",
       " '4992.3764',\n",
       " '2527.81865',\n",
       " '1759.338',\n",
       " '2322.6218',\n",
       " '16138.76205',\n",
       " '7804.1605',\n",
       " '2902.9065',\n",
       " '9704.66805',\n",
       " '4889.0368',\n",
       " '25517.11363',\n",
       " '4500.33925',\n",
       " '19199.944',\n",
       " '16796.41194',\n",
       " '4915.05985',\n",
       " '7624.63',\n",
       " '8410.04685',\n",
       " '28340.18885',\n",
       " '4518.82625',\n",
       " '14571.8908',\n",
       " '3378.91',\n",
       " '7144.86265',\n",
       " '10118.424',\n",
       " '5484.4673',\n",
       " '16420.49455',\n",
       " '7986.47525',\n",
       " '7418.522',\n",
       " '13887.9685',\n",
       " '6551.7501',\n",
       " '5267.81815',\n",
       " ...]"
      ]
     },
     "execution_count": 906,
     "metadata": {},
     "output_type": "execute_result"
    }
   ],
   "source": [
    "data_reader('insurance.csv', 'sex', genders)\n",
    "data_reader('insurance.csv', 'bmi', bmis)\n",
    "data_reader('insurance.csv', 'children', num_of_children)\n",
    "data_reader('insurance.csv', 'smoker', smoking_statuses)\n",
    "data_reader('insurance.csv', 'region', regions)\n",
    "data_reader('insurance.csv', 'charges', insurance_costs)"
   ]
  },
  {
   "cell_type": "markdown",
   "metadata": {},
   "source": [
    "We notice that although `ages` data are integers, they are saved as strings. The same issue applies for `bmis`, `num_of_children` and `insurance_costs`.\n",
    "\n",
    "To fix this data type issue, we will use list comprehension to convert string to the correct representation (integer for `ages` and `num_of_children` ,and float for `bmis` and `insurance_costs`). This step will save us from converting data type everytime we want to use the lists."
   ]
  },
  {
   "cell_type": "code",
   "execution_count": 907,
   "metadata": {
    "scrolled": true
   },
   "outputs": [
    {
     "name": "stdout",
     "output_type": "stream",
     "text": [
      "[19, 18, 28, 33, 32, 31, 46, 37, 37, 60]\n"
     ]
    }
   ],
   "source": [
    "# list comprehension to fix data type of ages from string to integer\n",
    "# checking the first 10 ages\n",
    "\n",
    "ages = [int(age) for age in ages]\n",
    "print(ages[:10])"
   ]
  },
  {
   "cell_type": "markdown",
   "metadata": {},
   "source": [
    "Doing the same for `bmis`, `num_of_children` and `insurance_costs`"
   ]
  },
  {
   "cell_type": "code",
   "execution_count": 908,
   "metadata": {},
   "outputs": [],
   "source": [
    "bmis = [float(bmi) for bmi in bmis]\n",
    "num_of_children = [int(num) for num in num_of_children]\n",
    "insurance_costs = [float(cost) for cost in insurance_costs]"
   ]
  },
  {
   "cell_type": "markdown",
   "metadata": {},
   "source": [
    "It was relatively easy to know that there is two unique values in `sex` and `smoker` columns since they are binary variables, but this doesn't apply to `region`.\n",
    "\n",
    "Instead of scrolling through the data, I wanted to check the unique values in `region` column that is stored in `regions` list using Numpy's `unique()`"
   ]
  },
  {
   "cell_type": "code",
   "execution_count": 909,
   "metadata": {},
   "outputs": [
    {
     "name": "stdout",
     "output_type": "stream",
     "text": [
      "['northeast' 'northwest' 'southeast' 'southwest']\n"
     ]
    }
   ],
   "source": [
    "regions_array = np.array(regions)\n",
    "print(np.unique(regions_array))"
   ]
  },
  {
   "cell_type": "markdown",
   "metadata": {},
   "source": [
    "looks like `region` column has 4 different values, northeast, northwest, southeast and southwest."
   ]
  },
  {
   "cell_type": "markdown",
   "metadata": {},
   "source": [
    "## Data Analysis \n",
    "\n",
    "We have several patient medical information (age, sex, BMI, number of children, smoking status, region and incurance cost). In this section, we will use class **PatientData** to:\n",
    "\n",
    "- inspect every factor and check how they contribute to insurance cost\n",
    "    \n",
    "    for `age`:\n",
    "    - average age of patients\n",
    "    - youngest and oldest patients\n",
    "    - dividing patients ages into four age groups\n",
    "    - counting the number of patients in each group and their proprtions\n",
    "    - average insurance cost for patients divided by age\n",
    "    - which age group pays lowest and highest average insurance cost?\n",
    "    \n",
    "    for `sex`:\n",
    "    - count the number of female and male patients and their proportions\n",
    "    - average insurance cost for each gender\n",
    "    - does female or male patients pay higher insurance cost?\n",
    "    \n",
    "    for `bmi`:\n",
    "    - dividing patients into four BMI groups\n",
    "    - counting th enumber of patients in each BMI group and their proportions\n",
    "    - average insurance cost for patients divided by their BMI\n",
    "    - which BMI group pays the lowest and highest average insurance cost?\n",
    "    \n",
    "    for `children_num`:\n",
    "    - counting the number of patients divided by their number of children\n",
    "    - average insurance cost for patients divided by their number of children\n",
    "    - how many children are associated with patients who pay the lowest and highest insurance cost?\n",
    "    \n",
    "    for `smoking`:\n",
    "    - counting the number of smoking and non-smoking patients and their proportions\n",
    "    - avergae insurance cost of smokers and non-smokers\n",
    "    - which group pays higher insurance cost?\n",
    "    \n",
    "    for `region`:\n",
    "    - retrieve unique regions\n",
    "    - count the number of patients in every region and their proprtions\n",
    "    - average insurance cost for every region\n",
    "    - which region has patients who pay the lowest and the highest average insurance cost? \n",
    " "
   ]
  },
  {
   "cell_type": "markdown",
   "metadata": {},
   "source": [
    " - how one factor is related to another\n",
    "\n",
    "    `region` and `age`\n",
    "    - average age of patients in a single region\n",
    "\n",
    "    `region` and `bmi`\n",
    "    - average BMI of patients in a single region\n",
    "    \n",
    "    `region` and `smoking`\n",
    "    - number and proportions of smokers and non-smokers in a single region\n",
    "\n",
    "class **PatientData** has also some methods that enable interaction by prompoting input from the user to:\n",
    "- print medical indormation of a single patient\n",
    "- print medical information of several patients\n",
    "- get the number of patients in a specific region\n",
    "- get the average age, average BMI and smoking status for patients in a specific region"
   ]
  },
  {
   "cell_type": "code",
   "execution_count": 910,
   "metadata": {},
   "outputs": [],
   "source": [
    "class PatientData:\n",
    "    \n",
    "    \n",
    "    def __init__(self, age, sex, bmi, children_num , smoking, region, insurance_cost):\n",
    "        self.age = age\n",
    "        self.sex = sex\n",
    "        self.bmi = bmi\n",
    "        self.children_num = children_num\n",
    "        self.smoking = smoking\n",
    "        self.region = region\n",
    "        self.insurance_cost = insurance_cost\n",
    "    \n",
    "    \n",
    "    # whenever the object is called, it will print the following\n",
    "    def __repr__(self):\n",
    "        return '''\n",
    "        age: {age}\n",
    "        sex: {sex}\n",
    "        BMI: {bmi}\n",
    "        number of children: {num}\n",
    "        smoking status: {smoking}\n",
    "        region: {region}\n",
    "        insurance cost: ${cost}'''.format(age= self.age, sex= self.sex, bmi= self.bmi, num= self.children_num, smoking= self.smoking, region= self.region, cost= self.insurance_cost)\n",
    "    \n",
    "    \n",
    "    # to inspect medical data of a single patient\n",
    "    def patient_info(self, value):\n",
    "        print(' age: {age} \\n sex: {sex} \\n BMI: {bmi} \\n number of children: {num} \\\n",
    "        \\n smoking status: {smoking} \\n region: {region} \\n insurance cost: ${cost:,}'\\\n",
    "        .format(age= self.age[value], sex= self.sex[value], bmi= self.bmi[value], num= self.children_num[value], smoking= self.smoking[value], region= self.region[value], cost= round((self.insurance_cost[value]), 2)))\n",
    "    \n",
    "    \n",
    "    # to inspect medical data of several patients\n",
    "    # returns a dictionary with patients medical info     \n",
    "    def patients_info(self, lst):\n",
    "        \n",
    "        patients_info_dict = {'age': [], 'sex': [], 'BMI': [], 'number of children': [], 'smoking status': [], 'region': [], 'insurance cost': []}\n",
    "        \n",
    "        for value in lst:\n",
    "            patients_info_dict['age'].append(self.age[value])\n",
    "            patients_info_dict['sex'].append(self.sex[value])\n",
    "            patients_info_dict['BMI'].append(self.bmi[value])\n",
    "            patients_info_dict['number of children'].append(self.children_num[value])\n",
    "            patients_info_dict['smoking status'].append(self.smoking[value])\n",
    "            patients_info_dict['region'].append(self.region[value])\n",
    "            patients_info_dict['insurance cost'].append('${:,}'.format(round((self.insurance_cost[value]), 2)))\n",
    "        \n",
    "        print(patients_info_dict)\n",
    "    \n",
    "        \n",
    "    # to calculate average age of all patients\n",
    "    def average_age(self):\n",
    "        \n",
    "        total = 0\n",
    "        \n",
    "        for age in self.age:\n",
    "            total += age\n",
    "        avg_age = total/len(self.age)\n",
    "        print('Average age is:', round(avg_age, 1), 'years old.')\n",
    "    \n",
    "    \n",
    "    # to calculate average insurance cost of patients divided into four groups by their age\n",
    "    # also, gets age groups associated with lowest and highest insurance cost\n",
    "    def age_cost(self):\n",
    "        \n",
    "        min_age = min(self.age)\n",
    "        max_age = max(self.age)\n",
    "        mid_age = int(round(((min_age + max_age)/2), 0))\n",
    "        min_to_mid_age = int(round(((min_age + mid_age)/2), 0))\n",
    "        mid_to_max_age = int(round(((mid_age + max_age)/2), 0))\n",
    "        \n",
    "        age_group1 = range(min_age, min_to_mid_age+1)\n",
    "        age_group2 = range(min_to_mid_age + 1, mid_age+1)\n",
    "        age_group3 = range(mid_age + 1, mid_to_max_age+1)\n",
    "        age_group4 = range(mid_to_max_age + 1, max_age+1)\n",
    "        \n",
    "        age_cost_lst = [(age, cost) for age, cost in zip(self.age, self.insurance_cost)]\n",
    "        \n",
    "        group1_cost, group2_cost= 0, 0\n",
    "        group3_cost, group4_cost= 0, 0\n",
    "        \n",
    "        group1_count, group2_count = 0, 0\n",
    "        group3_count, group4_count = 0, 0\n",
    "        \n",
    "        for item in age_cost_lst:\n",
    "            if item[0] in age_group1:\n",
    "                group1_cost += item[1]\n",
    "                group1_count += 1\n",
    "            elif item[0] in age_group2:\n",
    "                group2_cost += item[1]\n",
    "                group2_count += 1\n",
    "            elif item[0] in age_group3:\n",
    "                group3_cost += item[1]\n",
    "                group3_count += 1\n",
    "            elif item[0] in age_group4:\n",
    "                group4_cost += item[1]\n",
    "                group4_count += 1\n",
    "        \n",
    "        avg_group1_cost = round((group1_cost/group1_count), 2)\n",
    "        avg_group2_cost = round((group2_cost/group2_count), 2)\n",
    "        avg_group3_cost = round((group3_cost/group3_count), 2)\n",
    "        avg_group4_cost = round((group4_cost/group4_count), 2)\n",
    "        \n",
    "        age_dict = {}\n",
    "        \n",
    "        age_dict[min_age, min_to_mid_age] = '{:,}'.format(avg_group1_cost)\n",
    "        age_dict[min_to_mid_age+1, mid_age] = '{:,}'.format(avg_group2_cost)\n",
    "        age_dict[mid_age+1, mid_to_max_age] = '{:,}'.format(avg_group3_cost)\n",
    "        age_dict[mid_to_max_age+1, max_age] = '{:,}'.format(avg_group4_cost)\n",
    "        \n",
    "        total_age_patients = group1_count + group2_count + group3_count + group4_count\n",
    "        \n",
    "        \n",
    "        print('The youngest patient is {min} years old and the oldest patient is {max} years old\\n'.format(min= min_age ,max= max_age))\n",
    "        print('By dividing the patients into four age groups ...\\n')\n",
    "        print(age_dict)\n",
    "        print('\\n')\n",
    "        print('Age group between {min} - {min_mid} years old'.format(min= min_age, min_mid= min_to_mid_age))\n",
    "        print('number of patients: {count} ({g1p:.2%}) \\t average insurance cost: ${cost:,}.'.format(count= group1_count, g1p= (group1_count/total_age_patients), cost= avg_group1_cost))\n",
    "        print('\\n')\n",
    "        print('Age group between {min_mid} - {mid} years old'.format(min_mid= min_to_mid_age+1, mid= mid_age))\n",
    "        print('number of patients: {count} ({g2p:.2%}) \\t average insurance cost: ${cost:,}.'.format(count= group2_count, g2p= (group2_count/total_age_patients), cost= avg_group2_cost))        \n",
    "        print('\\n')\n",
    "        print('Age group between {mid} - {mid_max} years old'.format(mid= mid_age+1, mid_max= mid_to_max_age))\n",
    "        print('number of patients: {count} ({g3p:.2%}) \\t average insurance cost: ${cost:,}.'.format(count= group3_count, g3p= (group3_count/total_age_patients), cost= avg_group3_cost))                 \n",
    "        print('\\n')\n",
    "        print('Age group between {mid_max} - {max} years old'.format(mid_max= mid_to_max_age+1, max= max_age))\n",
    "        print('number of patients: {count} ({g4p:.2%}) \\t average insurance cost: ${cost:,}.'.format(count= group4_count, g4p= (group4_count/total_age_patients), cost= avg_group4_cost))\n",
    "        print('\\n')\n",
    "        \n",
    "        min_cost = min(avg_group1_cost, avg_group2_cost, avg_group3_cost, avg_group4_cost)\n",
    "        \n",
    "        if min_cost == avg_group1_cost:\n",
    "            print('age group (', min_age, '-', min_to_mid_age, ') has the lowest average insurance cost.')\n",
    "        elif min_cost == avg_group2_cost:\n",
    "            print('age group (', (min_to_mid_age+1), '-', mid_age, ') has the lowest average insurance cost.')\n",
    "        elif min_cost == avg_group3_cost:\n",
    "            print('age group (', (mid_age+1), '-', mid_to_max_age, ') has the lowest average insurance cost.')\n",
    "        elif min_cost == avg_group4_cost:\n",
    "            print('age group (', (mid_to_max_age+1), '-', max_age, ') has the lowest average insurance cost.')\n",
    "        \n",
    "        print('\\n')\n",
    "        \n",
    "        max_cost = max(avg_group1_cost, avg_group2_cost, avg_group3_cost, avg_group4_cost)\n",
    "        \n",
    "        if max_cost == avg_group1_cost:\n",
    "            print('age group (', min_age, '-', min_to_mid_age, ') has the highest average insurance cost.')\n",
    "        elif max_cost == avg_group2_cost:\n",
    "            print('age group (', (min_to_mid_age+1), '-', mid_age, ') has the highest average insurance cost.')\n",
    "        elif max_cost == avg_group3_cost:\n",
    "            print('age group (', (mid_age+1), '-', mid_to_max_age, ') has the highest average insurance cost.')\n",
    "        elif max_cost == avg_group4_cost:\n",
    "            print('age group (', (mid_to_max_age+1), '-', max_age, ') has the highest average insurance cost.')\n",
    "        \n",
    "        \n",
    "         \n",
    "    # to count female and male patients in the data and their percentages\n",
    "    def gender_counter(self):\n",
    "        \n",
    "        female, male= 0,0\n",
    "        \n",
    "        for sex in self.sex:\n",
    "            if sex == 'female':\n",
    "                female += 1\n",
    "            else:\n",
    "                male += 1\n",
    "        \n",
    "        print('There are {f} ({fp:.2%}) female patients and {m} ({mp:.2%}) male patients.\\n'.format(f= female, fp= female/len(self.sex), m= male, mp= male/len(self.sex)))\n",
    "        \n",
    "        total_gender = female + male\n",
    "        \n",
    "        if female > male:\n",
    "            print('female patients are more than male patients by {fp:.2%}.'.format(fp=(female-male)/total_gender))\n",
    "        else:\n",
    "            print('male patients are more than female patients by {mp:.2%}.'.format(mp=(male-female)/total_gender))\n",
    "    \n",
    "    \n",
    "    # to calculate average insurance cost of both genders\n",
    "    def gender_costs(self):\n",
    "        \n",
    "        female_cost, male_cost = 0, 0\n",
    "        female_count, male_count = 0, 0\n",
    "\n",
    "        gender_cost_lst = [(sex,cost) for sex,cost in zip(self.sex, self.insurance_cost)]\n",
    "        \n",
    "        for item in gender_cost_lst:\n",
    "            if item[0] == 'female':\n",
    "                female_cost += item[1]\n",
    "                female_count += 1\n",
    "            elif item[0] == 'male':\n",
    "                male_cost += item[1]\n",
    "                male_count += 1\n",
    "                \n",
    "        avg_female_cost = round((female_cost/female_count), 2)\n",
    "        avg_male_cost = round((male_cost/male_count), 2)\n",
    "        \n",
    "        print('The average insurance cost for females is ${fcost:,}.'.format(fcost= avg_female_cost))\n",
    "        print('The average insurance cost for males is ${mcost:,}.'.format(mcost= avg_male_cost))\n",
    "        print('\\n')\n",
    "        \n",
    "        if avg_female_cost > avg_male_cost:\n",
    "            print('Female patients tend to have a higher average insurance cost compared to males.')\n",
    "        else:\n",
    "            print('Male patients tend to have a higher average insurance cost compared to females.')\n",
    "    \n",
    "    \n",
    "    # to calculate average insurance cost of patients divided into four groups by their BMI\n",
    "    # also, gets the group of patients with lowest and highest insurance cost     \n",
    "    def bmi_cost(self):\n",
    "        \n",
    "        underweight_count, normal_weight_count= 0, 0\n",
    "        overweight_count, obese_count= 0, 0\n",
    "        \n",
    "        underweight_cost, normal_weight_cost= 0, 0\n",
    "        overweight_cost, obese_cost= 0, 0\n",
    "        \n",
    "        bmi_cost_lst = [(bmi, cost) for bmi, cost in zip(self.bmi, self.insurance_cost)]\n",
    "        \n",
    "        for item in bmi_cost_lst:\n",
    "            if item[0] < 18.5:\n",
    "                underweight_count += 1\n",
    "                underweight_cost += item[1]\n",
    "            elif item[0] >= 18.5 and item[0] < 25:\n",
    "                normal_weight_count += 1\n",
    "                normal_weight_cost += item[1]\n",
    "            elif item[0] >= 25 and item[0] < 30:\n",
    "                overweight_count += 1\n",
    "                overweight_cost += item[1]\n",
    "            elif item[0] >= 30:\n",
    "                obese_count += 1\n",
    "                obese_cost += item[1]\n",
    "            \n",
    "        avg_underweight_cost = round((underweight_cost/underweight_count), 2)\n",
    "        avg_normal_weight_cost = round((normal_weight_cost/normal_weight_count), 2)\n",
    "        avg_overweight_cost = round((overweight_cost/overweight_count), 2)\n",
    "        avg_obese_cost = round((obese_cost/obese_count), 2)\n",
    "        \n",
    "        total_bmi_patients = underweight_count + normal_weight_count + overweight_count + obese_count\n",
    "        \n",
    "        print('Underweight group (BMI < 18.5):')\n",
    "        print('number of patients: {count} ({uwp:.2%}) \\t\\t average insurance cost: ${cost:,}.'.format(count= underweight_count, uwp= (underweight_count/total_bmi_patients), cost= avg_underweight_cost))\n",
    "        print('\\n')\n",
    "        print('Normal weight group (18.5 ≤ BMI < 25):')\n",
    "        print('number of patients: {count} ({nwp:.2%}) \\t average insurance cost: ${cost:,}.'.format(count= normal_weight_count, nwp= (normal_weight_count/total_bmi_patients), cost= avg_normal_weight_cost))    \n",
    "        print('\\n')\n",
    "        print('Overweight group (25 ≤ BMI < 30):')\n",
    "        print('number of patients: {count} ({owp:.2%}) \\t average insurance cost: ${cost:,}.'.format(count= overweight_count, owp= (overweight_count/total_bmi_patients), cost= avg_overweight_cost))\n",
    "        print('\\n')\n",
    "        print('Obese group (BMI ≥ 30):')\n",
    "        print('number of patients: {count} ({op:.2%}) \\t average insurance cost: ${cost:,}.'.format(count= obese_count, op= (obese_count/total_bmi_patients), cost= avg_obese_cost))\n",
    "        print('\\n')\n",
    "        \n",
    "        min_bmi_cost = min(avg_underweight_cost, avg_normal_weight_cost, avg_overweight_cost, avg_obese_cost)\n",
    "        \n",
    "        if min_bmi_cost == avg_underweight_cost:\n",
    "            print('underwight patients have the lowest average insurance cost.')\n",
    "        elif min_bmi_cost == avg_normal_weight_cost:\n",
    "            print('patients with normal weight have the lowest average insurance cost.')\n",
    "        elif min_bmi_cost == avg_overweight_cost:\n",
    "            print('overweight patients have the lowest average insurance cost.')\n",
    "        else:\n",
    "            print('obese patients have the lowest average insurance cost.')       \n",
    "        \n",
    "        print('\\n')\n",
    "        \n",
    "        max_bmi_cost = max(avg_underweight_cost, avg_normal_weight_cost, avg_overweight_cost, avg_obese_cost)\n",
    "        \n",
    "        if max_bmi_cost == avg_underweight_cost:\n",
    "            print('underwight patients have the highest average insurance cost.')\n",
    "        elif max_bmi_cost == avg_normal_weight_cost:\n",
    "            print('patients with normal weight have the highest average insurance cost.')\n",
    "        elif max_bmi_cost == avg_overweight_cost:\n",
    "            print('overweight patients have the highest average insurance cost.')\n",
    "        else:\n",
    "            print('obese patients have the highest average insurance cost.')\n",
    "    \n",
    "    \n",
    "    # to calculate average insurance cost of patients divided by their number of children\n",
    "    # returns a dicitonary ordered by the number of children the patient has     \n",
    "    # also, gets children number of patients with lowest and highest average insurance cost     \n",
    "    def children_cost(self):\n",
    "        \n",
    "        children_num = np.unique(np.array(self.children_num))\n",
    "\n",
    "        children_cost_lst = [(child, cost) for child, cost in zip(self.children_num, self.insurance_cost)]\n",
    "        \n",
    "        children_cost_dict = {child:[] for child in children_num}\n",
    "        \n",
    "        count, cost = 0, 0\n",
    "        \n",
    "        for key in children_cost_dict.keys():\n",
    "            for item in children_cost_lst:\n",
    "                if key == item[0]:\n",
    "                    cost += item[1]\n",
    "                    count += 1\n",
    "            children_cost_dict[key].append((round((cost/count), 2)))\n",
    "            children_cost_dict[key].append('{count} patients'.format(count= count))\n",
    "            count, cost = 0, 0\n",
    "        \n",
    "        print(children_cost_dict, '\\n')\n",
    "        \n",
    "        max_cost = 0\n",
    "        max_children_num = 0\n",
    "    \n",
    "        for key in children_cost_dict.keys():\n",
    "            if (children_cost_dict[key][0]) > max_cost:\n",
    "                max_cost = children_cost_dict[key][0]\n",
    "                max_children_num = key\n",
    "                \n",
    "        print('The highest average insurance cost is', '${:,}'.format(max_cost), 'for patients with', max_children_num, 'children.\\n')\n",
    "        \n",
    "        min_cost = 0\n",
    "        min_children_num = 0\n",
    "        \n",
    "        for key in children_cost_dict.keys():\n",
    "            if (children_cost_dict[key][0]) < min_cost:\n",
    "                min_cost = children_cost_dict[key][0]\n",
    "                min_children_num = key\n",
    "        \n",
    "        print('The lowest average insurance cost is', '${:,}'.format(min_cost), 'for patients with', min_children_num, 'children.\\n')           \n",
    "\n",
    "        \n",
    "    # to calculate average insurance cost of patients based on their smoking status   \n",
    "    def smoking_cost(self):\n",
    "        \n",
    "        smoker_count, non_smoker_count = 0, 0\n",
    "        smoker_cost, non_smoker_cost = 0, 0\n",
    "        \n",
    "        smoking_cost_lst = [(smoking, cost) for smoking, cost in zip(self.smoking, self.insurance_cost)]\n",
    "        \n",
    "        for item in smoking_cost_lst:\n",
    "            if item[0] == 'yes':\n",
    "                smoker_count += 1\n",
    "                smoker_cost += item[1]\n",
    "            elif item[0] == 'no':\n",
    "                non_smoker_count += 1\n",
    "                non_smoker_cost += item[1]\n",
    "        \n",
    "        avg_smoker_cost = round((smoker_cost/smoker_count), 2)\n",
    "        avg_non_smoker_cost = round((non_smoker_cost/non_smoker_count), 2)\n",
    "        \n",
    "        total_smoking_patients = smoker_count + non_smoker_count\n",
    "        \n",
    "        \n",
    "        print('Patients who are smokers:')\n",
    "        print('number of patients: {count} ({sp:.2%}) \\t average insurance cost: ${cost:,}.'.format(count= smoker_count, sp= (smoker_count/total_smoking_patients), cost= avg_smoker_cost))\n",
    "        print('\\n')\n",
    "        print('Patients who are non-smokers:')\n",
    "        print('number of patients: {count} ({nsp:.2%}) \\t average insurance cost: ${cost:,}.'.format(count= non_smoker_count, nsp= (non_smoker_count/total_smoking_patients), cost= avg_non_smoker_cost))\n",
    "        print('\\n')\n",
    "        \n",
    "        if avg_smoker_cost > avg_non_smoker_cost:\n",
    "            print('smokers have higher insurance costs than non-smokers.')\n",
    "        else:\n",
    "            print('non-smokers have higher insurance costs than smokers.')\n",
    "            \n",
    "    \n",
    "    # to retrieve unique regions from the data   \n",
    "    def unique_regions(self):\n",
    "        \n",
    "        regions = []\n",
    "        \n",
    "        for region in self.region:\n",
    "            if region not in regions:\n",
    "                regions.append(region)\n",
    "        print(regions)\n",
    "\n",
    "        \n",
    "    # to count the number of patients per region\n",
    "    def region_counter(self):\n",
    "        \n",
    "        northwest, southwest, northeast, southeast= 0, 0, 0, 0\n",
    "        \n",
    "        for region in self.region:\n",
    "            if region == 'northwest':\n",
    "                northwest += 1\n",
    "            elif region == 'southwest':\n",
    "                southwest += 1\n",
    "            elif region == 'northeast':\n",
    "                northeast += 1\n",
    "            elif region == 'southeast':\n",
    "                southeast += 1\n",
    "                \n",
    "        print('There are {nw} patients in northwest, {sw} patients in southwest, {ne} patients in northeast and {se} in southeast.'.format(nw= northwest, sw= southwest, ne= northeast, se= southeast))\n",
    "    \n",
    "                \n",
    "    # to calculate number of patients by region input prompted by the user\n",
    "    def patient_by_region(self, input_region):\n",
    "        \n",
    "        patients_count = 0\n",
    "        \n",
    "        for region in self.region:\n",
    "            if region == input_region:\n",
    "                patients_count += 1\n",
    "        return patients_count\n",
    "    \n",
    "    \n",
    "    # to calculate average insurance cost of patients divided by region, in case we don't know all the regions in the data\n",
    "    # returns a dictionary of regions ordered by average insurance cost from lowest to highest\n",
    "    def region_cost(self):\n",
    "        \n",
    "        regions = np.unique(np.array(self.region))\n",
    "        \n",
    "        region_cost_lst = [(region, cost) for region, cost in zip(self.region, self.insurance_cost)]\n",
    "        \n",
    "        region_cost_dict = {region:0 for region in regions}\n",
    "        \n",
    "        count, cost = 0, 0\n",
    "        \n",
    "        for key in region_cost_dict.keys():\n",
    "            for item in region_cost_lst:\n",
    "                if key == item[0]:\n",
    "                    cost += item[1]\n",
    "                    count += 1\n",
    "            region_cost_dict[key] = '${:,}'.format(round((cost/count), 2))\n",
    "            count, cost = 0, 0\n",
    "            \n",
    "        sorted_region_cost_dict = {region:cost for region,cost in sorted(region_cost_dict.items(), key= lambda item: item[1])} \n",
    "        \n",
    "        print('Average insurance cost by region from lowest to heighest:')\n",
    "        print(sorted_region_cost_dict)\n",
    "        \n",
    "        \n",
    "    # to calculate average insurance cost of patients per region\n",
    "    # also, gets regions with highest and lowest average insurance cost \n",
    "    def comprehensive_region_cost(self):\n",
    "        \n",
    "        nw_cost, sw_cost= 0, 0\n",
    "        ne_cost, se_cost= 0, 0\n",
    "        \n",
    "        nw_count, sw_count= 0, 0\n",
    "        ne_count, se_count= 0, 0\n",
    "        \n",
    "        region_cost_lst = [(region, cost) for region, cost in zip(self.region, self.insurance_cost)]\n",
    "        \n",
    "        for item in region_cost_lst:\n",
    "            if item[0] == 'northwest':\n",
    "                nw_cost += item[1]\n",
    "                nw_count += 1\n",
    "            elif item[0] == 'southwest':\n",
    "                sw_cost += item[1]\n",
    "                sw_count += 1\n",
    "            elif item[0] == 'northeast':\n",
    "                ne_cost += item[1]\n",
    "                ne_count += 1\n",
    "            elif item[0] == 'southeast':\n",
    "                se_cost += item[1]\n",
    "                se_count += 1\n",
    "        \n",
    "        avg_nw_cost = round((nw_cost/nw_count), 2)\n",
    "        avg_sw_cost = round((sw_cost/sw_count), 2)\n",
    "        avg_ne_cost = round((ne_cost/ne_count), 2)\n",
    "        avg_se_cost = round((se_cost/se_count), 2)\n",
    "        \n",
    "        total_region_patients = nw_count + sw_count + ne_count + se_count\n",
    "        \n",
    "        print('In northwest:')\n",
    "        print('number of patients: {count} ({nwp:.2%}) \\t average insurance cost: ${cost:,}.'.format(count= nw_count, nwp= (nw_count/total_region_patients), cost= avg_nw_cost))\n",
    "        print('\\n')\n",
    "        print('In southwest:')\n",
    "        print('number of patients: {count} ({swp:.2%}) \\t average insurance cost: ${cost:,}.'.format(count= sw_count, swp= (sw_count/total_region_patients), cost= avg_sw_cost))\n",
    "        print('\\n')\n",
    "        print('In northeast:')\n",
    "        print('number of patients: {count} ({nep:.2%}) \\t average insurance cost: ${cost:,}.'.format(count= ne_count, nep= (ne_count/total_region_patients), cost= avg_ne_cost))\n",
    "        print('\\n')\n",
    "        print('In southeast:')\n",
    "        print('number of patients: {count} ({sep:.2%}) \\t average insurance cost: ${cost:,}.'.format(count= se_count, sep= (se_count/total_region_patients), cost= avg_se_cost))\n",
    "        \n",
    "        print('\\n')\n",
    "        \n",
    "        min_region_cost = min(avg_nw_cost, avg_sw_cost, avg_ne_cost, avg_se_cost)\n",
    "        \n",
    "        if min_region_cost == avg_nw_cost:\n",
    "            print('northwest has the lowest average insurance costs.')\n",
    "        elif min_region_cost == avg_sw_cost:\n",
    "            print('southwest has the lowest average insurance costs.')\n",
    "        elif min_region_cost == avg_ne_cost:\n",
    "            print('northeast has the lowest average insurance costs.')\n",
    "        else:\n",
    "            print('southeast has the lowest average insurance costs.')\n",
    "        \n",
    "        print('\\n')\n",
    "        \n",
    "        max_region_cost = max(avg_nw_cost, avg_sw_cost, avg_ne_cost, avg_se_cost)\n",
    "        \n",
    "        if max_region_cost == avg_nw_cost:\n",
    "            print('northwest has the heighest average insurance costs.')\n",
    "        elif max_region_cost == avg_sw_cost:\n",
    "            print('southwest has the heighest average insurance costs.')\n",
    "        elif max_region_cost == avg_ne_cost:\n",
    "            print('northeast has the heighest average insurance costs.')\n",
    "        else:\n",
    "            print('southeast has the heighest average insurance costs.')\n",
    "    \n",
    "    \n",
    "    # to calculate average age of patients per input region prompoted by the user    \n",
    "    def region_avg_age(self, input_region):\n",
    "        \n",
    "        age_count = 0\n",
    "        patient_count = 0\n",
    "        \n",
    "        region_age_lst = [(region, age) for region, age in zip(self.region, self.age)]\n",
    "        \n",
    "        for item in region_age_lst:\n",
    "            if item[0] == input_region:\n",
    "                age_count += item[1]\n",
    "                patient_count += 1\n",
    "        \n",
    "        avg_age_region = round((age_count/patient_count), 1)\n",
    "        \n",
    "        print('The average age of patients in', input_region, 'is:', avg_age_region, 'years old.')\n",
    "    \n",
    "    \n",
    "    # to calculate average BMI of patients per input region prompoted by the user      \n",
    "    def region_avg_bmi(self, input_region):\n",
    "        \n",
    "        bmi_count = 0\n",
    "        patient_count = 0\n",
    "        \n",
    "        region_bmi_lst = [(bmi, age) for bmi, age in zip(self.region, self.bmi)]\n",
    "        \n",
    "        for item in region_bmi_lst:\n",
    "            if item[0] == input_region:\n",
    "                bmi_count += item[1]\n",
    "                patient_count += 1\n",
    "        \n",
    "        avg_bmi_region = round((bmi_count/patient_count), 2)\n",
    "        \n",
    "        print('The average BMI of patients in', input_region, 'is:', avg_bmi_region)\n",
    "    \n",
    "    \n",
    "    def region_smoking(self, input_region):\n",
    "        \n",
    "        smoker_count, non_smoker_count = 0, 0\n",
    "        \n",
    "        region_smoking_lst = [(region, smoking) for region, smoking in zip(self.region, self.smoking)]\n",
    "        \n",
    "        for item in region_smoking_lst:\n",
    "            if item[0] == input_region:\n",
    "                if item[1] == 'yes':\n",
    "                    smoker_count += 1\n",
    "                elif item[1] == 'no':\n",
    "                    non_smoker_count += 1\n",
    "        \n",
    "        total_patients = smoker_count + non_smoker_count\n",
    "        \n",
    "        print('''In {region}: \\n number of smokers: {scount} \\t\\t {sp:.2%} \\n number of non-smokers: {nscount} \\t {nsp:.2%}'''\\\n",
    "        .format(region= input_region, scount= smoker_count, nscount= non_smoker_count, sp= (smoker_count/total_patients), nsp= (non_smoker_count/total_patients)))\n",
    "                  \n"
   ]
  },
  {
   "cell_type": "code",
   "execution_count": 911,
   "metadata": {},
   "outputs": [],
   "source": [
    "patients = PatientData(ages, genders, bmis, num_of_children, smoking_statuses, regions, insurance_costs)"
   ]
  },
  {
   "cell_type": "markdown",
   "metadata": {},
   "source": [
    "### patient medical information\n",
    "In case, the user wants to access full medical information of a single patient:"
   ]
  },
  {
   "cell_type": "code",
   "execution_count": 912,
   "metadata": {
    "scrolled": true
   },
   "outputs": [
    {
     "name": "stdout",
     "output_type": "stream",
     "text": [
      " age: 33 \n",
      " sex: male \n",
      " BMI: 22.705 \n",
      " number of children: 0         \n",
      " smoking status: no \n",
      " region: northwest \n",
      " insurance cost: $21,984.47\n"
     ]
    }
   ],
   "source": [
    "patients.patient_info(3)"
   ]
  },
  {
   "cell_type": "markdown",
   "metadata": {},
   "source": [
    "to access medical infiormation for multiple patients at once:"
   ]
  },
  {
   "cell_type": "code",
   "execution_count": 913,
   "metadata": {},
   "outputs": [
    {
     "name": "stdout",
     "output_type": "stream",
     "text": [
      "{'age': [19, 33, 35, 51], 'sex': ['female', 'male', 'male', 'female'], 'BMI': [27.9, 22.705, 24.13, 39.5], 'number of children': [0, 0, 1, 1], 'smoking status': ['yes', 'no', 'no', 'no'], 'region': ['southwest', 'northwest', 'northwest', 'southwest'], 'insurance cost': ['$16,884.92', '$21,984.47', '$5,125.22', '$9,880.07']}\n"
     ]
    }
   ],
   "source": [
    "patients.patients_info([0, 3, 150, 483])"
   ]
  },
  {
   "cell_type": "markdown",
   "metadata": {},
   "source": [
    "### age and insurance cost"
   ]
  },
  {
   "cell_type": "markdown",
   "metadata": {},
   "source": [
    "To get the average age of all patients:"
   ]
  },
  {
   "cell_type": "code",
   "execution_count": 914,
   "metadata": {
    "scrolled": true
   },
   "outputs": [
    {
     "name": "stdout",
     "output_type": "stream",
     "text": [
      "Average age is: 39.2 years old.\n"
     ]
    }
   ],
   "source": [
    "patients.average_age()"
   ]
  },
  {
   "cell_type": "markdown",
   "metadata": {},
   "source": [
    "To get:\n",
    "- the youngest and oldest patients\n",
    "- divide patients by age into four age groups\n",
    "- count the number of patients in each age group and their proportions\n",
    "- calculate average insurance cost for each age group\n",
    "- determine which age group has the lowest and highest insurance cost"
   ]
  },
  {
   "cell_type": "code",
   "execution_count": 915,
   "metadata": {
    "scrolled": true
   },
   "outputs": [
    {
     "name": "stdout",
     "output_type": "stream",
     "text": [
      "The youngest patient is 18 years old and the oldest patient is 64 years old\n",
      "\n",
      "By dividing the patients into four age groups ...\n",
      "\n",
      "{(18, 30): '9,397.55', (31, 41): '11,450.54', (42, 52): '15,632.44', (53, 64): '18,302.14'}\n",
      "\n",
      "\n",
      "Age group between 18 - 30 years old\n",
      "number of patients: 444 (33.18%) \t average insurance cost: $9,397.55.\n",
      "\n",
      "\n",
      "Age group between 31 - 41 years old\n",
      "number of patients: 284 (21.23%) \t average insurance cost: $11,450.54.\n",
      "\n",
      "\n",
      "Age group between 42 - 52 years old\n",
      "number of patients: 312 (23.32%) \t average insurance cost: $15,632.44.\n",
      "\n",
      "\n",
      "Age group between 53 - 64 years old\n",
      "number of patients: 298 (22.27%) \t average insurance cost: $18,302.14.\n",
      "\n",
      "\n",
      "age group ( 18 - 30 ) has the lowest average insurance cost.\n",
      "\n",
      "\n",
      "age group ( 53 - 64 ) has the highest average insurance cost.\n"
     ]
    }
   ],
   "source": [
    "patients.age_cost()"
   ]
  },
  {
   "cell_type": "markdown",
   "metadata": {},
   "source": [
    "#### What's the relationship between patient's age and the insurance cost  that they pay?\n",
    "\n",
    "Let's start by plotting insurance cost of patients divided by our four age groups:"
   ]
  },
  {
   "cell_type": "code",
   "execution_count": 916,
   "metadata": {
    "scrolled": true
   },
   "outputs": [
    {
     "data": {
      "image/png": "[encoded data removed]",
      "text/plain": [
       "<Figure size 936x432 with 1 Axes>"
      ]
     },
     "metadata": {
      "needs_background": "light"
     },
     "output_type": "display_data"
    }
   ],
   "source": [
    "# age groups\n",
    "g1 = insurance.age[(insurance.age >= 18) & (insurance.age <= 30)]\n",
    "g2 = insurance.age[(insurance.age >= 31) & (insurance.age <= 41)]\n",
    "g3 = insurance.age[(insurance.age >= 42) & (insurance.age <= 52)]\n",
    "g4 = insurance.age[(insurance.age >= 53) & (insurance.age <= 64)]\n",
    "\n",
    "# insurance cost of each age group\n",
    "g1_cost = insurance.charges[(insurance.age >= 18) & (insurance.age <= 30)]\n",
    "g2_cost = insurance.charges[(insurance.age >= 31) & (insurance.age <= 41)]\n",
    "g3_cost = insurance.charges[(insurance.age >= 42) & (insurance.age <= 52)]\n",
    "g4_cost = insurance.charges[(insurance.age >= 53) & (insurance.age <= 64)]\n",
    "\n",
    "ages = [g1, g2, g3, g4]\n",
    "costs = [g1_cost, g2_cost, g3_cost, g4_cost]\n",
    "colors = ['steelblue', 'goldenrod', 'lightskyblue', 'powderblue']\n",
    "labels = ['underweight', 'normal weight', 'overweight', 'obese']\n",
    "\n",
    "f, ax = plt.subplots(1, 1,figsize=(13,6))\n",
    "for age, cost, color, label in zip(ages, costs, colors, labels):\n",
    "    ax.scatter(age, cost, color= color, label= label, s=17)\n",
    "\n",
    "ax.set(title= 'insurance cost by age', xlabel= 'age', ylabel= 'insurance cost ($)')\n",
    "\n",
    "ax.legend(frameon= False, loc= 'best')\n",
    "ax.set_yticks([x*10000 for x in range(1, 7)])\n",
    "ax.set_yticklabels(['{:,}'.format(x*10000) for x in range(1,7)])\n",
    "\n",
    "plt.show()\n"
   ]
  },
  {
   "cell_type": "markdown",
   "metadata": {},
   "source": [
    "as the age of the patient increases, the insurance cost increases as well. We can see that the oldest group has the highest insurance cost compared to the other young groups which may suggests that *patient's age and insurance cost are related*.\n",
    "\n",
    "maybe the older the patient, the more diseases they have or maybe they like to take care of themselves!\n",
    "\n",
    "the four age groups approximately have the same size, with the youngest group being slightly the largest.\n",
    "\n",
    "now let's visualize the average insurance cost of the four age groups:"
   ]
  },
  {
   "cell_type": "code",
   "execution_count": 917,
   "metadata": {},
   "outputs": [
    {
     "data": {
      "image/png": "[encoded data removed]",
      "text/plain": [
       "<Figure size 648x360 with 1 Axes>"
      ]
     },
     "metadata": {
      "needs_background": "light"
     },
     "output_type": "display_data"
    }
   ],
   "source": [
    "# creating 'age group' column\n",
    "conditions = [\n",
    "    (insurance['age'] >= 18) & (insurance['age'] <= 30),\n",
    "    (insurance['age'] >= 31) & (insurance['age'] <= 41),\n",
    "    (insurance['age'] >= 42) & (insurance['age'] <= 52),\n",
    "    (insurance['age'] >= 53) & (insurance['age'] <= 64)]\n",
    "values = ['group1 (18-30)', 'group2 (31-41)', 'group3 (42-52)', 'group4 (53-64)']\n",
    "insurance['age group'] = np.select(conditions, values)\n",
    "\n",
    "# plotting \"average\" insurance cost by age groups\n",
    "f, ax = plt.subplots(1, 1,figsize=(9,5))\n",
    "age_order = ['group1 (18-30)', 'group2 (31-41)', 'group3 (42-52)', 'group4 (53-64)']\n",
    "colors = ['steelblue', 'goldenrod', 'lightskyblue', 'powderblue']\n",
    "sns.barplot(x= 'age group', y= 'charges', data= insurance, order= age_order, palette= colors)\n",
    "ax.set(title= ' average insurance cost by age group', xlabel= 'age group', ylabel= 'insurance cost ($)')\n",
    "ax.set_yticks([x*1000 for x in range(0, 21, 5)])\n",
    "ax.set_yticklabels(['{:,}'.format(x*1000) for x in range(0, 21, 5)])\n",
    "plt.show()"
   ]
  },
  {
   "cell_type": "markdown",
   "metadata": {},
   "source": [
    "the average insurance cost increases with every age group, with the highest cost being paied by the oldest age group.\n",
    "\n",
    "let's check if the relationship between patient's age and insurance cost is linear or monotonic using covarience, pearson correlation for the first and spearman correlation for the second:\n",
    "\n",
    "covariance measures the strength of a *linear* relationship between two variables, its value can range from negative to positive infinity. A + value indicates that larger values of one variable are associated with larger values of the other. A - value indicates that larger values of one variable are associated with smaller values of the other. A zero covariance value means that there is no *linear* relationship between the two variables, but there could be another *non-linear* relationship between them.\n",
    "\n",
    "pearson correlation tests for *linear* relationship between two variables. In other words,  it tests for two variables moving in the same direction in a constant rate. Pearson cofficient has a value between -1 and 1. The sign of the cofficient indicates the direction of the relationship between the two variables. A + coefficient means that both variables tend to increase together, whereas a - coefficient means that as one variable increases, the other decreases.\n",
    "\n",
    "The value of the coefficient is indicative of the strength of the *linear* relationship between the two variables (we are aiming *at least* for a cofficient value > 0.3, the closer to 1 the better!). A cofficient of value zero means that there is no *linear* relationship, but there could be another *non-linear* relationship between the two variables.\n",
    "\n",
    "spearman correlation follows the same logic, though it tests for a *monotonic* relationship between two variables that is two variable moving in the same direction, but not necessarily at a constant rate. Spearman cofficient also has a range between -1 and 1.\n",
    "\n",
    "also, I will be reporting the p-value of each correlation to confirm if what we are observing in our data sample is representative of the population and not just a mere concidence."
   ]
  },
  {
   "cell_type": "code",
   "execution_count": 918,
   "metadata": {},
   "outputs": [
    {
     "name": "stdout",
     "output_type": "stream",
     "text": [
      "covariance:\n",
      "50874.8 \n",
      "\n",
      "pearson correlation:\n",
      "coefficient: 0.3\n",
      "p-value: 0.9328921288772233 \n",
      "\n",
      "spearman correlation:\n",
      "coefficient: 0.12\n",
      "p-value: 0.00001\n"
     ]
    }
   ],
   "source": [
    "# covariance \n",
    "cov = np.cov(insurance.age , insurance.charges)\n",
    "print('covariance:')\n",
    "print(round((cov[0][1]), 1),'\\n')\n",
    "\n",
    "# pearson correlation \n",
    "corr, p = stat.pearsonr(insurance.age, insurance.charges)\n",
    "print('pearson correlation:')\n",
    "print('coefficient:', round(corr, 2))\n",
    "print('p-value:', pval, '\\n')\n",
    "\n",
    "# spearman correlation\n",
    "corr, pval = stat.spearmanr(insurance.bmi, insurance.charges)\n",
    "print('spearman correlation:')\n",
    "print('coefficient:', round(corr, 2))\n",
    "print('p-value: {:.5f}'.format(pval))"
   ]
  },
  {
   "cell_type": "markdown",
   "metadata": {},
   "source": [
    "covariance: the large positive value indicates that higher insurance costs are associated with older patients.\n",
    "\n",
    "pearson correlation: pearson coefficient value means that there is relatively weak *linear* relationship between age and insurance cost. The positive sign of the coefficient indicates that as patient's age increase, so does the insurance cost.\n",
    "At a significance level of 0.05, p-value is significant meaning that there is a significant correlation between patient's age and insurance cost in the population.\n",
    "\n",
    "spearman correlation: spearman coefficient value means that there is a weak *monotonic* relationship between age and insurance cost. The positive sign of the coefficient indicates that as patient's age increase, so does the insurance cost.\n",
    "At a significance level of 0.05, p-value is significant meaning that there is a significant correlation between patient's age and insurance cost in the population.\n",
    "\n",
    "#### Is patient's age and insurance cost associated?\n",
    "\n",
    "to test for association between age and insurance cost of a patient, I will run **ANOVA** test, with the following hypotheses:\n",
    "\n",
    "**H0:** There is *no* difference in insurance cost between patients in different age groups.\n",
    "\n",
    "**H1:** There *is* a difference in insurance cost between at least one pair of age groups.\n"
   ]
  },
  {
   "cell_type": "code",
   "execution_count": 919,
   "metadata": {},
   "outputs": [
    {
     "name": "stdout",
     "output_type": "stream",
     "text": [
      "p-value of ANOVA test: 7.065042403114954e-26\n"
     ]
    }
   ],
   "source": [
    "# ANOVA\n",
    "fstat, pval = stat.f_oneway(g1_cost, g2_cost, g3_cost, g4_cost)\n",
    "print('p-value of ANOVA test:', pval)"
   ]
  },
  {
   "cell_type": "markdown",
   "metadata": {},
   "source": [
    "At a significance level of 0.05, there is a significant association between at least one pair of age groups and insurance cost. In order to know which pair(s) of age groups they are, I will use **Tukey's range** test:"
   ]
  },
  {
   "cell_type": "code",
   "execution_count": 920,
   "metadata": {
    "scrolled": true
   },
   "outputs": [
    {
     "name": "stdout",
     "output_type": "stream",
     "text": [
      "           Multiple Comparison of Means - Tukey HSD, FWER=0.05            \n",
      "==========================================================================\n",
      "    group1         group2      meandiff p-adj    lower     upper    reject\n",
      "--------------------------------------------------------------------------\n",
      "group1 (18-30) group2 (31-41) 2052.9883 0.0914 -212.2373  4318.2139  False\n",
      "group1 (18-30) group3 (42-52) 6234.8845  0.001 4032.5233  8437.2457   True\n",
      "group1 (18-30) group4 (53-64) 8904.5896  0.001 6672.0521 11137.1271   True\n",
      "group2 (31-41) group3 (42-52) 4181.8962  0.001 1736.8724  6626.9201   True\n",
      "group2 (31-41) group4 (53-64) 6851.6013  0.001 4379.3613  9323.8413   True\n",
      "group3 (42-52) group4 (53-64) 2669.7051 0.0234  254.9342  5084.4759   True\n",
      "--------------------------------------------------------------------------\n"
     ]
    }
   ],
   "source": [
    "# Tukey's range test\n",
    "print(pairwise_tukeyhsd(insurance.charges, insurance['age group'], 0.05))"
   ]
  },
  {
   "cell_type": "markdown",
   "metadata": {},
   "source": [
    "from the table above and at a significance level of 0.05, there is a significant association between age and insurance cost in the following pairs: group4/group1, group4/group2, group4/group3, group3/group1 and group3/group2 (That's five out of six pairs!). The first three pairs included group 4, which is the oldest group of patients we have in the data, and the last two pairs included group 3, the second oldest group.\n",
    "> <span style= 'color:goldenrod'> **There is an association between patient's age and insurance cost** </span>"
   ]
  },
  {
   "cell_type": "markdown",
   "metadata": {},
   "source": [
    "### gender and insurance cost"
   ]
  },
  {
   "cell_type": "markdown",
   "metadata": {},
   "source": [
    "To count the number of patients by gender and their proportions. Also, points which gender represents the majority in the given data:"
   ]
  },
  {
   "cell_type": "code",
   "execution_count": 921,
   "metadata": {},
   "outputs": [
    {
     "name": "stdout",
     "output_type": "stream",
     "text": [
      "There are 662 (49.48%) female patients and 676 (50.52%) male patients.\n",
      "\n",
      "male patients are more than female patients by 1.05%.\n"
     ]
    }
   ],
   "source": [
    "patients.gender_counter()"
   ]
  },
  {
   "cell_type": "markdown",
   "metadata": {},
   "source": [
    "calculating average insurance cost by gender and determine which gender pays higher insurance cost:"
   ]
  },
  {
   "cell_type": "code",
   "execution_count": 922,
   "metadata": {
    "scrolled": true
   },
   "outputs": [
    {
     "name": "stdout",
     "output_type": "stream",
     "text": [
      "The average insurance cost for females is $12,569.58.\n",
      "The average insurance cost for males is $13,956.75.\n",
      "\n",
      "\n",
      "Male patients tend to have a higher average insurance cost compared to females.\n"
     ]
    }
   ],
   "source": [
    "patients.gender_costs()"
   ]
  },
  {
   "cell_type": "markdown",
   "metadata": {},
   "source": [
    "#### Is there an association between patient's gender and the insurance cost that they pay?\n",
    "\n",
    "Let's start by plotting insurance cost of both genders:"
   ]
  },
  {
   "cell_type": "code",
   "execution_count": 923,
   "metadata": {},
   "outputs": [
    {
     "data": {
      "image/png": "[encoded data removed]",
      "text/plain": [
       "<Figure size 432x360 with 1 Axes>"
      ]
     },
     "metadata": {
      "needs_background": "light"
     },
     "output_type": "display_data"
    }
   ],
   "source": [
    "# plotting female vs. male insurance costs\n",
    "f, ax= plt.subplots(1, 1, figsize=(6,5))\n",
    "sns.boxplot(data= insurance, x= 'sex', y= 'charges', palette= ['powderblue', 'wheat'])\n",
    "ax.set(title= 'insurance cost by gender', xlabel= 'gender', ylabel= 'insurance cost ($)')\n",
    "ax.set_yticks([x*10000 for x in range(1, 7)])\n",
    "ax.set_yticklabels(['{:,}'.format(x*10000) for x in range(1,7)])\n",
    "plt.show()"
   ]
  },
  {
   "cell_type": "markdown",
   "metadata": {},
   "source": [
    "from the figure, we see that there is a great overlap between the two boxes which suggests that there isn't much difference in insurance cost paied by both genders. This could mean that there is no association between gender and insurance cost, however we need to prove it statistically.\n",
    "\n",
    "to check for the association between gender and insurance cost, I will be using **two-sample T-test** with the following hypotheses:\n",
    "\n",
    "**H0:** There is *no* difference in insurance cost of females and males.\n",
    "\n",
    "**H1:** There *is* a difference in insurance cost of females and males.\n",
    "\n",
    "\n",
    "Assuming that the data was randomly collected,\n",
    "\n",
    "I will calculate standard deviation ratio of insurance cost for both genders (we are aiming for a value close to 1), then I will check for its distribution:"
   ]
  },
  {
   "cell_type": "code",
   "execution_count": 924,
   "metadata": {
    "scrolled": false
   },
   "outputs": [
    {
     "name": "stdout",
     "output_type": "stream",
     "text": [
      "standard deviation ratio = 0.9\n"
     ]
    },
    {
     "data": {
      "image/png": "[encoded data removed]",
      "text/plain": [
       "<Figure size 1152x288 with 2 Axes>"
      ]
     },
     "metadata": {
      "needs_background": "light"
     },
     "output_type": "display_data"
    }
   ],
   "source": [
    "# getting insurance cost for each gender\n",
    "female_cost = insurance.charges[insurance.sex == 'female']\n",
    "male_cost = insurance.charges[insurance.sex == 'male']\n",
    "\n",
    "# standard deviation ratio\n",
    "ratio = (np.std(female_cost)/np.std(male_cost))\n",
    "print('standard deviation ratio =', round(ratio, 1))\n",
    "\n",
    "# plotting histograms for insurance cost of females and males\n",
    "f, (ax1, ax2)= plt.subplots(1, 2, figsize=(16,4))\n",
    "\n",
    "# females insurance cost distribution\n",
    "ax1.hist(female_cost, alpha= 0.5, label= 'females', density= True, bins= 25, color= 'powderblue')\n",
    "ax1.set(title= 'females insurance cost distribution', xlabel= 'insurance cost ($)', ylabel= 'number of patients')\n",
    "ax1.axvline(x= np.mean(female_cost), label= 'mean', color = 'steelblue')\n",
    "ax1.set_xticks([x*10000 for x in np.arange(0.25,7, 1)])\n",
    "ax1.set_xticklabels(['{:,}'.format(int(x*10000)) for x in np.arange(0.25,7, 1)])\n",
    "ax1.legend(frameon= False, loc= 'best')\n",
    "\n",
    "# males insurance cost distribution\n",
    "ax2.hist(male_cost, alpha= 0.7, label= 'males', density= True, bins= 25, color= 'wheat')\n",
    "ax2.set(title= 'males insurance cost distribution', xlabel= 'insurance cost ($)', ylabel= 'number of patients')\n",
    "ax2.axvline(x= np.mean(male_cost), label= 'mean', color = 'darkgoldenrod')\n",
    "ax2.set_xticks([x*10000 for x in np.arange(0.25,7, 1)])\n",
    "ax2.set_xticklabels(['{:,}'.format(int(x*10000)) for x in np.arange(0.25,7, 1)])\n",
    "ax2.legend(frameon= False, loc= 'best')\n",
    "\n",
    "plt.show()"
   ]
  },
  {
   "cell_type": "markdown",
   "metadata": {},
   "source": [
    "stanadrad deviation ratio: 0.9 is close to 1\n",
    "\n",
    "distribution: insurance cost distribution of both genders is right-skewed.\n",
    "For this reason, I will use log transformation to have a normal distribution and meet two-side T-test condition:"
   ]
  },
  {
   "cell_type": "code",
   "execution_count": 925,
   "metadata": {},
   "outputs": [
    {
     "data": {
      "image/png": "[encoded data removed]",
      "text/plain": [
       "<Figure size 1152x288 with 2 Axes>"
      ]
     },
     "metadata": {
      "needs_background": "light"
     },
     "output_type": "display_data"
    }
   ],
   "source": [
    "# log transformation\n",
    "log_female_cost = np.log(female_cost)\n",
    "log_male_cost = np.log(male_cost)\n",
    "\n",
    "# re-plotting histograms\n",
    "f, (ax1, ax2)= plt.subplots(1, 2, figsize=(16,4))\n",
    "\n",
    "# logged females insurance cost distribution\n",
    "ax1.hist(log_female_cost, alpha= 0.5, label= 'log females', density= True, bins= 25, color= 'powderblue')\n",
    "ax1.set(title= 'log females insurance cost distribution')\n",
    "ax1.axvline(x= np.mean(log_female_cost), label= 'log mean', color = 'steelblue')\n",
    "ax1.legend(frameon= False, loc= 'best')\n",
    "\n",
    "# logged males insurance cost distribution\n",
    "ax2.hist(log_male_cost, alpha= 0.7, label= 'log males', bins= 25, color= 'wheat')\n",
    "ax2.set(title= 'log males insurance cost distribution')\n",
    "ax2.axvline(x= np.mean(log_male_cost), label= 'log mean', color = 'darkgoldenrod')\n",
    "ax2.legend(frameon= False, loc= 'best')\n",
    "\n",
    "plt.show()"
   ]
  },
  {
   "cell_type": "markdown",
   "metadata": {},
   "source": [
    "distribution: insurance cost for both genders is normally distributed\n",
    "\n",
    "Now, we can proceed with our two-sample T-test and taking a significant threshold of 0.05:"
   ]
  },
  {
   "cell_type": "code",
   "execution_count": 926,
   "metadata": {},
   "outputs": [
    {
     "name": "stdout",
     "output_type": "stream",
     "text": [
      "P-value of two sample T-test: 0.84 > significant threshold (0.05)\n",
      "\n",
      "There is no association between insurance cost and gender,\n",
      "as there is no significant difference in insurance cost of females and males.\n"
     ]
    }
   ],
   "source": [
    "# two sample T-Test\n",
    "sig_threshold = 0.05\n",
    "\n",
    "tsta, pval = stat.ttest_ind(log_female_cost, log_male_cost)\n",
    "\n",
    "if pval < sig_threshold:\n",
    "    print('P-value of two sample T-test:', round(pval,2), '< significant threshold (0.05)')\n",
    "    print('There is an association between insurance cost and gender,\\n\\\n",
    "as there is a significant difference in insurance cost of females and males.')\n",
    "else:\n",
    "    print('P-value of two sample T-test:', round(pval,2), '> significant threshold (0.05)\\n')\n",
    "    print('There is no association between insurance cost and gender,\\n\\\n",
    "as there is no significant difference in insurance cost of females and males.') \n",
    "    "
   ]
  },
  {
   "cell_type": "markdown",
   "metadata": {},
   "source": [
    "The two-sample T-test p-value (0.84) is greater than the significant threshold of 0.05. Therefore, the null hypothesis is *true* and we conclude that indeed\n",
    "> <span style= 'color:goldenrod'> **There is no association between insurance cost and gender** </span>"
   ]
  },
  {
   "cell_type": "markdown",
   "metadata": {},
   "source": [
    "### BMI and insurance cost"
   ]
  },
  {
   "cell_type": "markdown",
   "metadata": {},
   "source": [
    "First, patients are divided into four groups based on their BMI (body mass index):\n",
    "- underweight (BMI less than 18.5)\n",
    "- normal weight (18.5 ≤ BMI < 25)\n",
    "- overweight (25 ≤ BMI < 30)\n",
    "- obese (BMI more than 30)\n",
    "\n",
    "Then, the method counts the number of patients in each BMI group, their proportions, calculates the average insurance cost and determines which BMI group has the lowest and highest insurance cost:"
   ]
  },
  {
   "cell_type": "code",
   "execution_count": 927,
   "metadata": {
    "scrolled": false
   },
   "outputs": [
    {
     "name": "stdout",
     "output_type": "stream",
     "text": [
      "Underweight group (BMI < 18.5):\n",
      "number of patients: 20 (1.49%) \t\t average insurance cost: $8,852.2.\n",
      "\n",
      "\n",
      "Normal weight group (18.5 ≤ BMI < 25):\n",
      "number of patients: 225 (16.82%) \t average insurance cost: $10,409.34.\n",
      "\n",
      "\n",
      "Overweight group (25 ≤ BMI < 30):\n",
      "number of patients: 386 (28.85%) \t average insurance cost: $10,987.51.\n",
      "\n",
      "\n",
      "Obese group (BMI ≥ 30):\n",
      "number of patients: 707 (52.84%) \t average insurance cost: $15,552.34.\n",
      "\n",
      "\n",
      "underwight patients have the lowest average insurance cost.\n",
      "\n",
      "\n",
      "obese patients have the highest average insurance cost.\n"
     ]
    }
   ],
   "source": [
    "patients.bmi_cost()"
   ]
  },
  {
   "cell_type": "markdown",
   "metadata": {},
   "source": [
    "From the analysis above, we see that as the BMI increases, the average insurance cost increases too. This suggests that *patient's BMI and insurance cost are related*.\n",
    "> More than half of the patients in the data are obese, and it is known that obesity is related to several diseases such as diabetes, cardiovascular diseases, hypertension, dyslipidemia (low LDL, high HDL and triglycerides) and much more. \n",
    "As a recommendation for those patients to cut down their insurance cost, is to reduce their BMI through diet and exercise."
   ]
  },
  {
   "cell_type": "markdown",
   "metadata": {},
   "source": [
    "#### What's the relationship between patient's BMI and the insurance cost  that they pay?\n",
    "\n",
    "Let's start by plotting insurance cost of patients divided by their BMI group:"
   ]
  },
  {
   "cell_type": "code",
   "execution_count": 928,
   "metadata": {},
   "outputs": [],
   "source": [
    "# insurance cost of each BMI group\n",
    "uw_cost = insurance.charges[insurance.bmi < 18.5]\n",
    "nor_cost = insurance.charges[(insurance.bmi >= 18.5) & (insurance.bmi < 25)]\n",
    "ow_cost = insurance.charges[(insurance.bmi >= 25) & (insurance.bmi < 30)]\n",
    "ob_cost = insurance.charges[insurance.bmi >= 30]"
   ]
  },
  {
   "cell_type": "code",
   "execution_count": 929,
   "metadata": {
    "scrolled": true
   },
   "outputs": [
    {
     "data": {
      "image/png": "[encoded data removed]",
      "text/plain": [
       "<Figure size 936x432 with 1 Axes>"
      ]
     },
     "metadata": {
      "needs_background": "light"
     },
     "output_type": "display_data"
    }
   ],
   "source": [
    "# plotting insurance cost by BMI group\n",
    "bmi_groups = [insurance.bmi[insurance.bmi < 18.5], insurance.bmi[(insurance.bmi >= 18.5) & (insurance.bmi < 25)], insurance.bmi[(insurance.bmi >= 25) & (insurance.bmi < 30)], insurance.bmi[insurance.bmi >= 30]]\n",
    "bmi_costs = [uw_cost, nor_cost, ow_cost, ob_cost]\n",
    "colors = ['steelblue', 'goldenrod', 'lightskyblue', 'powderblue']\n",
    "labels = ['underweight', 'normal weight', 'overweight', 'obese']\n",
    "\n",
    "f, ax = plt.subplots(1, 1,figsize=(13,6))\n",
    "for bmi_group, cost, color, label in zip(bmi_groups, bmi_costs, colors, labels):\n",
    "    ax.scatter(bmi_group, cost, color= color, label= label, s=17)\n",
    "\n",
    "ax.axhline(np.mean(insurance.charges), color= 'black', linewidth= 1, linestyle= 'dashed')\n",
    "ax.text(47, np.mean(insurance.charges)+ 1000, 'average insurance cost')\n",
    "ax.set(title= 'insurance cost by BMI', xlabel= 'BMI', ylabel= 'insurance cost ($)')\n",
    "\n",
    "ax.legend(frameon= False, loc= 'best')\n",
    "ax.set_yticks([x*10000 for x in range(0, 7)])\n",
    "ax.set_yticklabels(['{:,}'.format(x*10000) for x in range(0,7)])\n",
    "plt.show()"
   ]
  },
  {
   "cell_type": "markdown",
   "metadata": {},
   "source": [
    "as we determined earlier, more than 50% of the patients in the data are obese. The number of patients in one BMI group is higher than the former BMI group (number of patients: underweight < normal weight < overweight < obese) and so does those who are paying higher insurance cost than the average.\n",
    "\n",
    "now, let's plot the average insurance cost each BMI group pays:"
   ]
  },
  {
   "cell_type": "code",
   "execution_count": 930,
   "metadata": {},
   "outputs": [
    {
     "data": {
      "text/html": [
       "<div>\n",
       "<style scoped>\n",
       "    .dataframe tbody tr th:only-of-type {\n",
       "        vertical-align: middle;\n",
       "    }\n",
       "\n",
       "    .dataframe tbody tr th {\n",
       "        vertical-align: top;\n",
       "    }\n",
       "\n",
       "    .dataframe thead th {\n",
       "        text-align: right;\n",
       "    }\n",
       "</style>\n",
       "<table border=\"1\" class=\"dataframe\">\n",
       "  <thead>\n",
       "    <tr style=\"text-align: right;\">\n",
       "      <th></th>\n",
       "      <th>age</th>\n",
       "      <th>sex</th>\n",
       "      <th>bmi</th>\n",
       "      <th>children</th>\n",
       "      <th>smoker</th>\n",
       "      <th>region</th>\n",
       "      <th>charges</th>\n",
       "      <th>age group</th>\n",
       "      <th>bmi group</th>\n",
       "    </tr>\n",
       "  </thead>\n",
       "  <tbody>\n",
       "    <tr>\n",
       "      <th>0</th>\n",
       "      <td>19</td>\n",
       "      <td>female</td>\n",
       "      <td>27.900</td>\n",
       "      <td>0</td>\n",
       "      <td>yes</td>\n",
       "      <td>southwest</td>\n",
       "      <td>16884.92400</td>\n",
       "      <td>group1 (18-30)</td>\n",
       "      <td>overweight</td>\n",
       "    </tr>\n",
       "    <tr>\n",
       "      <th>1</th>\n",
       "      <td>18</td>\n",
       "      <td>male</td>\n",
       "      <td>33.770</td>\n",
       "      <td>1</td>\n",
       "      <td>no</td>\n",
       "      <td>southeast</td>\n",
       "      <td>1725.55230</td>\n",
       "      <td>group1 (18-30)</td>\n",
       "      <td>obese</td>\n",
       "    </tr>\n",
       "    <tr>\n",
       "      <th>2</th>\n",
       "      <td>28</td>\n",
       "      <td>male</td>\n",
       "      <td>33.000</td>\n",
       "      <td>3</td>\n",
       "      <td>no</td>\n",
       "      <td>southeast</td>\n",
       "      <td>4449.46200</td>\n",
       "      <td>group1 (18-30)</td>\n",
       "      <td>obese</td>\n",
       "    </tr>\n",
       "    <tr>\n",
       "      <th>3</th>\n",
       "      <td>33</td>\n",
       "      <td>male</td>\n",
       "      <td>22.705</td>\n",
       "      <td>0</td>\n",
       "      <td>no</td>\n",
       "      <td>northwest</td>\n",
       "      <td>21984.47061</td>\n",
       "      <td>group2 (31-41)</td>\n",
       "      <td>normal weight</td>\n",
       "    </tr>\n",
       "    <tr>\n",
       "      <th>4</th>\n",
       "      <td>32</td>\n",
       "      <td>male</td>\n",
       "      <td>28.880</td>\n",
       "      <td>0</td>\n",
       "      <td>no</td>\n",
       "      <td>northwest</td>\n",
       "      <td>3866.85520</td>\n",
       "      <td>group2 (31-41)</td>\n",
       "      <td>overweight</td>\n",
       "    </tr>\n",
       "  </tbody>\n",
       "</table>\n",
       "</div>"
      ],
      "text/plain": [
       "   age     sex     bmi  children smoker     region      charges  \\\n",
       "0   19  female  27.900         0    yes  southwest  16884.92400   \n",
       "1   18    male  33.770         1     no  southeast   1725.55230   \n",
       "2   28    male  33.000         3     no  southeast   4449.46200   \n",
       "3   33    male  22.705         0     no  northwest  21984.47061   \n",
       "4   32    male  28.880         0     no  northwest   3866.85520   \n",
       "\n",
       "        age group      bmi group  \n",
       "0  group1 (18-30)     overweight  \n",
       "1  group1 (18-30)          obese  \n",
       "2  group1 (18-30)          obese  \n",
       "3  group2 (31-41)  normal weight  \n",
       "4  group2 (31-41)     overweight  "
      ]
     },
     "execution_count": 930,
     "metadata": {},
     "output_type": "execute_result"
    }
   ],
   "source": [
    "# creating 'bmi group' column\n",
    "conditions = [\n",
    "    (insurance['bmi'] < 18.5),\n",
    "    (insurance['bmi'] >= 18.5) & (insurance['bmi'] < 25),\n",
    "    (insurance['bmi'] >= 25) & (insurance['bmi'] < 30),\n",
    "    (insurance['bmi'] >= 30)]\n",
    "values = ['underweight', 'normal weight', 'overweight', 'obese']\n",
    "insurance['bmi group'] = np.select(conditions, values)\n",
    "insurance.head()"
   ]
  },
  {
   "cell_type": "code",
   "execution_count": 931,
   "metadata": {},
   "outputs": [
    {
     "data": {
      "image/png": "[encoded data removed]",
      "text/plain": [
       "<Figure size 648x360 with 1 Axes>"
      ]
     },
     "metadata": {
      "needs_background": "light"
     },
     "output_type": "display_data"
    }
   ],
   "source": [
    "# plotting \"average\" insurance cost by BMI group\n",
    "f, ax = plt.subplots(1, 1,figsize=(9,5))\n",
    "bmi_order = ['underweight', 'normal weight', 'overweight', 'obese']\n",
    "colors = ['steelblue', 'goldenrod', 'lightskyblue', 'powderblue']\n",
    "sns.barplot(x= 'bmi group', y= 'charges', data= insurance, order= bmi_order, palette= colors)\n",
    "ax.set(title= 'average insurance cost by BMI group', xlabel= 'BMI group', ylabel= 'insurance cost ($)')\n",
    "ax.set_yticks([x*1000 for x in range(0, 17, 4)])\n",
    "ax.set_yticklabels(['{:,}'.format(x*1000) for x in range(0, 17, 4)])\n",
    "plt.show()"
   ]
  },
  {
   "cell_type": "markdown",
   "metadata": {},
   "source": [
    "the average insurance cost increases as the BMI increase.\n",
    "\n",
    "now, let's quantifiy the relationship between patient's BMI and insurance cost by calculating covariance and correlation. I will be using pearson correlation to check for the strength of a linear relationship and spearman correlation to check for a monotonic relationship between the two variables:"
   ]
  },
  {
   "cell_type": "code",
   "execution_count": 932,
   "metadata": {
    "scrolled": false
   },
   "outputs": [
    {
     "name": "stdout",
     "output_type": "stream",
     "text": [
      "covariance:\n",
      "14647.3 \n",
      "\n",
      "pearson correlation:\n",
      "coefficient: 0.2\n",
      "p-value: 2.459085535117846e-13 \n",
      "\n",
      "spearman correlation:\n",
      "coefficient: 0.12\n",
      "p-value: 0.00001\n"
     ]
    }
   ],
   "source": [
    "# covariance \n",
    "cov = np.cov(insurance.bmi , insurance.charges)\n",
    "print('covariance:')\n",
    "print(round((cov[0][1]), 1),'\\n')\n",
    "\n",
    "# pearson correlation \n",
    "corr, pval = stat.pearsonr(insurance.bmi, insurance.charges)\n",
    "print('pearson correlation:')\n",
    "print('coefficient:',round(corr, 2))\n",
    "print('p-value:', pval, '\\n')\n",
    "\n",
    "# spearman correlation\n",
    "corr, pval = stat.spearmanr(insurance.bmi, insurance.charges)\n",
    "print('spearman correlation:')\n",
    "print('coefficient:', round(corr, 2))\n",
    "print('p-value: {:.5f}'.format(pval))\n"
   ]
  },
  {
   "cell_type": "markdown",
   "metadata": {},
   "source": [
    "covariance: large positive value indicates that the higher BMI of a patient, the higher the insurance cost they pay.\n",
    "\n",
    "pearson correlation: pearson coefficient indicates a very weak *linear* correlation between patient's BMI and insurance cost. This doesn't mean that there is no correlation between BMI and insurance cost, only that there is no *linear* correlation between them. The coefficient is positive meaning that as BMI increases, insurance cost increases too. At a significance level of 0.05, p-value is significant. There is a significant correlation between BMI and insurance cost in the population.\n",
    "\n",
    "\n",
    "spearman correlation: spearman coefficient indicates a very weak *monotonic* correlation between BMI and insurance cost. The positive value denotes that as BMI increase, insurance cost increase too.\n",
    "At a significance level of 0.05, p-value is significant - spearman coefficient is significant. There is a significant correlation between BMI and insurance cost in the population.\n",
    "\n",
    "\n",
    "#### Is patient's BMI and insurance cost associated?\n",
    "\n",
    "to test for association between the two variables, I will run **ANOVA** test, with the following hypotheses:\n",
    "\n",
    "**H0:** There is *no* difference in insurance cost between patients' BMI groups.\n",
    "\n",
    "\n",
    "**H1:** There *is* a difference in insurance cost between at least one pair of BMI groups.\n",
    "\n"
   ]
  },
  {
   "cell_type": "code",
   "execution_count": 933,
   "metadata": {
    "scrolled": true
   },
   "outputs": [
    {
     "name": "stdout",
     "output_type": "stream",
     "text": [
      "p-value of ANOVA test: 6.66279768069733e-12\n"
     ]
    }
   ],
   "source": [
    "# ANOVA\n",
    "fstat, pval = stat.f_oneway(uw_cost, nor_cost, ow_cost, ob_cost)\n",
    "print('p-value of ANOVA test:', pval)"
   ]
  },
  {
   "cell_type": "markdown",
   "metadata": {},
   "source": [
    "At a significance level of 0.05, there is a significant association between at least one pair of BMI groups and insurance cost. In order to know which pair(s) of BMI groups they are, I will use **Tukey's range** test:"
   ]
  },
  {
   "cell_type": "code",
   "execution_count": 934,
   "metadata": {
    "scrolled": true
   },
   "outputs": [
    {
     "name": "stdout",
     "output_type": "stream",
     "text": [
      "           Multiple Comparison of Means - Tukey HSD, FWER=0.05           \n",
      "=========================================================================\n",
      "    group1       group2    meandiff  p-adj     lower      upper    reject\n",
      "-------------------------------------------------------------------------\n",
      "normal weight       obese  5142.9978  0.001   2804.7037  7481.2919   True\n",
      "normal weight  overweight   578.1722    0.9  -1984.1152  3140.4596  False\n",
      "normal weight underweight -1557.1371    0.9  -8685.1574  5570.8832  False\n",
      "        obese  overweight -4564.8256  0.001  -6498.1239 -2631.5273   True\n",
      "        obese underweight -6700.1349 0.0623 -13626.9667   226.6969  False\n",
      "   overweight underweight -2135.3093 0.8451  -9140.9282  4870.3096  False\n",
      "-------------------------------------------------------------------------\n"
     ]
    }
   ],
   "source": [
    "# Tukey's range test\n",
    "print(pairwise_tukeyhsd(insurance.charges, insurance['bmi group'], 0.05))"
   ]
  },
  {
   "cell_type": "markdown",
   "metadata": {},
   "source": [
    "There is a significant difference in insurance cost between patients with normal weight and obese, and overweight and obese (p-value = 0.001)\n",
    "> <span style= 'color:goldenrod'> **There is an association between patient's BMI and insurance cost** </span>"
   ]
  },
  {
   "cell_type": "markdown",
   "metadata": {},
   "source": [
    "### number of children and insurance cost"
   ]
  },
  {
   "cell_type": "markdown",
   "metadata": {},
   "source": [
    "The method below returns a dictionary that includes the following:\n",
    "- key: number of children from smallest to largest\n",
    "- value: a list; containing the average insurance cost paid by patients with the corresponding number of children and their count\n",
    "\n",
    "It also determines which number of patient's children are associated with lowest and highest average insurance cost:"
   ]
  },
  {
   "cell_type": "code",
   "execution_count": 935,
   "metadata": {
    "scrolled": false
   },
   "outputs": [
    {
     "name": "stdout",
     "output_type": "stream",
     "text": [
      "{0: [12365.98, '574 patients'], 1: [12731.17, '324 patients'], 2: [15073.56, '240 patients'], 3: [15355.32, '157 patients'], 4: [13850.66, '25 patients'], 5: [8786.04, '18 patients']} \n",
      "\n",
      "The highest average insurance cost is $15,355.32 for patients with 3 children.\n",
      "\n",
      "The lowest average insurance cost is $0 for patients with 0 children.\n",
      "\n"
     ]
    }
   ],
   "source": [
    "patients.children_cost()"
   ]
  },
  {
   "cell_type": "markdown",
   "metadata": {},
   "source": [
    "#### What's the relationship between patient's children number and the insurance cost they pay?\n",
    "\n",
    "Let's plot insurance cost of patients per number of children. First, let's start by dividing patients into three groups based on their number of children: patients with no children, patients with one to three children and patients with more than three children:"
   ]
  },
  {
   "cell_type": "code",
   "execution_count": 936,
   "metadata": {},
   "outputs": [
    {
     "data": {
      "text/html": [
       "<div>\n",
       "<style scoped>\n",
       "    .dataframe tbody tr th:only-of-type {\n",
       "        vertical-align: middle;\n",
       "    }\n",
       "\n",
       "    .dataframe tbody tr th {\n",
       "        vertical-align: top;\n",
       "    }\n",
       "\n",
       "    .dataframe thead th {\n",
       "        text-align: right;\n",
       "    }\n",
       "</style>\n",
       "<table border=\"1\" class=\"dataframe\">\n",
       "  <thead>\n",
       "    <tr style=\"text-align: right;\">\n",
       "      <th></th>\n",
       "      <th>age</th>\n",
       "      <th>sex</th>\n",
       "      <th>bmi</th>\n",
       "      <th>children</th>\n",
       "      <th>smoker</th>\n",
       "      <th>region</th>\n",
       "      <th>charges</th>\n",
       "      <th>age group</th>\n",
       "      <th>bmi group</th>\n",
       "      <th>offspring group</th>\n",
       "    </tr>\n",
       "  </thead>\n",
       "  <tbody>\n",
       "    <tr>\n",
       "      <th>0</th>\n",
       "      <td>19</td>\n",
       "      <td>female</td>\n",
       "      <td>27.900</td>\n",
       "      <td>0</td>\n",
       "      <td>yes</td>\n",
       "      <td>southwest</td>\n",
       "      <td>16884.92400</td>\n",
       "      <td>group1 (18-30)</td>\n",
       "      <td>overweight</td>\n",
       "      <td>no children</td>\n",
       "    </tr>\n",
       "    <tr>\n",
       "      <th>1</th>\n",
       "      <td>18</td>\n",
       "      <td>male</td>\n",
       "      <td>33.770</td>\n",
       "      <td>1</td>\n",
       "      <td>no</td>\n",
       "      <td>southeast</td>\n",
       "      <td>1725.55230</td>\n",
       "      <td>group1 (18-30)</td>\n",
       "      <td>obese</td>\n",
       "      <td>1-3 children</td>\n",
       "    </tr>\n",
       "    <tr>\n",
       "      <th>2</th>\n",
       "      <td>28</td>\n",
       "      <td>male</td>\n",
       "      <td>33.000</td>\n",
       "      <td>3</td>\n",
       "      <td>no</td>\n",
       "      <td>southeast</td>\n",
       "      <td>4449.46200</td>\n",
       "      <td>group1 (18-30)</td>\n",
       "      <td>obese</td>\n",
       "      <td>1-3 children</td>\n",
       "    </tr>\n",
       "    <tr>\n",
       "      <th>3</th>\n",
       "      <td>33</td>\n",
       "      <td>male</td>\n",
       "      <td>22.705</td>\n",
       "      <td>0</td>\n",
       "      <td>no</td>\n",
       "      <td>northwest</td>\n",
       "      <td>21984.47061</td>\n",
       "      <td>group2 (31-41)</td>\n",
       "      <td>normal weight</td>\n",
       "      <td>no children</td>\n",
       "    </tr>\n",
       "    <tr>\n",
       "      <th>4</th>\n",
       "      <td>32</td>\n",
       "      <td>male</td>\n",
       "      <td>28.880</td>\n",
       "      <td>0</td>\n",
       "      <td>no</td>\n",
       "      <td>northwest</td>\n",
       "      <td>3866.85520</td>\n",
       "      <td>group2 (31-41)</td>\n",
       "      <td>overweight</td>\n",
       "      <td>no children</td>\n",
       "    </tr>\n",
       "  </tbody>\n",
       "</table>\n",
       "</div>"
      ],
      "text/plain": [
       "   age     sex     bmi  children smoker     region      charges  \\\n",
       "0   19  female  27.900         0    yes  southwest  16884.92400   \n",
       "1   18    male  33.770         1     no  southeast   1725.55230   \n",
       "2   28    male  33.000         3     no  southeast   4449.46200   \n",
       "3   33    male  22.705         0     no  northwest  21984.47061   \n",
       "4   32    male  28.880         0     no  northwest   3866.85520   \n",
       "\n",
       "        age group      bmi group offspring group  \n",
       "0  group1 (18-30)     overweight     no children  \n",
       "1  group1 (18-30)          obese    1-3 children  \n",
       "2  group1 (18-30)          obese    1-3 children  \n",
       "3  group2 (31-41)  normal weight     no children  \n",
       "4  group2 (31-41)     overweight     no children  "
      ]
     },
     "execution_count": 936,
     "metadata": {},
     "output_type": "execute_result"
    }
   ],
   "source": [
    "# creating 'offspring group' column\n",
    "conditions = [\n",
    "    (insurance['children'] == 0),\n",
    "    (insurance['children'] >= 1) & (insurance['children'] <= 3),\n",
    "    (insurance['children'] > 3)]\n",
    "values = ['no children', '1-3 children', '>3 children']\n",
    "insurance['offspring group'] = np.select(conditions, values)\n",
    "insurance.head()"
   ]
  },
  {
   "cell_type": "code",
   "execution_count": 937,
   "metadata": {
    "scrolled": true
   },
   "outputs": [
    {
     "data": {
      "image/png": "[encoded data removed]",
      "text/plain": [
       "<Figure size 1008x360 with 2 Axes>"
      ]
     },
     "metadata": {
      "needs_background": "light"
     },
     "output_type": "display_data"
    }
   ],
   "source": [
    "# plotting insurance cost of patients with different number of children\n",
    "f, ax= plt.subplots(1, 2, figsize=(14, 5))\n",
    "sns.countplot(data = insurance, x= 'offspring group', palette= ['lightblue', 'burlywood', 'cadetblue'], ax= ax[0])\n",
    "ax[0].set(title= 'patients\\' count with different children number', xlabel= 'number of children', ylabel= 'number of patients')\n",
    "\n",
    "sns.boxplot(data= insurance, x= 'offspring group', y= 'charges', palette= ['lightblue', 'burlywood', 'cadetblue'] ,ax= ax[1])\n",
    "ax[1].set(title= 'insurance cost per number of children', xlabel= 'number of children', ylabel= 'insurance cost ($)')\n",
    "ax[1].set_yticks([x*10000 for x in range(1, 7)])\n",
    "ax[1].set_yticklabels(['{:,}'.format(x*10000) for x in range(1,7)])\n",
    "plt.subplots_adjust(wspace=0.4)\n",
    "plt.show()"
   ]
  },
  {
   "cell_type": "markdown",
   "metadata": {},
   "source": [
    "From the figure on the left, the majority of patients in our data have one to three children. From the figure on the right, the first two patient groups have alot of outliers meaning that alot of patients with no children and those who with one to three children pay insurance cost higher than the majority of patients in their group. The median of the three patient groups is similar. There is some overlap between the boxes, but we can't depend only on visualization to draw conclusions about the association of the two variables.\n",
    "\n",
    "#### Is the number of children a patient has and the insurance cost they pay associated?\n",
    "\n",
    "we are going to calculate mean and median insurance cost differences for the three groups"
   ]
  },
  {
   "cell_type": "code",
   "execution_count": 938,
   "metadata": {},
   "outputs": [
    {
     "name": "stdout",
     "output_type": "stream",
     "text": [
      "mean insurance cost difference of patients with no children and 1-3 children: $1,716.33.\n",
      "mean insurance cost difference of patients with no children and 3 and more children: $635.39.\n",
      "mean insurance cost difference of patients with 1-3 children and 3 and more children: $2,351.72.\n",
      "\n",
      "\n",
      "median insurance cost difference of patients with no children and 1-3 children: $674.78.\n",
      "median insurance cost difference of patients with no children and 3 and more children: $240.02.\n",
      "median insurance cost difference of patients with 1-3 children and 3 and more children: $914.8.\n"
     ]
    }
   ],
   "source": [
    "# getting insurance cost for each group based on their children number\n",
    "no_child_cost = insurance.charges[insurance['offspring group'] == 'no children']\n",
    "one_to_three_child_cost = insurance.charges[insurance['offspring group'] == '1-3 children']\n",
    "more_3_child_cost = insurance.charges[insurance['offspring group'] == '>3 children']\n",
    "\n",
    "# mean insurance cost differences\n",
    "g1g2_mean_diff = abs(np.mean(no_child_cost) - np.mean(one_to_three_child_cost))\n",
    "g1g3_mean_diff = abs(np.mean(no_child_cost) - np.mean(more_3_child_cost))\n",
    "g2g3_mean_diff = abs(np.mean(one_to_three_child_cost) - np.mean(more_3_child_cost))\n",
    "\n",
    "print('mean insurance cost difference of patients with no children and 1-3 children: ${:,}.'.format(round(g1g2_mean_diff, 2)))\n",
    "print('mean insurance cost difference of patients with no children and 3 and more children: ${:,}.'.format(round(g1g3_mean_diff, 2)))\n",
    "print('mean insurance cost difference of patients with 1-3 children and 3 and more children: ${:,}.'.format(round(g2g3_mean_diff, 2)))\n",
    "print('\\n')\n",
    "\n",
    "# median insurance cost differences\n",
    "g1g2_median_diff = abs(np.median(no_child_cost) - np.median(one_to_three_child_cost))\n",
    "g1g3_median_diff = abs(np.median(no_child_cost) - np.median(more_3_child_cost))\n",
    "g2g3_median_diff = abs(np.median(one_to_three_child_cost) - np.median(more_3_child_cost))\n",
    "\n",
    "print('median insurance cost difference of patients with no children and 1-3 children: ${:,}.'.format(round(g1g2_median_diff, 2)))\n",
    "print('median insurance cost difference of patients with no children and 3 and more children: ${:,}.'.format(round(g1g3_median_diff, 2)))\n",
    "print('median insurance cost difference of patients with 1-3 children and 3 and more children: ${:,}.'.format(round(g2g3_median_diff, 2)))"
   ]
  },
  {
   "cell_type": "markdown",
   "metadata": {
    "scrolled": true
   },
   "source": [
    "The largest mean and median difference in insurance cost is between patients with 1-3 children and 3 and more children, followed by patients with no children and 1-3 children. Now let's use some statistics to confirm this association. I will be running **ANOVA** test with the following hypotheses:\n",
    "\n",
    "**H0:** There is *no* difference in insurance cost of patients with different number of children.\n",
    "\n",
    "**H1:** There *is* difference in insurance cost between at least one pair of patients with different number of children."
   ]
  },
  {
   "cell_type": "code",
   "execution_count": 939,
   "metadata": {},
   "outputs": [
    {
     "name": "stdout",
     "output_type": "stream",
     "text": [
      "p-value of ANOVA test: 0.03 < significant threshold (0.05)\n",
      "\n",
      "at least one pair of patients with different children number has significantly different insurance costs.\n"
     ]
    }
   ],
   "source": [
    "# ANOVA\n",
    "sig_threshold = 0.05 \n",
    "fstat, pval= stat.f_oneway(no_child_cost,one_to_three_child_cost, more_3_child_cost)\n",
    "\n",
    "if pval < sig_threshold:\n",
    "    print('p-value of ANOVA test:', round(pval, 2), '< significant threshold (0.05)\\n')\n",
    "    print('at least one pair of patients with different children number has significantly different insurance costs.')\n",
    "else:\n",
    "    print('p-value of ANOVA test:', round(pval, 2), '> significant threshold (0.05)\\n')\n",
    "    print('there is no significant different in insurance costs of between any pair of patients.')"
   ]
  },
  {
   "cell_type": "markdown",
   "metadata": {},
   "source": [
    "At a significance level of 0.05, the p-value indicates that there is a significnt different in insurance cost of at least one pair of patients with different children number. Let's use **Tukey's range** test to determine which pair(s) has this significant difference:"
   ]
  },
  {
   "cell_type": "code",
   "execution_count": 940,
   "metadata": {
    "scrolled": false
   },
   "outputs": [
    {
     "name": "stdout",
     "output_type": "stream",
     "text": [
      "         Multiple Comparison of Means - Tukey HSD, FWER=0.05          \n",
      "======================================================================\n",
      "   group1       group2    meandiff  p-adj    lower      upper   reject\n",
      "----------------------------------------------------------------------\n",
      "1-3 children >3 children -2351.7199  0.432 -6803.6302 2100.1904  False\n",
      "1-3 children no children -1716.3267 0.0302 -3302.7274  -129.926   True\n",
      " >3 children no children   635.3932    0.9 -3848.4869 5119.2734  False\n",
      "----------------------------------------------------------------------\n"
     ]
    }
   ],
   "source": [
    "# Tukey's range test\n",
    "print(pairwise_tukeyhsd(insurance.charges, insurance['offspring group'], 0.05))"
   ]
  },
  {
   "cell_type": "markdown",
   "metadata": {},
   "source": [
    "At a significance level of 0.05, there is one pair of patients that has a significant difference in insurance cost, that is patients with no children and patients with 1-3 children (p-value = 0.03)\n",
    "> <span style= 'color:goldenrod'> **There is an association between children's number a patient has and their insurance cost** </span>\n"
   ]
  },
  {
   "cell_type": "markdown",
   "metadata": {},
   "source": [
    "### smoking status vs insurance cost\n",
    "to count the number of patients who are smokers and non-smokers, their proprtions, calculate the average insurance cost for both groups and determine which smoking status is linked to higher insurance cost:"
   ]
  },
  {
   "cell_type": "code",
   "execution_count": 941,
   "metadata": {
    "scrolled": true
   },
   "outputs": [
    {
     "name": "stdout",
     "output_type": "stream",
     "text": [
      "Patients who are smokers:\n",
      "number of patients: 274 (20.48%) \t average insurance cost: $32,050.23.\n",
      "\n",
      "\n",
      "Patients who are non-smokers:\n",
      "number of patients: 1064 (79.52%) \t average insurance cost: $8,434.27.\n",
      "\n",
      "\n",
      "smokers have higher insurance costs than non-smokers.\n"
     ]
    }
   ],
   "source": [
    "patients.smoking_cost()"
   ]
  },
  {
   "cell_type": "markdown",
   "metadata": {},
   "source": [
    "#### Is patient's smoking status and their insurance cost associated?"
   ]
  },
  {
   "cell_type": "code",
   "execution_count": 942,
   "metadata": {
    "scrolled": false
   },
   "outputs": [
    {
     "data": {
      "image/png": "[encoded data removed]",
      "text/plain": [
       "<Figure size 432x360 with 1 Axes>"
      ]
     },
     "metadata": {
      "needs_background": "light"
     },
     "output_type": "display_data"
    }
   ],
   "source": [
    "# plotting insurance cost of smokers and non-smokers\n",
    "f, ax= plt.subplots(1, 1, figsize=(6,5))\n",
    "sns.boxplot(data= insurance, x= 'smoker', y= 'charges', palette= ['lightblue', 'burlywood'])\n",
    "ax.set(title= 'insurance cost for smokers and non-smokers', xlabel= 'smoking status', ylabel= 'insurance cost ($)')\n",
    "ax.set_xticklabels(['smokers', 'non-smokers'])\n",
    "ax.set_yticks([x*10000 for x in range(1, 7)])\n",
    "ax.set_yticklabels(['{:,}'.format(x*10000) for x in range(1,7)])\n",
    "plt.show()"
   ]
  },
  {
   "cell_type": "markdown",
   "metadata": {},
   "source": [
    "from the figure, smokers pay higher insurance cost compared to non-smokers. The median insurance cost of smokers is higher than non-smoker's insurance cost median.\n",
    "\n",
    "Non-smokers box has alot of outliers, meaning that a lot of non-smokers pay 'higher' insurance costs compared to their counterparts.\n",
    "\n",
    "The two boxes don't overlap suggesting that there is a strong association between patient's smoking status and insurance cost. Now, let's check mean and median differences:"
   ]
  },
  {
   "cell_type": "code",
   "execution_count": 943,
   "metadata": {},
   "outputs": [
    {
     "name": "stdout",
     "output_type": "stream",
     "text": [
      "mean insurance cost difference: $23,615.96.\n",
      "median insurance cost differeance: $27,110.94.\n"
     ]
    }
   ],
   "source": [
    "# mean and median differeances\n",
    "smokers_cost = insurance.charges[insurance.smoker == 'yes']\n",
    "non_smokers_cost = insurance.charges[insurance.smoker == 'no']\n",
    "\n",
    "mean_diff = np.mean(smokers_cost) - np.mean(non_smokers_cost)\n",
    "median_diff = np.median(smokers_cost) - np.median(non_smokers_cost)\n",
    "print('mean insurance cost difference: ${:,}.'.format(round(mean_diff, 2)))\n",
    "print('median insurance cost differeance: ${:,}.'.format(round(median_diff, 2)))"
   ]
  },
  {
   "cell_type": "markdown",
   "metadata": {},
   "source": [
    "mean and median insurance cost differences are both large, confirming the association between patient's smoking status and insurance cost. Another way to check the assoication is through plotting histograms for insurance cost of smokers and non-smokers:"
   ]
  },
  {
   "cell_type": "code",
   "execution_count": 944,
   "metadata": {
    "scrolled": false
   },
   "outputs": [
    {
     "data": {
      "image/png": "[encoded data removed]",
      "text/plain": [
       "<Figure size 720x432 with 1 Axes>"
      ]
     },
     "metadata": {
      "needs_background": "light"
     },
     "output_type": "display_data"
    }
   ],
   "source": [
    "# plotting insurance cost distribution of smokers and non-smokers\n",
    "f, ax= plt.subplots(1, 1,figsize=(10,6))\n",
    "\n",
    "ax.hist(smokers_cost, label= 'smokers', alpha= 0.7, density= True, bins= 28, color= 'lightblue', edgecolor= 'white')\n",
    "ax.hist(non_smokers_cost, label= 'non-smokers', alpha= 0.7, density= True, bins= 20, color= 'burlywood', edgecolor= 'white')\n",
    "ax.set(title= 'insurance cost distribution based on smoking status', xlabel= 'insurance cost ($)', ylabel= 'density')\n",
    "ax.set_xticks([x*10000 for x in range(1, 7)])\n",
    "ax.set_xticklabels(['{:,}'.format(x*10000) for x in range(1,7)])\n",
    "ax.set_yticks([(x/100000) for x in range(0,11,2)])\n",
    "ax.set_yticklabels(['0', '0.00002', '0.00004', '0.00006', '0.00008', '0.0001'])\n",
    "plt.legend(frameon= False)\n",
    "plt.show()"
   ]
  },
  {
   "cell_type": "markdown",
   "metadata": {},
   "source": [
    "from the figure, we see that smokers' histogram barely overlaps with the non-smokers' histogram (agrees with side by side boxes figure). The distribution of non-smokers' insurance cost is unimodal and right-skewed, while the distribution of smokers' insurance cost is bimodal.\n",
    "> <span style= 'color:goldenrod'> **There is an association between smoking status and insurance cost** </span>"
   ]
  },
  {
   "cell_type": "markdown",
   "metadata": {},
   "source": [
    "### regions and insurance cost"
   ]
  },
  {
   "cell_type": "markdown",
   "metadata": {},
   "source": [
    "In this section, there are mutliple methods to be used for different purposes. The first method is used to check unique regions in the data without using Numpy library as we did above:"
   ]
  },
  {
   "cell_type": "code",
   "execution_count": 945,
   "metadata": {},
   "outputs": [
    {
     "name": "stdout",
     "output_type": "stream",
     "text": [
      "['southwest', 'southeast', 'northwest', 'northeast']\n"
     ]
    }
   ],
   "source": [
    "patients.unique_regions()"
   ]
  },
  {
   "cell_type": "markdown",
   "metadata": {},
   "source": [
    "to count the number of patients in each unique region:"
   ]
  },
  {
   "cell_type": "code",
   "execution_count": 946,
   "metadata": {
    "scrolled": true
   },
   "outputs": [
    {
     "name": "stdout",
     "output_type": "stream",
     "text": [
      "There are 325 patients in northwest, 325 patients in southwest, 324 patients in northeast and 364 in southeast.\n"
     ]
    }
   ],
   "source": [
    "patients.region_counter()"
   ]
  },
  {
   "cell_type": "markdown",
   "metadata": {},
   "source": [
    "to get the number of patients in a specific region by an input prompoted by the user:\n",
    "\n",
    "for example, if we want to know the number of patients who are from northwest:"
   ]
  },
  {
   "cell_type": "code",
   "execution_count": 947,
   "metadata": {},
   "outputs": [
    {
     "data": {
      "text/plain": [
       "325"
      ]
     },
     "execution_count": 947,
     "metadata": {},
     "output_type": "execute_result"
    }
   ],
   "source": [
    "patients.patient_by_region('northwest')\n"
   ]
  },
  {
   "cell_type": "markdown",
   "metadata": {},
   "source": [
    "repeating the same for southwest, northeast and southeast:"
   ]
  },
  {
   "cell_type": "code",
   "execution_count": 948,
   "metadata": {
    "scrolled": true
   },
   "outputs": [
    {
     "data": {
      "text/plain": [
       "325"
      ]
     },
     "execution_count": 948,
     "metadata": {},
     "output_type": "execute_result"
    }
   ],
   "source": [
    "patients.patient_by_region('southwest')"
   ]
  },
  {
   "cell_type": "code",
   "execution_count": 949,
   "metadata": {},
   "outputs": [
    {
     "data": {
      "text/plain": [
       "324"
      ]
     },
     "execution_count": 949,
     "metadata": {},
     "output_type": "execute_result"
    }
   ],
   "source": [
    "patients.patient_by_region('northeast')"
   ]
  },
  {
   "cell_type": "code",
   "execution_count": 950,
   "metadata": {},
   "outputs": [
    {
     "data": {
      "text/plain": [
       "364"
      ]
     },
     "execution_count": 950,
     "metadata": {},
     "output_type": "execute_result"
    }
   ],
   "source": [
    "patients.patient_by_region('southeast')"
   ]
  },
  {
   "cell_type": "markdown",
   "metadata": {},
   "source": [
    "to count the average insurance cost per region. This method returns a *dictionary* ordered by insurance cost, from lowest to highest:"
   ]
  },
  {
   "cell_type": "code",
   "execution_count": 951,
   "metadata": {},
   "outputs": [
    {
     "name": "stdout",
     "output_type": "stream",
     "text": [
      "Average insurance cost by region from lowest to heighest:\n",
      "{'southwest': '$12,346.94', 'northwest': '$12,417.58', 'northeast': '$13,406.38', 'southeast': '$14,735.41'}\n"
     ]
    }
   ],
   "source": [
    "patients.region_cost()"
   ]
  },
  {
   "cell_type": "markdown",
   "metadata": {},
   "source": [
    "this method is smiliar to the one above, although it provides more information. It counts the number of patients in each region, their proportions, calculates the average insurance cost, determines regions with lowest and highest insurance cost:"
   ]
  },
  {
   "cell_type": "code",
   "execution_count": 952,
   "metadata": {
    "scrolled": false
   },
   "outputs": [
    {
     "name": "stdout",
     "output_type": "stream",
     "text": [
      "In northwest:\n",
      "number of patients: 325 (24.29%) \t average insurance cost: $12,417.58.\n",
      "\n",
      "\n",
      "In southwest:\n",
      "number of patients: 325 (24.29%) \t average insurance cost: $12,346.94.\n",
      "\n",
      "\n",
      "In northeast:\n",
      "number of patients: 324 (24.22%) \t average insurance cost: $13,406.38.\n",
      "\n",
      "\n",
      "In southeast:\n",
      "number of patients: 364 (27.20%) \t average insurance cost: $14,735.41.\n",
      "\n",
      "\n",
      "southwest has the lowest average insurance costs.\n",
      "\n",
      "\n",
      "southeast has the heighest average insurance costs.\n"
     ]
    }
   ],
   "source": [
    "patients.comprehensive_region_cost()"
   ]
  },
  {
   "cell_type": "markdown",
   "metadata": {},
   "source": [
    "#### Is patient's region and the insurance cost they pay associated?"
   ]
  },
  {
   "cell_type": "code",
   "execution_count": 953,
   "metadata": {
    "scrolled": false
   },
   "outputs": [
    {
     "data": {
      "image/png": "[encoded data removed]",
      "text/plain": [
       "<Figure size 432x360 with 1 Axes>"
      ]
     },
     "metadata": {
      "needs_background": "light"
     },
     "output_type": "display_data"
    }
   ],
   "source": [
    "# plotting insurance cost of the four regions\n",
    "f, ax = plt.subplots(1, 1, figsize=(6,5))\n",
    "sns.boxplot(data= insurance, x= 'region', y= 'charges', palette= ['peru', 'lightblue','burlywood','cadetblue'], order=['northwest','southwest', 'northeast', 'southeast'])\n",
    "ax.set(title= 'insurance cost per region', ylabel= 'insurance cost ($)')\n",
    "ax.set_yticks([x*10000 for x in range(1, 7)])\n",
    "ax.set_yticklabels(['{:,}'.format(x*10000) for x in range(1,7)])\n",
    "plt.show()"
   ]
  },
  {
   "cell_type": "markdown",
   "metadata": {},
   "source": [
    "from the figure above, the four regions have a slightly similar median insurance cost and all of them have outliers paying higher insurance cost than the majority.\n",
    "\n",
    "southeast has some outliers paying very high insurance cost. There is pairwise differences between the boxses which suggest that there might be an association to be confirmed statistically between region and insurance cost.\n",
    "\n",
    "For this purpose, I will run **ANOVA** test assuming that the data was randomly collected.\n",
    "\n",
    "**H0:** There is *no* difference in insurance cost of the four regions.\n",
    "\n",
    "**H1:** There *is* a difference in insurance cost between at least one pair of regions.\n",
    "\n",
    "I will be checking standard deviation ratio of insurance cost of different regions (aiming for a value close to 1) and their distribution:\n"
   ]
  },
  {
   "cell_type": "code",
   "execution_count": 954,
   "metadata": {},
   "outputs": [
    {
     "name": "stdout",
     "output_type": "stream",
     "text": [
      "standard deviation ratios:\n",
      "nw/ne cost std ratio: 1.0\n",
      "nw/sw cost std ratio: 1.0\n",
      "nw/se cost std ratio: 0.8\n",
      "sw/ne cost std ratio: 1.0\n",
      "sw/se cost std ratio: 0.8\n",
      "ne/se cost std ratio: 0.8\n"
     ]
    }
   ],
   "source": [
    "# insurance cost of the four regions\n",
    "nw = insurance.charges[insurance.region == 'northwest']\n",
    "sw = insurance.charges[insurance.region == 'southwest']\n",
    "ne = insurance.charges[insurance.region == 'northeast']\n",
    "se = insurance.charges[insurance.region == 'southeast']\n",
    "\n",
    "# standard deviation ratios\n",
    "print('standard deviation ratios:')\n",
    "print('nw/ne cost std ratio:',round(np.std(nw)/np.std(ne), 1))\n",
    "print('nw/sw cost std ratio:',round(np.std(nw)/np.std(sw), 1))\n",
    "print('nw/se cost std ratio:',round(np.std(nw)/np.std(se), 1))\n",
    "print('sw/ne cost std ratio:',round(np.std(sw)/np.std(ne), 1))\n",
    "print('sw/se cost std ratio:',round(np.std(sw)/np.std(se), 1))\n",
    "print('ne/se cost std ratio:',round(np.std(ne)/np.std(se), 1))"
   ]
  },
  {
   "cell_type": "code",
   "execution_count": 955,
   "metadata": {},
   "outputs": [
    {
     "data": {
      "image/png": "[encoded data removed]",
      "text/plain": [
       "<Figure size 1152x288 with 2 Axes>"
      ]
     },
     "metadata": {
      "needs_background": "light"
     },
     "output_type": "display_data"
    }
   ],
   "source": [
    "# insurance cost distribution of the four regions\n",
    "f, (ax1, ax2)= plt.subplots(1, 2, figsize=(16,4))\n",
    "\n",
    "# western regions insurance cost distribution\n",
    "ax1.hist(nw, alpha= 0.5, label= 'northwest', bins= 30, density= True, color= 'peru', edgecolor= 'white')\n",
    "ax1.hist(sw, alpha= 0.6, label= 'southwest', bins= 30, density= True, color= 'lightblue', edgecolor= 'white')\n",
    "ax1.set(title= 'western regions insurance cost distribution', xlabel= 'insurance cost ($)', ylabel= 'density')\n",
    "ax1.axvline(x= np.mean(nw), color= 'peru', label= 'nw mean')\n",
    "ax1.axvline(x= np.mean(sw), color= 'lightblue', label= 'sw mean')\n",
    "ax1.set_xticks([x*10000 for x in range(1,7)])\n",
    "ax1.set_xticklabels(['{:,}'.format(x*10000) for x in range(1,7)])\n",
    "ax1.legend(frameon= False, loc= 'best')\n",
    "\n",
    "# estern regions insurance cost distribution\n",
    "ax2.hist(ne, alpha= 0.7, label= 'northeast', density= True, bins= 30, color= 'burlywood', edgecolor= 'white')\n",
    "ax2.hist(se, alpha= 0.5, label= 'southeast', density= True, bins= 30, color= 'cadetblue', edgecolor= 'white')\n",
    "ax2.set(title= 'eastern regions insurance cost distribution', xlabel= 'insurance cost ($)', ylabel= 'density')\n",
    "ax2.axvline(x= np.mean(ne), color= 'burlywood', label= 'ne mean')\n",
    "ax2.axvline(x= np.mean(se), color= 'cadetblue', label= 'se mean')\n",
    "ax2.set_xticks([x*10000 for x in range(1,7)])\n",
    "ax2.set_xticklabels(['{:,}'.format(x*10000) for x in range(1,7)])\n",
    "ax2.legend(frameon= False, loc= 'best')\n",
    "\n",
    "plt.show()\n",
    "\n",
    "\n",
    "# Note: northwest and southeast insurance means are very close to each other ($70.64 apart).\n",
    "# in 'western regions insurance cost distribution' figure, the two lines will look as if they overlap."
   ]
  },
  {
   "cell_type": "markdown",
   "metadata": {},
   "source": [
    "stanadrad deviation ratios: close to 1.\n",
    "\n",
    "distribution: insurance cost distribution for all four regions is right-skewed. For this reason, I will use log transformation to have a normal distribution and meet ANOVA's condition:"
   ]
  },
  {
   "cell_type": "code",
   "execution_count": 956,
   "metadata": {},
   "outputs": [
    {
     "data": {
      "image/png": "[encoded data removed]",
      "text/plain": [
       "<Figure size 1152x288 with 2 Axes>"
      ]
     },
     "metadata": {
      "needs_background": "light"
     },
     "output_type": "display_data"
    }
   ],
   "source": [
    "# log transformation\n",
    "log_nw = np.log(nw)\n",
    "log_sw = np.log(sw)\n",
    "log_ne = np.log(ne)\n",
    "log_se = np.log(se)\n",
    "\n",
    "# re-plotting histograms\n",
    "f, (ax1, ax2)= plt.subplots(1, 2, figsize=(16,4))\n",
    "\n",
    "# logged western regions insurance cost distribution\n",
    "ax1.hist(log_nw, alpha= 0.5, label= 'log northwest', bins= 30, density= True, color= 'peru', edgecolor= 'white')\n",
    "ax1.hist(log_sw, alpha= 0.6, label= 'log southwest', bins= 30, density= True, color= 'lightblue', edgecolor= 'white')\n",
    "ax1.set(title= 'log western regions insurance cost distribution', xlabel= 'insurance cost')\n",
    "ax1.axvline(x= np.mean(log_nw), color= 'peru', label= 'log nw mean')\n",
    "ax1.axvline(x= np.mean(log_sw), color= 'lightblue', label= 'log sw mean')\n",
    "ax1.legend(frameon= False, loc= 'best')\n",
    "\n",
    "# logged eastern regions insurance cost distribution\n",
    "ax2.hist(log_ne, alpha= 0.7, label= 'log northeast', bins= 30, density= True, color= 'burlywood', edgecolor= 'white')\n",
    "ax2.hist(log_se, alpha= 0.5, label= 'log southeast', bins= 30, density= True, color= 'cadetblue', edgecolor= 'white')\n",
    "ax2.set(title= 'log eastern regions insurance cost distribution', xlabel= 'insurance cost')\n",
    "ax2.axvline(x= np.mean(log_ne), color= 'burlywood', label= 'log ne mean')\n",
    "ax2.axvline(x= np.mean(log_se), color= 'cadetblue', label= 'log se mean')\n",
    "ax2.legend(frameon= False, loc= 'best')\n",
    "\n",
    "plt.show()"
   ]
  },
  {
   "cell_type": "code",
   "execution_count": 957,
   "metadata": {},
   "outputs": [
    {
     "name": "stdout",
     "output_type": "stream",
     "text": [
      "p-value of ANOVA test: 0.24 > significant threshold (0.05)\n",
      "\n",
      "there is no significant different in insurance costs of between any pair of regions.\n"
     ]
    }
   ],
   "source": [
    "# ANOVA\n",
    "sig_threshold = 0.05\n",
    "fstat, pval = stat.f_oneway(log_nw, log_sw, log_ne, log_se)\n",
    "\n",
    "if pval < sig_threshold:\n",
    "    print('p-value of ANOVA test:', round(pval, 2), '< significant threshold (0.05)\\n')\n",
    "    print('at least one pair of regions has significantly different insurance costs.')\n",
    "else:\n",
    "    print('p-value of ANOVA test:', round(pval, 2), '> significant threshold (0.05)\\n')\n",
    "    print('there is no significant different in insurance costs of between any pair of regions.')"
   ]
  },
  {
   "cell_type": "markdown",
   "metadata": {},
   "source": [
    "p-value of ANOVA test is greater than significance threshold of 0.05. For this reason, null hypothesis is true and there is no significant difference in insurance cost of regions. We conclude that\n",
    "\n",
    "> <span style= 'color:goldenrod'> **There is no association between region and insurance cost** </span>\n",
    "\n",
    "\n",
    "\n",
    "#### Then why do southeasterns pay high insurance cost? 💡🧐\n",
    "\n",
    "southeast has the highest inurance cost. To further understand why patients from southeast pay large amounts on insurance compared to the other three regions, we need to know how regions are related to other factors such age, BMI, smoking status and number of children."
   ]
  },
  {
   "cell_type": "markdown",
   "metadata": {},
   "source": [
    "### region and age\n",
    "to calculate the average age of patients in a specific region prompotted by the user:"
   ]
  },
  {
   "cell_type": "code",
   "execution_count": 958,
   "metadata": {},
   "outputs": [
    {
     "name": "stdout",
     "output_type": "stream",
     "text": [
      "The average age of patients in northwest is: 39.2 years old.\n"
     ]
    }
   ],
   "source": [
    "patients.region_avg_age('northwest')"
   ]
  },
  {
   "cell_type": "code",
   "execution_count": 959,
   "metadata": {},
   "outputs": [
    {
     "name": "stdout",
     "output_type": "stream",
     "text": [
      "The average age of patients in southwest is: 39.5 years old.\n"
     ]
    }
   ],
   "source": [
    "patients.region_avg_age('southwest')"
   ]
  },
  {
   "cell_type": "code",
   "execution_count": 960,
   "metadata": {},
   "outputs": [
    {
     "name": "stdout",
     "output_type": "stream",
     "text": [
      "The average age of patients in northeast is: 39.3 years old.\n"
     ]
    }
   ],
   "source": [
    "patients.region_avg_age('northeast')"
   ]
  },
  {
   "cell_type": "code",
   "execution_count": 961,
   "metadata": {
    "scrolled": true
   },
   "outputs": [
    {
     "name": "stdout",
     "output_type": "stream",
     "text": [
      "The average age of patients in southeast is: 38.9 years old.\n"
     ]
    }
   ],
   "source": [
    "patients.region_avg_age('southeast')"
   ]
  },
  {
   "cell_type": "markdown",
   "metadata": {},
   "source": [
    "#### Is region and patient's age associated?"
   ]
  },
  {
   "cell_type": "code",
   "execution_count": 962,
   "metadata": {},
   "outputs": [
    {
     "data": {
      "image/png": "[encoded data removed]",
      "text/plain": [
       "<Figure size 432x288 with 1 Axes>"
      ]
     },
     "metadata": {
      "needs_background": "light"
     },
     "output_type": "display_data"
    }
   ],
   "source": [
    "# plotting patients age for the four regions\n",
    "sns.boxplot(data= insurance, x= 'region' , y= 'age', palette= ['peru', 'lightblue','burlywood','cadetblue'], order=['northwest','southwest', 'northeast', 'southeast'])\n",
    "plt.title('patient\\'s age per region')\n",
    "plt.show()"
   ]
  },
  {
   "cell_type": "markdown",
   "metadata": {},
   "source": [
    "There is nothing much to say here, the average age of patients in the four regions is around 39 years old. The middle 50% of ages in the four regions is very similar too with no outliers. It seems like there is no association between patient's age and region, let's statistically confirm this.\n",
    "\n",
    "I will be running a **Chi-Square** test:\n",
    "\n",
    "**H0:** There is *no* association between patient's age group and the region they are from.\n",
    "\n",
    "**H1:** There *is* an association between patient's age group and the region they are from.\n",
    "\n",
    "First, let's get contingency table of frequencies then plug it in Chi-Square function:"
   ]
  },
  {
   "cell_type": "code",
   "execution_count": 963,
   "metadata": {},
   "outputs": [
    {
     "data": {
      "text/html": [
       "<div>\n",
       "<style scoped>\n",
       "    .dataframe tbody tr th:only-of-type {\n",
       "        vertical-align: middle;\n",
       "    }\n",
       "\n",
       "    .dataframe tbody tr th {\n",
       "        vertical-align: top;\n",
       "    }\n",
       "\n",
       "    .dataframe thead th {\n",
       "        text-align: right;\n",
       "    }\n",
       "</style>\n",
       "<table border=\"1\" class=\"dataframe\">\n",
       "  <thead>\n",
       "    <tr style=\"text-align: right;\">\n",
       "      <th>region</th>\n",
       "      <th>northeast</th>\n",
       "      <th>northwest</th>\n",
       "      <th>southeast</th>\n",
       "      <th>southwest</th>\n",
       "    </tr>\n",
       "    <tr>\n",
       "      <th>age group</th>\n",
       "      <th></th>\n",
       "      <th></th>\n",
       "      <th></th>\n",
       "      <th></th>\n",
       "    </tr>\n",
       "  </thead>\n",
       "  <tbody>\n",
       "    <tr>\n",
       "      <th>group1 (18-30)</th>\n",
       "      <td>107</td>\n",
       "      <td>108</td>\n",
       "      <td>123</td>\n",
       "      <td>106</td>\n",
       "    </tr>\n",
       "    <tr>\n",
       "      <th>group2 (31-41)</th>\n",
       "      <td>68</td>\n",
       "      <td>71</td>\n",
       "      <td>77</td>\n",
       "      <td>68</td>\n",
       "    </tr>\n",
       "    <tr>\n",
       "      <th>group3 (42-52)</th>\n",
       "      <td>76</td>\n",
       "      <td>73</td>\n",
       "      <td>86</td>\n",
       "      <td>77</td>\n",
       "    </tr>\n",
       "    <tr>\n",
       "      <th>group4 (53-64)</th>\n",
       "      <td>73</td>\n",
       "      <td>73</td>\n",
       "      <td>78</td>\n",
       "      <td>74</td>\n",
       "    </tr>\n",
       "  </tbody>\n",
       "</table>\n",
       "</div>"
      ],
      "text/plain": [
       "region          northeast  northwest  southeast  southwest\n",
       "age group                                                 \n",
       "group1 (18-30)        107        108        123        106\n",
       "group2 (31-41)         68         71         77         68\n",
       "group3 (42-52)         76         73         86         77\n",
       "group4 (53-64)         73         73         78         74"
      ]
     },
     "execution_count": 963,
     "metadata": {},
     "output_type": "execute_result"
    }
   ],
   "source": [
    "# contingency table of frequencies\n",
    "Xtab= pd.crosstab(insurance['age group'], insurance['region'])\n",
    "Xtab"
   ]
  },
  {
   "cell_type": "code",
   "execution_count": 964,
   "metadata": {},
   "outputs": [
    {
     "name": "stdout",
     "output_type": "stream",
     "text": [
      "p-value of chi-square test: 1.0\n"
     ]
    }
   ],
   "source": [
    "# chi-Square test\n",
    "chi2, pval, dof, expected = stat.chi2_contingency(Xtab)\n",
    "print('p-value of chi-square test: {:.2}'.format(pval))"
   ]
  },
  {
   "cell_type": "markdown",
   "metadata": {},
   "source": [
    "At a significance level of 0.05, chi-square p-value is insignificant, our null hypothesis is true we conclude that there is no association between patient's age group and the region they are from.\n",
    "\n",
    "> <span style= 'color:skyblue'> **There is no association between patient's age and region** </span>"
   ]
  },
  {
   "cell_type": "markdown",
   "metadata": {},
   "source": [
    "### region and BMI\n",
    "to calculate the average BMI of patients in a specific region prompotted by the user:"
   ]
  },
  {
   "cell_type": "code",
   "execution_count": 965,
   "metadata": {},
   "outputs": [
    {
     "name": "stdout",
     "output_type": "stream",
     "text": [
      "The average BMI of patients in northwest is: 29.2\n"
     ]
    }
   ],
   "source": [
    "patients.region_avg_bmi('northwest')"
   ]
  },
  {
   "cell_type": "code",
   "execution_count": 966,
   "metadata": {},
   "outputs": [
    {
     "name": "stdout",
     "output_type": "stream",
     "text": [
      "The average BMI of patients in southwest is: 30.6\n"
     ]
    }
   ],
   "source": [
    "patients.region_avg_bmi('southwest')"
   ]
  },
  {
   "cell_type": "code",
   "execution_count": 967,
   "metadata": {},
   "outputs": [
    {
     "name": "stdout",
     "output_type": "stream",
     "text": [
      "The average BMI of patients in northeast is: 29.17\n"
     ]
    }
   ],
   "source": [
    "patients.region_avg_bmi('northeast')"
   ]
  },
  {
   "cell_type": "code",
   "execution_count": 968,
   "metadata": {},
   "outputs": [
    {
     "name": "stdout",
     "output_type": "stream",
     "text": [
      "The average BMI of patients in southeast is: 33.36\n"
     ]
    }
   ],
   "source": [
    "patients.region_avg_bmi('southeast')"
   ]
  },
  {
   "cell_type": "markdown",
   "metadata": {},
   "source": [
    "southeast has the highest average BMI compared to other regions. The high BMI might contribute to the high insurance cost in southeast.\n",
    "\n",
    "#### Is region and patient's BMI associated?\n",
    "\n",
    "let's start by plotting BMI of the four regions, to better visualize what we are dealing with:"
   ]
  },
  {
   "cell_type": "code",
   "execution_count": 969,
   "metadata": {},
   "outputs": [
    {
     "data": {
      "image/png": "[encoded data removed]",
      "text/plain": [
       "<Figure size 504x288 with 1 Axes>"
      ]
     },
     "metadata": {
      "needs_background": "light"
     },
     "output_type": "display_data"
    }
   ],
   "source": [
    "# plotting patients BMI in the four regions\n",
    "f, ax= plt.subplots(1, 1, figsize=(7, 4))\n",
    "sns.boxplot(data= insurance, x= 'region', y= 'bmi', palette= ['peru', 'lightblue','burlywood','cadetblue'], order=['northwest','southwest', 'northeast', 'southeast'])\n",
    "ax.set(ylabel= 'BMI', title= 'BMI per region')\n",
    "ax.set_yticks([x for x in range(15, 61, 10)])\n",
    "ax.set_yticklabels([x for x in range(15, 61, 10)])\n",
    "plt.show()"
   ]
  },
  {
   "cell_type": "markdown",
   "metadata": {},
   "source": [
    "In general, there is some overlap between the boxes indicating that there is no large difference in patients BMI. Southeast has some outliers pointing to patients with high BMI. Also, southeast has a higher BMI median compared to the other regions. To confirm if there is any pairwise differences BMI and region, we will run **ANOVA** test with the following hypotheses:\n",
    "\n",
    "**H0:** There is *no* difference in BMI of regions.\n",
    "\n",
    "**H1:** There *is* a difference in BMI of at least one pair of regions.\n",
    "\n",
    "Again, assuming that the data was randomly collected. We are going to check standard deviation ratio for patients' BMI of the four regions (aiming for a value close to 1) and plot their distribution:"
   ]
  },
  {
   "cell_type": "code",
   "execution_count": 970,
   "metadata": {},
   "outputs": [
    {
     "name": "stdout",
     "output_type": "stream",
     "text": [
      "standard deviation ratios\n",
      "nw/ne BMI std ratio: 0.9\n",
      "nw/sw BMI std ratio: 0.9\n",
      "nw/se BMI std ratio: 0.8\n",
      "sw/ne BMI std ratio: 1.0\n",
      "sw/se BMI std ratio: 0.9\n",
      "ne/se BMI std ratio: 0.9\n"
     ]
    }
   ],
   "source": [
    "# BMI of the four regions\n",
    "nw_bmi = insurance.bmi[insurance.region == 'northwest']\n",
    "sw_bmi = insurance.bmi[insurance.region == 'southwest']\n",
    "ne_bmi = insurance.bmi[insurance.region == 'northeast']\n",
    "se_bmi = insurance.bmi[insurance.region == 'southeast']\n",
    "\n",
    "# standard deviation ratio\n",
    "print('standard deviation ratios')\n",
    "print('nw/ne BMI std ratio:',round(np.std(nw_bmi)/np.std(ne_bmi), 1))\n",
    "print('nw/sw BMI std ratio:',round(np.std(nw_bmi)/np.std(sw_bmi), 1))\n",
    "print('nw/se BMI std ratio:',round(np.std(nw_bmi)/np.std(se_bmi), 1))\n",
    "print('sw/ne BMI std ratio:',round(np.std(sw_bmi)/np.std(ne_bmi), 1))\n",
    "print('sw/se BMI std ratio:',round(np.std(sw_bmi)/np.std(se_bmi), 1))\n",
    "print('ne/se BMI std ratio:',round(np.std(ne_bmi)/np.std(se_bmi), 1))"
   ]
  },
  {
   "cell_type": "code",
   "execution_count": 971,
   "metadata": {},
   "outputs": [
    {
     "data": {
      "image/png": "[encoded data removed]",
      "text/plain": [
       "<Figure size 1296x216 with 4 Axes>"
      ]
     },
     "metadata": {
      "needs_background": "light"
     },
     "output_type": "display_data"
    }
   ],
   "source": [
    "# plotting BMI distribution in every region\n",
    "f, (ax1, ax2, ax3, ax4)= plt.subplots(1, 4, figsize=(18,3))\n",
    "f.text(0.51 , 1, 'BMI distribution per region', fontsize= 16, ha='center', va='center')\n",
    "f.text(0.5, -0.02, 'BMI')\n",
    "f.text(0.26, 0.92, 'western regions BMI', fontsize= 13)\n",
    "f.text(0.67, 0.92, 'eastern regions BMI', fontsize= 13)\n",
    "\n",
    "# western regions BMI distribution\n",
    "ax1.hist(nw_bmi,alpha= 0.5, label= 'northwest', bins= 25, density= True, color= 'peru', edgecolor= 'white')\n",
    "ax2.hist(sw_bmi, alpha= 0.7, label= 'southwest', bins= 25, density= True, color= 'lightblue', edgecolor= 'white')\n",
    "ax1.axvline(x= np.mean(nw_bmi), color= 'darkgoldenrod', label= 'nw mean')\n",
    "ax2.axvline(x= np.mean(sw_bmi), color= 'steelblue', label= 'sw mean')\n",
    "ax1.set_yticks([x for x in np.arange(0.00, 0.15, 0.02)])\n",
    "ax1.set_xticks([x*10 for x in range(2, 6)])\n",
    "ax2.set_xticks([x*10 for x in range(2, 6)])\n",
    "ax1.set(ylabel = 'density')\n",
    "ax1.legend(frameon= False, loc= 'best')\n",
    "ax2.legend(frameon= False, loc= 'best')\n",
    "\n",
    "# eastern regions BMI distribution\n",
    "ax3.hist(ne_bmi, alpha= 0.7, label= 'northeast', bins= 25, density= True, color= 'burlywood', edgecolor= 'white')\n",
    "ax4.hist(se_bmi, alpha= 0.5, label= 'southeast', bins= 25, density= True, color= 'cadetblue', edgecolor= 'white')\n",
    "ax3.axvline(x= np.mean(ne_bmi), color= 'peru', label= 'ne mean')\n",
    "ax4.axvline(x= np.mean(se_bmi), color= 'steelblue', label= 'se mean')\n",
    "ax3.set_yticks([x for x in np.arange(0.00, 0.09, 0.02)])\n",
    "ax3.set_xticks([x*10 for x in range(2, 6)])\n",
    "ax3.legend(frameon= False, loc= 'best')\n",
    "ax4.legend(frameon= False, loc= 'best')\n",
    "\n",
    "plt.show()"
   ]
  },
  {
   "cell_type": "markdown",
   "metadata": {},
   "source": [
    "standard deviation ratio: close to 1.\n",
    "\n",
    "distribution: from the four histograms above, BMI of regions is normally distributed.\n",
    "\n",
    "we can proceed with ANOVA test."
   ]
  },
  {
   "cell_type": "code",
   "execution_count": 972,
   "metadata": {
    "scrolled": false
   },
   "outputs": [
    {
     "name": "stdout",
     "output_type": "stream",
     "text": [
      "p-value of ANOVA test: 0.000000000000000000000002 < significant threshold (0.05)\n",
      "\n",
      "at least one pair of regions has significantly different BMI.\n"
     ]
    }
   ],
   "source": [
    "# ANOVA\n",
    "sig_threshold = 0.05\n",
    "fstat, pval = stat.f_oneway(nw_bmi, sw_bmi, ne_bmi, se_bmi)\n",
    "\n",
    "if pval < sig_threshold:\n",
    "    print('p-value of ANOVA test:', '{:.24f}'.format(pval), '< significant threshold (0.05)\\n')\n",
    "    print('at least one pair of regions has significantly different BMI.')\n",
    "else:\n",
    "    print('p-value of ANOVA test:', '{:.25f}'.format(pval), '> significant threshold (0.05)\\n')\n",
    "    print('there is no significant different in BMI of between any pair of regions.')"
   ]
  },
  {
   "cell_type": "markdown",
   "metadata": {},
   "source": [
    "given the ANOVA p-value, we reject the null hypothesis in favour of the alternative hypothesis.\n",
    "\n",
    "to point out which pair(s) of regions has a significant difference in their patients' BMI. We will use **Tukey's range** test:"
   ]
  },
  {
   "cell_type": "code",
   "execution_count": 973,
   "metadata": {
    "scrolled": false
   },
   "outputs": [
    {
     "name": "stdout",
     "output_type": "stream",
     "text": [
      "   Multiple Comparison of Means - Tukey HSD, FWER=0.05    \n",
      "==========================================================\n",
      "  group1    group2  meandiff p-adj   lower   upper  reject\n",
      "----------------------------------------------------------\n",
      "northeast northwest   0.0263    0.9 -1.1552  1.2078  False\n",
      "northeast southeast   4.1825  0.001   3.033   5.332   True\n",
      "northeast southwest   1.4231 0.0107  0.2416  2.6046   True\n",
      "northwest southeast   4.1562  0.001  3.0077  5.3047   True\n",
      "northwest southwest   1.3968 0.0127  0.2162  2.5774   True\n",
      "southeast southwest  -2.7594  0.001 -3.9079 -1.6108   True\n",
      "----------------------------------------------------------\n"
     ]
    }
   ],
   "source": [
    "# Tukey's range test\n",
    "print(pairwise_tukeyhsd(insurance.bmi, insurance.region, 0.05))"
   ]
  },
  {
   "cell_type": "markdown",
   "metadata": {},
   "source": [
    "with significance level of 0.05, there is significant difference in BMI between: northeast/southeast, northeast/southwest, northwest/southeast, northwest/southwest and southeast/southwest region pairs (That's five out of six region pairs!).\n",
    "\n",
    "The largest BMI difference recoreded is between: northeast/southeast, northwest/southeast and southeast/southwest region pairs (p-value = 0.001 < 0.05). All of these pairs has southeast is them.\n",
    "\n",
    "We can also use **Chi-Square** test to double confirm the association:\n",
    "\n",
    "**H0:** There is *no* association between patient's BMI group and the region they are from.\n",
    "\n",
    "**H1:** There *is* an association between patient's BMI group and the region they are from."
   ]
  },
  {
   "cell_type": "code",
   "execution_count": 974,
   "metadata": {},
   "outputs": [
    {
     "data": {
      "text/html": [
       "<div>\n",
       "<style scoped>\n",
       "    .dataframe tbody tr th:only-of-type {\n",
       "        vertical-align: middle;\n",
       "    }\n",
       "\n",
       "    .dataframe tbody tr th {\n",
       "        vertical-align: top;\n",
       "    }\n",
       "\n",
       "    .dataframe thead th {\n",
       "        text-align: right;\n",
       "    }\n",
       "</style>\n",
       "<table border=\"1\" class=\"dataframe\">\n",
       "  <thead>\n",
       "    <tr style=\"text-align: right;\">\n",
       "      <th>region</th>\n",
       "      <th>northeast</th>\n",
       "      <th>northwest</th>\n",
       "      <th>southeast</th>\n",
       "      <th>southwest</th>\n",
       "    </tr>\n",
       "    <tr>\n",
       "      <th>bmi group</th>\n",
       "      <th></th>\n",
       "      <th></th>\n",
       "      <th></th>\n",
       "      <th></th>\n",
       "    </tr>\n",
       "  </thead>\n",
       "  <tbody>\n",
       "    <tr>\n",
       "      <th>normal weight</th>\n",
       "      <td>73</td>\n",
       "      <td>63</td>\n",
       "      <td>41</td>\n",
       "      <td>48</td>\n",
       "    </tr>\n",
       "    <tr>\n",
       "      <th>obese</th>\n",
       "      <td>143</td>\n",
       "      <td>148</td>\n",
       "      <td>243</td>\n",
       "      <td>173</td>\n",
       "    </tr>\n",
       "    <tr>\n",
       "      <th>overweight</th>\n",
       "      <td>98</td>\n",
       "      <td>107</td>\n",
       "      <td>80</td>\n",
       "      <td>101</td>\n",
       "    </tr>\n",
       "    <tr>\n",
       "      <th>underweight</th>\n",
       "      <td>10</td>\n",
       "      <td>7</td>\n",
       "      <td>0</td>\n",
       "      <td>3</td>\n",
       "    </tr>\n",
       "  </tbody>\n",
       "</table>\n",
       "</div>"
      ],
      "text/plain": [
       "region         northeast  northwest  southeast  southwest\n",
       "bmi group                                                \n",
       "normal weight         73         63         41         48\n",
       "obese                143        148        243        173\n",
       "overweight            98        107         80        101\n",
       "underweight           10          7          0          3"
      ]
     },
     "execution_count": 974,
     "metadata": {},
     "output_type": "execute_result"
    }
   ],
   "source": [
    "# contingency table of frequencies\n",
    "Ytab = pd.crosstab(insurance['bmi group'], insurance['region'])\n",
    "Ytab"
   ]
  },
  {
   "cell_type": "code",
   "execution_count": 975,
   "metadata": {},
   "outputs": [
    {
     "name": "stdout",
     "output_type": "stream",
     "text": [
      "p-value of chi-square test: 4.015170331756739e-09\n",
      "chi-square statistic: 57.52\n",
      "contingency table size 16\n"
     ]
    }
   ],
   "source": [
    "# chi-square test\n",
    "chi2, pval, dof, expected = stat.chi2_contingency(Ytab)\n",
    "print('p-value of chi-square test:', pval)\n",
    "print('chi-square statistic:', round(chi2, 2))\n",
    "print('contingency table size', Ytab.size)"
   ]
  },
  {
   "cell_type": "markdown",
   "metadata": {},
   "source": [
    "At a significance level of 0.05, chi-square p-value is significant and chi-square statistic is larger than contingency table size, meaning that there is an association between patient's BMI group and the region they are from.\n",
    "\n",
    "> <span style= 'color:skyblue'> **There is an association between patient's BMI and region** </span>"
   ]
  },
  {
   "cell_type": "markdown",
   "metadata": {},
   "source": [
    "### region and smoking status\n",
    "to count the number of smokers and non-smokers and their proportion in a specific region prompotted by the user:"
   ]
  },
  {
   "cell_type": "code",
   "execution_count": 976,
   "metadata": {},
   "outputs": [
    {
     "name": "stdout",
     "output_type": "stream",
     "text": [
      "In northwest: \n",
      " number of smokers: 58 \t\t 17.85% \n",
      " number of non-smokers: 267 \t 82.15%\n"
     ]
    }
   ],
   "source": [
    "patients.region_smoking('northwest')"
   ]
  },
  {
   "cell_type": "code",
   "execution_count": 977,
   "metadata": {},
   "outputs": [
    {
     "name": "stdout",
     "output_type": "stream",
     "text": [
      "In southwest: \n",
      " number of smokers: 58 \t\t 17.85% \n",
      " number of non-smokers: 267 \t 82.15%\n"
     ]
    }
   ],
   "source": [
    "patients.region_smoking('southwest')"
   ]
  },
  {
   "cell_type": "code",
   "execution_count": 978,
   "metadata": {},
   "outputs": [
    {
     "name": "stdout",
     "output_type": "stream",
     "text": [
      "In northeast: \n",
      " number of smokers: 67 \t\t 20.68% \n",
      " number of non-smokers: 257 \t 79.32%\n"
     ]
    }
   ],
   "source": [
    "patients.region_smoking('northeast')"
   ]
  },
  {
   "cell_type": "code",
   "execution_count": 979,
   "metadata": {
    "scrolled": true
   },
   "outputs": [
    {
     "name": "stdout",
     "output_type": "stream",
     "text": [
      "In southeast: \n",
      " number of smokers: 91 \t\t 25.00% \n",
      " number of non-smokers: 273 \t 75.00%\n"
     ]
    }
   ],
   "source": [
    "patients.region_smoking('southeast')"
   ]
  },
  {
   "cell_type": "markdown",
   "metadata": {},
   "source": [
    "southeast has highest number/proprtion of smokers compared to other regions. The high number/proportion of smokers might contribute to the high insurance cost in southeast.\n",
    "\n",
    "#### Is region and patient's smoking status associated?\n",
    "\n",
    "Let's begin by visualizing the number of smokers and non-smokers in every region:"
   ]
  },
  {
   "cell_type": "code",
   "execution_count": 980,
   "metadata": {
    "scrolled": false
   },
   "outputs": [
    {
     "data": {
      "image/png": "[encoded data removed]",
      "text/plain": [
       "<Figure size 1065.6x360 with 1 Axes>"
      ]
     },
     "metadata": {
      "needs_background": "light"
     },
     "output_type": "display_data"
    }
   ],
   "source": [
    "# plotting smoking-status per region\n",
    "plt.figure(figsize=(14.8,5))\n",
    "sns.countplot(data = insurance, x= 'region', hue= 'smoker', palette= ['powderblue', 'wheat'], order= ['northwest','southwest', 'northeast', 'southeast'])\n",
    "plt.title('smoking status per region')\n",
    "plt.ylabel('number of patients')\n",
    "plt.legend(loc= 'upper left', frameon= False, labels= ['smokers', 'non-smokers'])\n",
    "plt.show()"
   ]
  },
  {
   "cell_type": "markdown",
   "metadata": {},
   "source": [
    "The majority of patients in all the four regions are non-smokers. The four regions have approximately a smiliar number of non-smokers. For smokers, the four regions have slightly varied numbers, with the highest number of smokers in southeast.\n",
    "\n",
    "to check if there is an association between smoking status and region, we will run **Chi-Square** test with the following hypotheses:\n",
    "\n",
    "**H0:** there is *no* association between region and patient's smoking status\n",
    "\n",
    "**H1:** there *is* an association between region and patient's smoking status\n",
    "\n",
    "to run the test, we are assuming that the data is randomly collected and we already know that smoking stauses are mutually exclusive.\n",
    "\n",
    "Let's calculate contingency table of frequencies and compare it to expected values if there is *no* association between region and patient's smoking status:"
   ]
  },
  {
   "cell_type": "code",
   "execution_count": 981,
   "metadata": {},
   "outputs": [
    {
     "data": {
      "text/html": [
       "<div>\n",
       "<style scoped>\n",
       "    .dataframe tbody tr th:only-of-type {\n",
       "        vertical-align: middle;\n",
       "    }\n",
       "\n",
       "    .dataframe tbody tr th {\n",
       "        vertical-align: top;\n",
       "    }\n",
       "\n",
       "    .dataframe thead th {\n",
       "        text-align: right;\n",
       "    }\n",
       "</style>\n",
       "<table border=\"1\" class=\"dataframe\">\n",
       "  <thead>\n",
       "    <tr style=\"text-align: right;\">\n",
       "      <th>smoker</th>\n",
       "      <th>no</th>\n",
       "      <th>yes</th>\n",
       "    </tr>\n",
       "    <tr>\n",
       "      <th>region</th>\n",
       "      <th></th>\n",
       "      <th></th>\n",
       "    </tr>\n",
       "  </thead>\n",
       "  <tbody>\n",
       "    <tr>\n",
       "      <th>northeast</th>\n",
       "      <td>257</td>\n",
       "      <td>67</td>\n",
       "    </tr>\n",
       "    <tr>\n",
       "      <th>northwest</th>\n",
       "      <td>267</td>\n",
       "      <td>58</td>\n",
       "    </tr>\n",
       "    <tr>\n",
       "      <th>southeast</th>\n",
       "      <td>273</td>\n",
       "      <td>91</td>\n",
       "    </tr>\n",
       "    <tr>\n",
       "      <th>southwest</th>\n",
       "      <td>267</td>\n",
       "      <td>58</td>\n",
       "    </tr>\n",
       "  </tbody>\n",
       "</table>\n",
       "</div>"
      ],
      "text/plain": [
       "smoker      no  yes\n",
       "region             \n",
       "northeast  257   67\n",
       "northwest  267   58\n",
       "southeast  273   91\n",
       "southwest  267   58"
      ]
     },
     "execution_count": 981,
     "metadata": {},
     "output_type": "execute_result"
    }
   ],
   "source": [
    "# contingency table of frequencies \"observed\"\n",
    "Ztab = pd.crosstab(insurance.region, insurance.smoker)\n",
    "Ztab"
   ]
  },
  {
   "cell_type": "code",
   "execution_count": 982,
   "metadata": {},
   "outputs": [
    {
     "name": "stdout",
     "output_type": "stream",
     "text": [
      "[[258.  66.]\n",
      " [258.  67.]\n",
      " [289.  75.]\n",
      " [258.  67.]]\n"
     ]
    }
   ],
   "source": [
    "# chi2-square test\n",
    "chi2, pval, dof, expected = stat.chi2_contingency(Ztab)\n",
    "\n",
    "# expected contingency table \"expected\"\n",
    "print(np.round(expected))"
   ]
  },
  {
   "cell_type": "markdown",
   "metadata": {},
   "source": [
    "just by looking, the numbers in contingency table of frequencies and expected are very close to each other. To rephrase it, the expected values when there is *no* association between patient's smoking status and region are smiliar to what we observed from the data, pointing that there is no association between smoking status and region.\n",
    "\n",
    "Yet, we will continue with our test to have a solid conclusion.\n",
    "\n",
    "now, let's see *how* different are obsereved and expected values with numerical value:"
   ]
  },
  {
   "cell_type": "code",
   "execution_count": 983,
   "metadata": {},
   "outputs": [
    {
     "name": "stdout",
     "output_type": "stream",
     "text": [
      "chi-square statistic: 7.34\n",
      "contingency table size: 8\n"
     ]
    }
   ],
   "source": [
    "# chi2\n",
    "print('chi-square statistic:', round(chi2, 2))\n",
    "print('contingency table size:', Ztab.size)"
   ]
  },
  {
   "cell_type": "markdown",
   "metadata": {},
   "source": [
    "the two values are not far from each other, which adds to our evidence that patient's smoking status and region are not associated. \n",
    "\n",
    "lastly, let's print out our chi-square p-value:"
   ]
  },
  {
   "cell_type": "code",
   "execution_count": 984,
   "metadata": {},
   "outputs": [
    {
     "name": "stdout",
     "output_type": "stream",
     "text": [
      "p-value of chi-square test: 0.06\n"
     ]
    }
   ],
   "source": [
    "# chi square p-value\n",
    "print('p-value of chi-square test:', round(pval, 2))"
   ]
  },
  {
   "cell_type": "markdown",
   "metadata": {},
   "source": [
    "at a significance level of 0.05, p-value of chi-square test is slightly larger. We don't reject the null hypothesis and we conclude that whether a patient is a smoker or not isn't associated with the region they are from.\n",
    "> <span style= 'color:skyblue'> **There is no association between patient's smoking status and region** </span>"
   ]
  },
  {
   "cell_type": "markdown",
   "metadata": {},
   "source": [
    "### region and children number\n",
    "\n",
    "we don't have a method in our class to sort patients in a specific region by their number of children.\n",
    "\n",
    "#### Is there an association between the number of children a patient has and the region they are from?\n",
    "\n",
    "I will run a **Chi-square** test with the following hypotheses:\n",
    "\n",
    "**H0:** There is *no* association between patient's children number and the region they are from.\n",
    "\n",
    "**H1:** There *is* an association between patient's children number and the region they are from."
   ]
  },
  {
   "cell_type": "code",
   "execution_count": 985,
   "metadata": {},
   "outputs": [
    {
     "data": {
      "text/html": [
       "<div>\n",
       "<style scoped>\n",
       "    .dataframe tbody tr th:only-of-type {\n",
       "        vertical-align: middle;\n",
       "    }\n",
       "\n",
       "    .dataframe tbody tr th {\n",
       "        vertical-align: top;\n",
       "    }\n",
       "\n",
       "    .dataframe thead th {\n",
       "        text-align: right;\n",
       "    }\n",
       "</style>\n",
       "<table border=\"1\" class=\"dataframe\">\n",
       "  <thead>\n",
       "    <tr style=\"text-align: right;\">\n",
       "      <th>region</th>\n",
       "      <th>northeast</th>\n",
       "      <th>northwest</th>\n",
       "      <th>southeast</th>\n",
       "      <th>southwest</th>\n",
       "    </tr>\n",
       "    <tr>\n",
       "      <th>offspring group</th>\n",
       "      <th></th>\n",
       "      <th></th>\n",
       "      <th></th>\n",
       "      <th></th>\n",
       "    </tr>\n",
       "  </thead>\n",
       "  <tbody>\n",
       "    <tr>\n",
       "      <th>1-3 children</th>\n",
       "      <td>167</td>\n",
       "      <td>186</td>\n",
       "      <td>196</td>\n",
       "      <td>172</td>\n",
       "    </tr>\n",
       "    <tr>\n",
       "      <th>&gt;3 children</th>\n",
       "      <td>10</td>\n",
       "      <td>7</td>\n",
       "      <td>11</td>\n",
       "      <td>15</td>\n",
       "    </tr>\n",
       "    <tr>\n",
       "      <th>no children</th>\n",
       "      <td>147</td>\n",
       "      <td>132</td>\n",
       "      <td>157</td>\n",
       "      <td>138</td>\n",
       "    </tr>\n",
       "  </tbody>\n",
       "</table>\n",
       "</div>"
      ],
      "text/plain": [
       "region           northeast  northwest  southeast  southwest\n",
       "offspring group                                            \n",
       "1-3 children           167        186        196        172\n",
       ">3 children             10          7         11         15\n",
       "no children            147        132        157        138"
      ]
     },
     "execution_count": 985,
     "metadata": {},
     "output_type": "execute_result"
    }
   ],
   "source": [
    "# contingency table of frequencies\n",
    "Wtab= pd.crosstab(insurance['offspring group'], insurance['region'])\n",
    "Wtab"
   ]
  },
  {
   "cell_type": "code",
   "execution_count": 986,
   "metadata": {},
   "outputs": [
    {
     "name": "stdout",
     "output_type": "stream",
     "text": [
      "p-value of chi-square test: 0.53\n"
     ]
    }
   ],
   "source": [
    "# chi-square test\n",
    "chi2, pval, dof, expected = stat.chi2_contingency(Wtab)\n",
    "print('p-value of chi-square test:', round(pval,2))"
   ]
  },
  {
   "cell_type": "markdown",
   "metadata": {},
   "source": [
    "At a significance level of 0.05, chi-square p-value is insignificant meaning that there isn't a significant difference between patient children number of different regions. Therefore, we don't reject the null hypothesis and we conclude that there is no association between the number of children a patient has and the region they are from.\n",
    "> <span style= 'color:skyblue'> **There is no association between patient's children number and region** </span>"
   ]
  },
  {
   "cell_type": "markdown",
   "metadata": {},
   "source": [
    "### region and gender\n",
    "we don't have a method to classify patients in the four regions based on thier gender. Let's visualize the count of females and males in the four regions:"
   ]
  },
  {
   "cell_type": "code",
   "execution_count": 987,
   "metadata": {
    "scrolled": false
   },
   "outputs": [
    {
     "data": {
      "image/png": "[encoded data removed]",
      "text/plain": [
       "<Figure size 720x360 with 1 Axes>"
      ]
     },
     "metadata": {
      "needs_background": "light"
     },
     "output_type": "display_data"
    }
   ],
   "source": [
    "# plotting females vs. males per region\n",
    "plt.figure(figsize=(10,5))\n",
    "sns.countplot(data = insurance, x= 'region', hue= 'sex', palette= ['lightblue', 'papayawhip'], order= ['northwest','southwest', 'northeast', 'southeast'])\n",
    "plt.title('gender per region')\n",
    "plt.ylabel('number of patients')\n",
    "plt.legend(loc= 'best', frameon= False, labels= ['female', 'male'])\n",
    "plt.show()"
   ]
  },
  {
   "cell_type": "markdown",
   "metadata": {},
   "source": [
    "The first four regions have approximately a close number of female and male patients. Southeast has more male patients than females.\n",
    "\n",
    "#### Is there an association between patient's gender has and the region they are from?\n",
    "\n",
    "I will run a **Chi-square** test with the following hypotheses:\n",
    "\n",
    "**H0:** There is *no* association between patient's gender and the region they are from.\n",
    "\n",
    "**H1:** There *is* an association between patient's gender and the region they are from.\n",
    "\n",
    "First, I will get the contingency table of frequencies then plug it in Chi-Square function:"
   ]
  },
  {
   "cell_type": "code",
   "execution_count": 988,
   "metadata": {},
   "outputs": [
    {
     "data": {
      "text/html": [
       "<div>\n",
       "<style scoped>\n",
       "    .dataframe tbody tr th:only-of-type {\n",
       "        vertical-align: middle;\n",
       "    }\n",
       "\n",
       "    .dataframe tbody tr th {\n",
       "        vertical-align: top;\n",
       "    }\n",
       "\n",
       "    .dataframe thead th {\n",
       "        text-align: right;\n",
       "    }\n",
       "</style>\n",
       "<table border=\"1\" class=\"dataframe\">\n",
       "  <thead>\n",
       "    <tr style=\"text-align: right;\">\n",
       "      <th>region</th>\n",
       "      <th>northeast</th>\n",
       "      <th>northwest</th>\n",
       "      <th>southeast</th>\n",
       "      <th>southwest</th>\n",
       "    </tr>\n",
       "    <tr>\n",
       "      <th>sex</th>\n",
       "      <th></th>\n",
       "      <th></th>\n",
       "      <th></th>\n",
       "      <th></th>\n",
       "    </tr>\n",
       "  </thead>\n",
       "  <tbody>\n",
       "    <tr>\n",
       "      <th>female</th>\n",
       "      <td>161</td>\n",
       "      <td>164</td>\n",
       "      <td>175</td>\n",
       "      <td>162</td>\n",
       "    </tr>\n",
       "    <tr>\n",
       "      <th>male</th>\n",
       "      <td>163</td>\n",
       "      <td>161</td>\n",
       "      <td>189</td>\n",
       "      <td>163</td>\n",
       "    </tr>\n",
       "  </tbody>\n",
       "</table>\n",
       "</div>"
      ],
      "text/plain": [
       "region  northeast  northwest  southeast  southwest\n",
       "sex                                               \n",
       "female        161        164        175        162\n",
       "male          163        161        189        163"
      ]
     },
     "execution_count": 988,
     "metadata": {},
     "output_type": "execute_result"
    }
   ],
   "source": [
    "# contingency table of frequencies\n",
    "Gtab = pd.crosstab(insurance.sex, insurance.region)\n",
    "Gtab"
   ]
  },
  {
   "cell_type": "code",
   "execution_count": 989,
   "metadata": {},
   "outputs": [
    {
     "name": "stdout",
     "output_type": "stream",
     "text": [
      "p-value of chi-square test: 0.93\n"
     ]
    }
   ],
   "source": [
    "# chi-square test\n",
    "chi2, pval, dof, expected = stat.chi2_contingency(Gtab)\n",
    "print('p-value of chi-square test:', round(pval,2))"
   ]
  },
  {
   "cell_type": "markdown",
   "metadata": {},
   "source": [
    "At a significance level of 0.05, chi-square p-value is insignificant meaning that there isn't a significant difference between patient gender in different regions. Therefore, we don't reject the null hypothesis and we conclude that there is no association between patient's gender and the region they are from.\n",
    "> <span style= 'color:skyblue'> **There is no association between patient's gender and region** </span>"
   ]
  },
  {
   "cell_type": "markdown",
   "metadata": {},
   "source": [
    "## Conclusions\n",
    "\n",
    "* Insurance cost is affected by patinet's age, BMI, children number and smoking status.\n",
    "* Patient's gender and the region they are from did not significantly effect insurance cost.\n",
    "* Southeastern patients paid the highest insurance cost compared to other regions. Upon further investigation, we concluded that there is an association between the region the patient is from and their BMI, but not their gender, age, smoking status or children number. It's worth nothing that southeastern patients reported the highest BMI."
   ]
  }
 ],
 "metadata": {
  "kernelspec": {
   "display_name": "Python 3 (ipykernel)",
   "language": "python",
   "name": "python3"
  },
  "language_info": {
   "codemirror_mode": {
    "name": "ipython",
    "version": 3
   },
   "file_extension": ".py",
   "mimetype": "text/x-python",
   "name": "python",
   "nbconvert_exporter": "python",
   "pygments_lexer": "ipython3",
   "version": "3.9.5"
  }
 },
 "nbformat": 4,
 "nbformat_minor": 4
}
